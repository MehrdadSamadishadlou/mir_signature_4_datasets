{
  "nbformat": 4,
  "nbformat_minor": 0,
  "metadata": {
    "colab": {
      "name": "MI_CAD_and_then_healthy_allmirs.ipynb",
      "provenance": [],
      "collapsed_sections": [
        "yIqbJMU8d5d3"
      ]
    },
    "kernelspec": {
      "name": "python3",
      "display_name": "Python 3"
    },
    "language_info": {
      "name": "python"
    }
  },
  "cells": [
    {
      "cell_type": "code",
      "execution_count": 1,
      "metadata": {
        "id": "AzfMnorSdbuY"
      },
      "outputs": [],
      "source": [
        "import pandas as pd\n",
        "import numpy as np\n",
        "import matplotlib.pyplot as plt\n",
        "import seaborn as sns\n",
        "from sklearn.utils import resample\n",
        "from sklearn.model_selection import train_test_split\n",
        "from sklearn.svm import SVC\n",
        "from sklearn.model_selection import GridSearchCV\n",
        "from sklearn.model_selection import cross_val_score, cross_validate\n",
        "from sklearn.metrics import confusion_matrix, classification_report, recall_score\n",
        "from sklearn.model_selection import KFold\n",
        "from sklearn.preprocessing import label_binarize\n",
        "from itertools import cycle\n",
        "from sklearn.preprocessing import LabelEncoder\n",
        "from sklearn.multiclass import OneVsRestClassifier\n",
        "from sklearn.metrics import roc_auc_score\n",
        "from sklearn.metrics import roc_curve, auc\n",
        "from scipy import interp\n",
        "from sklearn.model_selection import StratifiedKFold"
      ]
    },
    {
      "cell_type": "markdown",
      "source": [
        "# Loading and Preparing the Data"
      ],
      "metadata": {
        "id": "yIqbJMU8d5d3"
      }
    },
    {
      "cell_type": "code",
      "source": [
        "mi_h=pd.read_csv(\"DEMsExpression.csv\")\n",
        "cad=pd.read_csv(\"MI-Healthy DEMs Expression of CAD samples.csv\")\n",
        "df=pd.concat([mi_h, cad], axis=0)\n",
        "\n",
        "target = []\n",
        "for sample in df['Unnamed: 0']:\n",
        "    if sample[-1] == \"H\":\n",
        "        target.append(\"Healthy\")\n",
        "    elif sample[-1] == \"M\":\n",
        "        target.append(\"MI\")\n",
        "    elif sample[-1] == \"C\":\n",
        "        target.append(\"CAD\")\n",
        "\n",
        "df[\"MI status\"] = target\n",
        "df.drop('Unnamed: 0', axis=1, inplace = True)"
      ],
      "metadata": {
        "id": "7tZXLD2beDJ-"
      },
      "execution_count": 2,
      "outputs": []
    },
    {
      "cell_type": "code",
      "source": [
        "df.head()"
      ],
      "metadata": {
        "colab": {
          "base_uri": "https://localhost:8080/",
          "height": 0
        },
        "id": "Q6zb3aO2fICo",
        "outputId": "d33af14b-cd50-4cb0-bec0-c5c431df788f"
      },
      "execution_count": 3,
      "outputs": [
        {
          "output_type": "execute_result",
          "data": {
            "text/html": [
              "\n",
              "  <div id=\"df-aa27a19c-e009-4408-b368-df60ea88860f\">\n",
              "    <div class=\"colab-df-container\">\n",
              "      <div>\n",
              "<style scoped>\n",
              "    .dataframe tbody tr th:only-of-type {\n",
              "        vertical-align: middle;\n",
              "    }\n",
              "\n",
              "    .dataframe tbody tr th {\n",
              "        vertical-align: top;\n",
              "    }\n",
              "\n",
              "    .dataframe thead th {\n",
              "        text-align: right;\n",
              "    }\n",
              "</style>\n",
              "<table border=\"1\" class=\"dataframe\">\n",
              "  <thead>\n",
              "    <tr style=\"text-align: right;\">\n",
              "      <th></th>\n",
              "      <th>7900488 / MIR30E</th>\n",
              "      <th>7923976 / C1orf132///MIR29B2</th>\n",
              "      <th>7971661 / MIR15A</th>\n",
              "      <th>7976832 / MIR323A</th>\n",
              "      <th>8008885 / MIR21</th>\n",
              "      <th>8045453 / MIR128-1</th>\n",
              "      <th>8084755 / MIR28</th>\n",
              "      <th>8087881 / MIRLET7G</th>\n",
              "      <th>8163107 / MIR32</th>\n",
              "      <th>8175248 / MIR92A2</th>\n",
              "      <th>MI status</th>\n",
              "    </tr>\n",
              "  </thead>\n",
              "  <tbody>\n",
              "    <tr>\n",
              "      <th>0</th>\n",
              "      <td>5.86237</td>\n",
              "      <td>4.17884</td>\n",
              "      <td>5.93182</td>\n",
              "      <td>3.31011</td>\n",
              "      <td>8.79683</td>\n",
              "      <td>4.71189</td>\n",
              "      <td>3.45519</td>\n",
              "      <td>7.52580</td>\n",
              "      <td>6.67709</td>\n",
              "      <td>3.16477</td>\n",
              "      <td>Healthy</td>\n",
              "    </tr>\n",
              "    <tr>\n",
              "      <th>1</th>\n",
              "      <td>5.61056</td>\n",
              "      <td>3.90262</td>\n",
              "      <td>6.09685</td>\n",
              "      <td>3.54984</td>\n",
              "      <td>9.09161</td>\n",
              "      <td>4.82916</td>\n",
              "      <td>3.52235</td>\n",
              "      <td>7.55883</td>\n",
              "      <td>6.60037</td>\n",
              "      <td>3.14140</td>\n",
              "      <td>Healthy</td>\n",
              "    </tr>\n",
              "    <tr>\n",
              "      <th>2</th>\n",
              "      <td>6.47634</td>\n",
              "      <td>4.42823</td>\n",
              "      <td>6.45591</td>\n",
              "      <td>3.78296</td>\n",
              "      <td>9.46479</td>\n",
              "      <td>4.56398</td>\n",
              "      <td>3.64562</td>\n",
              "      <td>7.69815</td>\n",
              "      <td>6.91699</td>\n",
              "      <td>3.05517</td>\n",
              "      <td>Healthy</td>\n",
              "    </tr>\n",
              "    <tr>\n",
              "      <th>3</th>\n",
              "      <td>6.29086</td>\n",
              "      <td>4.16566</td>\n",
              "      <td>6.38480</td>\n",
              "      <td>3.47636</td>\n",
              "      <td>9.16028</td>\n",
              "      <td>4.41579</td>\n",
              "      <td>3.72838</td>\n",
              "      <td>7.59828</td>\n",
              "      <td>6.30052</td>\n",
              "      <td>3.05037</td>\n",
              "      <td>Healthy</td>\n",
              "    </tr>\n",
              "    <tr>\n",
              "      <th>4</th>\n",
              "      <td>5.42813</td>\n",
              "      <td>3.83066</td>\n",
              "      <td>6.30655</td>\n",
              "      <td>3.82938</td>\n",
              "      <td>8.31414</td>\n",
              "      <td>4.49369</td>\n",
              "      <td>3.53013</td>\n",
              "      <td>7.36374</td>\n",
              "      <td>6.18958</td>\n",
              "      <td>2.99243</td>\n",
              "      <td>Healthy</td>\n",
              "    </tr>\n",
              "  </tbody>\n",
              "</table>\n",
              "</div>\n",
              "      <button class=\"colab-df-convert\" onclick=\"convertToInteractive('df-aa27a19c-e009-4408-b368-df60ea88860f')\"\n",
              "              title=\"Convert this dataframe to an interactive table.\"\n",
              "              style=\"display:none;\">\n",
              "        \n",
              "  <svg xmlns=\"http://www.w3.org/2000/svg\" height=\"24px\"viewBox=\"0 0 24 24\"\n",
              "       width=\"24px\">\n",
              "    <path d=\"M0 0h24v24H0V0z\" fill=\"none\"/>\n",
              "    <path d=\"M18.56 5.44l.94 2.06.94-2.06 2.06-.94-2.06-.94-.94-2.06-.94 2.06-2.06.94zm-11 1L8.5 8.5l.94-2.06 2.06-.94-2.06-.94L8.5 2.5l-.94 2.06-2.06.94zm10 10l.94 2.06.94-2.06 2.06-.94-2.06-.94-.94-2.06-.94 2.06-2.06.94z\"/><path d=\"M17.41 7.96l-1.37-1.37c-.4-.4-.92-.59-1.43-.59-.52 0-1.04.2-1.43.59L10.3 9.45l-7.72 7.72c-.78.78-.78 2.05 0 2.83L4 21.41c.39.39.9.59 1.41.59.51 0 1.02-.2 1.41-.59l7.78-7.78 2.81-2.81c.8-.78.8-2.07 0-2.86zM5.41 20L4 18.59l7.72-7.72 1.47 1.35L5.41 20z\"/>\n",
              "  </svg>\n",
              "      </button>\n",
              "      \n",
              "  <style>\n",
              "    .colab-df-container {\n",
              "      display:flex;\n",
              "      flex-wrap:wrap;\n",
              "      gap: 12px;\n",
              "    }\n",
              "\n",
              "    .colab-df-convert {\n",
              "      background-color: #E8F0FE;\n",
              "      border: none;\n",
              "      border-radius: 50%;\n",
              "      cursor: pointer;\n",
              "      display: none;\n",
              "      fill: #1967D2;\n",
              "      height: 32px;\n",
              "      padding: 0 0 0 0;\n",
              "      width: 32px;\n",
              "    }\n",
              "\n",
              "    .colab-df-convert:hover {\n",
              "      background-color: #E2EBFA;\n",
              "      box-shadow: 0px 1px 2px rgba(60, 64, 67, 0.3), 0px 1px 3px 1px rgba(60, 64, 67, 0.15);\n",
              "      fill: #174EA6;\n",
              "    }\n",
              "\n",
              "    [theme=dark] .colab-df-convert {\n",
              "      background-color: #3B4455;\n",
              "      fill: #D2E3FC;\n",
              "    }\n",
              "\n",
              "    [theme=dark] .colab-df-convert:hover {\n",
              "      background-color: #434B5C;\n",
              "      box-shadow: 0px 1px 3px 1px rgba(0, 0, 0, 0.15);\n",
              "      filter: drop-shadow(0px 1px 2px rgba(0, 0, 0, 0.3));\n",
              "      fill: #FFFFFF;\n",
              "    }\n",
              "  </style>\n",
              "\n",
              "      <script>\n",
              "        const buttonEl =\n",
              "          document.querySelector('#df-aa27a19c-e009-4408-b368-df60ea88860f button.colab-df-convert');\n",
              "        buttonEl.style.display =\n",
              "          google.colab.kernel.accessAllowed ? 'block' : 'none';\n",
              "\n",
              "        async function convertToInteractive(key) {\n",
              "          const element = document.querySelector('#df-aa27a19c-e009-4408-b368-df60ea88860f');\n",
              "          const dataTable =\n",
              "            await google.colab.kernel.invokeFunction('convertToInteractive',\n",
              "                                                     [key], {});\n",
              "          if (!dataTable) return;\n",
              "\n",
              "          const docLinkHtml = 'Like what you see? Visit the ' +\n",
              "            '<a target=\"_blank\" href=https://colab.research.google.com/notebooks/data_table.ipynb>data table notebook</a>'\n",
              "            + ' to learn more about interactive tables.';\n",
              "          element.innerHTML = '';\n",
              "          dataTable['output_type'] = 'display_data';\n",
              "          await google.colab.output.renderOutput(dataTable, element);\n",
              "          const docLink = document.createElement('div');\n",
              "          docLink.innerHTML = docLinkHtml;\n",
              "          element.appendChild(docLink);\n",
              "        }\n",
              "      </script>\n",
              "    </div>\n",
              "  </div>\n",
              "  "
            ],
            "text/plain": [
              "   7900488 / MIR30E  7923976 / C1orf132///MIR29B2  7971661 / MIR15A  \\\n",
              "0           5.86237                       4.17884           5.93182   \n",
              "1           5.61056                       3.90262           6.09685   \n",
              "2           6.47634                       4.42823           6.45591   \n",
              "3           6.29086                       4.16566           6.38480   \n",
              "4           5.42813                       3.83066           6.30655   \n",
              "\n",
              "   7976832 / MIR323A  8008885 / MIR21  8045453 / MIR128-1  8084755 / MIR28  \\\n",
              "0            3.31011          8.79683             4.71189          3.45519   \n",
              "1            3.54984          9.09161             4.82916          3.52235   \n",
              "2            3.78296          9.46479             4.56398          3.64562   \n",
              "3            3.47636          9.16028             4.41579          3.72838   \n",
              "4            3.82938          8.31414             4.49369          3.53013   \n",
              "\n",
              "   8087881 / MIRLET7G  8163107 / MIR32  8175248 / MIR92A2 MI status  \n",
              "0             7.52580          6.67709            3.16477   Healthy  \n",
              "1             7.55883          6.60037            3.14140   Healthy  \n",
              "2             7.69815          6.91699            3.05517   Healthy  \n",
              "3             7.59828          6.30052            3.05037   Healthy  \n",
              "4             7.36374          6.18958            2.99243   Healthy  "
            ]
          },
          "metadata": {},
          "execution_count": 3
        }
      ]
    },
    {
      "cell_type": "code",
      "source": [
        "df.shape"
      ],
      "metadata": {
        "colab": {
          "base_uri": "https://localhost:8080/"
        },
        "id": "j-WCn5HwQqCo",
        "outputId": "73920c0d-d7c5-4f4b-dafc-6ac3a0df4e35"
      },
      "execution_count": 4,
      "outputs": [
        {
          "output_type": "execute_result",
          "data": {
            "text/plain": [
              "(250, 11)"
            ]
          },
          "metadata": {},
          "execution_count": 4
        }
      ]
    },
    {
      "cell_type": "markdown",
      "source": [
        "# Exploratory Data Analysis"
      ],
      "metadata": {
        "id": "QZP9sjTqgoKn"
      }
    },
    {
      "cell_type": "code",
      "source": [
        "df.describe().T"
      ],
      "metadata": {
        "colab": {
          "base_uri": "https://localhost:8080/",
          "height": 363
        },
        "id": "2diixem2gnmn",
        "outputId": "25950e5a-2402-4589-8f62-9c51514460d4"
      },
      "execution_count": 6,
      "outputs": [
        {
          "output_type": "execute_result",
          "data": {
            "text/html": [
              "\n",
              "  <div id=\"df-9f9debdd-f064-4bab-a95f-6cca45344b10\">\n",
              "    <div class=\"colab-df-container\">\n",
              "      <div>\n",
              "<style scoped>\n",
              "    .dataframe tbody tr th:only-of-type {\n",
              "        vertical-align: middle;\n",
              "    }\n",
              "\n",
              "    .dataframe tbody tr th {\n",
              "        vertical-align: top;\n",
              "    }\n",
              "\n",
              "    .dataframe thead th {\n",
              "        text-align: right;\n",
              "    }\n",
              "</style>\n",
              "<table border=\"1\" class=\"dataframe\">\n",
              "  <thead>\n",
              "    <tr style=\"text-align: right;\">\n",
              "      <th></th>\n",
              "      <th>count</th>\n",
              "      <th>mean</th>\n",
              "      <th>std</th>\n",
              "      <th>min</th>\n",
              "      <th>25%</th>\n",
              "      <th>50%</th>\n",
              "      <th>75%</th>\n",
              "      <th>max</th>\n",
              "    </tr>\n",
              "  </thead>\n",
              "  <tbody>\n",
              "    <tr>\n",
              "      <th>7900488 / MIR30E</th>\n",
              "      <td>250.0</td>\n",
              "      <td>7.450548</td>\n",
              "      <td>0.607236</td>\n",
              "      <td>5.356128</td>\n",
              "      <td>7.199537</td>\n",
              "      <td>7.633360</td>\n",
              "      <td>7.867915</td>\n",
              "      <td>8.360230</td>\n",
              "    </tr>\n",
              "    <tr>\n",
              "      <th>7923976 / C1orf132///MIR29B2</th>\n",
              "      <td>250.0</td>\n",
              "      <td>5.384517</td>\n",
              "      <td>0.655981</td>\n",
              "      <td>3.628750</td>\n",
              "      <td>5.232723</td>\n",
              "      <td>5.600820</td>\n",
              "      <td>5.820860</td>\n",
              "      <td>6.509030</td>\n",
              "    </tr>\n",
              "    <tr>\n",
              "      <th>7971661 / MIR15A</th>\n",
              "      <td>250.0</td>\n",
              "      <td>6.990930</td>\n",
              "      <td>0.600481</td>\n",
              "      <td>5.072702</td>\n",
              "      <td>6.717252</td>\n",
              "      <td>7.124750</td>\n",
              "      <td>7.360918</td>\n",
              "      <td>8.311290</td>\n",
              "    </tr>\n",
              "    <tr>\n",
              "      <th>7976832 / MIR323A</th>\n",
              "      <td>250.0</td>\n",
              "      <td>3.548375</td>\n",
              "      <td>0.548304</td>\n",
              "      <td>2.870420</td>\n",
              "      <td>3.200370</td>\n",
              "      <td>3.345095</td>\n",
              "      <td>3.610920</td>\n",
              "      <td>5.171396</td>\n",
              "    </tr>\n",
              "    <tr>\n",
              "      <th>8008885 / MIR21</th>\n",
              "      <td>250.0</td>\n",
              "      <td>10.115399</td>\n",
              "      <td>0.952993</td>\n",
              "      <td>6.982273</td>\n",
              "      <td>9.503113</td>\n",
              "      <td>10.320200</td>\n",
              "      <td>10.771200</td>\n",
              "      <td>12.349500</td>\n",
              "    </tr>\n",
              "    <tr>\n",
              "      <th>8045453 / MIR128-1</th>\n",
              "      <td>250.0</td>\n",
              "      <td>5.643931</td>\n",
              "      <td>0.556826</td>\n",
              "      <td>4.081839</td>\n",
              "      <td>5.548987</td>\n",
              "      <td>5.816710</td>\n",
              "      <td>6.024390</td>\n",
              "      <td>6.386390</td>\n",
              "    </tr>\n",
              "    <tr>\n",
              "      <th>8084755 / MIR28</th>\n",
              "      <td>250.0</td>\n",
              "      <td>5.181250</td>\n",
              "      <td>0.812016</td>\n",
              "      <td>3.365152</td>\n",
              "      <td>5.001390</td>\n",
              "      <td>5.478615</td>\n",
              "      <td>5.723738</td>\n",
              "      <td>6.492950</td>\n",
              "    </tr>\n",
              "    <tr>\n",
              "      <th>8087881 / MIRLET7G</th>\n",
              "      <td>250.0</td>\n",
              "      <td>7.821840</td>\n",
              "      <td>0.667161</td>\n",
              "      <td>5.664453</td>\n",
              "      <td>7.559920</td>\n",
              "      <td>7.975815</td>\n",
              "      <td>8.265690</td>\n",
              "      <td>9.254780</td>\n",
              "    </tr>\n",
              "    <tr>\n",
              "      <th>8163107 / MIR32</th>\n",
              "      <td>250.0</td>\n",
              "      <td>7.565765</td>\n",
              "      <td>0.821758</td>\n",
              "      <td>4.744559</td>\n",
              "      <td>7.351542</td>\n",
              "      <td>7.817910</td>\n",
              "      <td>8.111895</td>\n",
              "      <td>8.957920</td>\n",
              "    </tr>\n",
              "    <tr>\n",
              "      <th>8175248 / MIR92A2</th>\n",
              "      <td>250.0</td>\n",
              "      <td>2.938011</td>\n",
              "      <td>0.435897</td>\n",
              "      <td>2.463260</td>\n",
              "      <td>2.647992</td>\n",
              "      <td>2.757300</td>\n",
              "      <td>2.960275</td>\n",
              "      <td>4.055258</td>\n",
              "    </tr>\n",
              "  </tbody>\n",
              "</table>\n",
              "</div>\n",
              "      <button class=\"colab-df-convert\" onclick=\"convertToInteractive('df-9f9debdd-f064-4bab-a95f-6cca45344b10')\"\n",
              "              title=\"Convert this dataframe to an interactive table.\"\n",
              "              style=\"display:none;\">\n",
              "        \n",
              "  <svg xmlns=\"http://www.w3.org/2000/svg\" height=\"24px\"viewBox=\"0 0 24 24\"\n",
              "       width=\"24px\">\n",
              "    <path d=\"M0 0h24v24H0V0z\" fill=\"none\"/>\n",
              "    <path d=\"M18.56 5.44l.94 2.06.94-2.06 2.06-.94-2.06-.94-.94-2.06-.94 2.06-2.06.94zm-11 1L8.5 8.5l.94-2.06 2.06-.94-2.06-.94L8.5 2.5l-.94 2.06-2.06.94zm10 10l.94 2.06.94-2.06 2.06-.94-2.06-.94-.94-2.06-.94 2.06-2.06.94z\"/><path d=\"M17.41 7.96l-1.37-1.37c-.4-.4-.92-.59-1.43-.59-.52 0-1.04.2-1.43.59L10.3 9.45l-7.72 7.72c-.78.78-.78 2.05 0 2.83L4 21.41c.39.39.9.59 1.41.59.51 0 1.02-.2 1.41-.59l7.78-7.78 2.81-2.81c.8-.78.8-2.07 0-2.86zM5.41 20L4 18.59l7.72-7.72 1.47 1.35L5.41 20z\"/>\n",
              "  </svg>\n",
              "      </button>\n",
              "      \n",
              "  <style>\n",
              "    .colab-df-container {\n",
              "      display:flex;\n",
              "      flex-wrap:wrap;\n",
              "      gap: 12px;\n",
              "    }\n",
              "\n",
              "    .colab-df-convert {\n",
              "      background-color: #E8F0FE;\n",
              "      border: none;\n",
              "      border-radius: 50%;\n",
              "      cursor: pointer;\n",
              "      display: none;\n",
              "      fill: #1967D2;\n",
              "      height: 32px;\n",
              "      padding: 0 0 0 0;\n",
              "      width: 32px;\n",
              "    }\n",
              "\n",
              "    .colab-df-convert:hover {\n",
              "      background-color: #E2EBFA;\n",
              "      box-shadow: 0px 1px 2px rgba(60, 64, 67, 0.3), 0px 1px 3px 1px rgba(60, 64, 67, 0.15);\n",
              "      fill: #174EA6;\n",
              "    }\n",
              "\n",
              "    [theme=dark] .colab-df-convert {\n",
              "      background-color: #3B4455;\n",
              "      fill: #D2E3FC;\n",
              "    }\n",
              "\n",
              "    [theme=dark] .colab-df-convert:hover {\n",
              "      background-color: #434B5C;\n",
              "      box-shadow: 0px 1px 3px 1px rgba(0, 0, 0, 0.15);\n",
              "      filter: drop-shadow(0px 1px 2px rgba(0, 0, 0, 0.3));\n",
              "      fill: #FFFFFF;\n",
              "    }\n",
              "  </style>\n",
              "\n",
              "      <script>\n",
              "        const buttonEl =\n",
              "          document.querySelector('#df-9f9debdd-f064-4bab-a95f-6cca45344b10 button.colab-df-convert');\n",
              "        buttonEl.style.display =\n",
              "          google.colab.kernel.accessAllowed ? 'block' : 'none';\n",
              "\n",
              "        async function convertToInteractive(key) {\n",
              "          const element = document.querySelector('#df-9f9debdd-f064-4bab-a95f-6cca45344b10');\n",
              "          const dataTable =\n",
              "            await google.colab.kernel.invokeFunction('convertToInteractive',\n",
              "                                                     [key], {});\n",
              "          if (!dataTable) return;\n",
              "\n",
              "          const docLinkHtml = 'Like what you see? Visit the ' +\n",
              "            '<a target=\"_blank\" href=https://colab.research.google.com/notebooks/data_table.ipynb>data table notebook</a>'\n",
              "            + ' to learn more about interactive tables.';\n",
              "          element.innerHTML = '';\n",
              "          dataTable['output_type'] = 'display_data';\n",
              "          await google.colab.output.renderOutput(dataTable, element);\n",
              "          const docLink = document.createElement('div');\n",
              "          docLink.innerHTML = docLinkHtml;\n",
              "          element.appendChild(docLink);\n",
              "        }\n",
              "      </script>\n",
              "    </div>\n",
              "  </div>\n",
              "  "
            ],
            "text/plain": [
              "                              count       mean       std       min       25%  \\\n",
              "7900488 / MIR30E              250.0   7.450548  0.607236  5.356128  7.199537   \n",
              "7923976 / C1orf132///MIR29B2  250.0   5.384517  0.655981  3.628750  5.232723   \n",
              "7971661 / MIR15A              250.0   6.990930  0.600481  5.072702  6.717252   \n",
              "7976832 / MIR323A             250.0   3.548375  0.548304  2.870420  3.200370   \n",
              "8008885 / MIR21               250.0  10.115399  0.952993  6.982273  9.503113   \n",
              "8045453 / MIR128-1            250.0   5.643931  0.556826  4.081839  5.548987   \n",
              "8084755 / MIR28               250.0   5.181250  0.812016  3.365152  5.001390   \n",
              "8087881 / MIRLET7G            250.0   7.821840  0.667161  5.664453  7.559920   \n",
              "8163107 / MIR32               250.0   7.565765  0.821758  4.744559  7.351542   \n",
              "8175248 / MIR92A2             250.0   2.938011  0.435897  2.463260  2.647992   \n",
              "\n",
              "                                    50%        75%        max  \n",
              "7900488 / MIR30E               7.633360   7.867915   8.360230  \n",
              "7923976 / C1orf132///MIR29B2   5.600820   5.820860   6.509030  \n",
              "7971661 / MIR15A               7.124750   7.360918   8.311290  \n",
              "7976832 / MIR323A              3.345095   3.610920   5.171396  \n",
              "8008885 / MIR21               10.320200  10.771200  12.349500  \n",
              "8045453 / MIR128-1             5.816710   6.024390   6.386390  \n",
              "8084755 / MIR28                5.478615   5.723738   6.492950  \n",
              "8087881 / MIRLET7G             7.975815   8.265690   9.254780  \n",
              "8163107 / MIR32                7.817910   8.111895   8.957920  \n",
              "8175248 / MIR92A2              2.757300   2.960275   4.055258  "
            ]
          },
          "metadata": {},
          "execution_count": 6
        }
      ]
    },
    {
      "cell_type": "code",
      "source": [
        "plt.figure(figsize=(15,10))\n",
        "sns.set(font_scale=1.5)\n",
        "sns.heatmap(df.corr(),vmax=1,square=True, annot=True, cmap='viridis')\n",
        "plt.title('Correlation')\n",
        "plt.show()\n",
        "plt.savefig('corrforall.pdf', bbox_inches='tight')"
      ],
      "metadata": {
        "colab": {
          "base_uri": "https://localhost:8080/",
          "height": 833
        },
        "id": "3EFnVeopg8P0",
        "outputId": "0e6cfcba-ec69-4387-97c7-d9730452c820"
      },
      "execution_count": 7,
      "outputs": [
        {
          "output_type": "display_data",
          "data": {
            "image/png": "[encoded data removed]",
            "text/plain": [
              "<Figure size 1080x720 with 2 Axes>"
            ]
          },
          "metadata": {
            "needs_background": "light"
          }
        },
        {
          "output_type": "display_data",
          "data": {
            "text/plain": [
              "<Figure size 432x288 with 0 Axes>"
            ]
          },
          "metadata": {}
        }
      ]
    },
    {
      "cell_type": "code",
      "source": [
        "df_melt=pd.melt(df, id_vars='MI status')"
      ],
      "metadata": {
        "id": "h_AcpCVtCw0B"
      },
      "execution_count": 8,
      "outputs": []
    },
    {
      "cell_type": "code",
      "source": [
        "plt.figure(figsize=(20,10))\n",
        "sns.boxplot(x=\"variable\", y=\"value\", hue='MI status', data=df_melt);\n",
        "plt.ylabel('', fontsize = 20)\n",
        "plt.xlabel('', fontsize = 20)\n",
        "plt.legend(loc='upper right', prop={'size':20})\n",
        "plt.tick_params(axis='x', which='major', labelsize=15, rotation=90)\n",
        "plt.tick_params(axis='both', which='major', labelsize=16)\n",
        "plt.savefig('Expressionforall.pdf', bbox_inches='tight')"
      ],
      "metadata": {
        "colab": {
          "base_uri": "https://localhost:8080/",
          "height": 651
        },
        "outputId": "f7e27173-c8f8-4d91-c785-06c0ec016f4a",
        "id": "QHQAqYJHCw0B"
      },
      "execution_count": 9,
      "outputs": [
        {
          "output_type": "display_data",
          "data": {
            "image/png": "[encoded data removed]",
            "text/plain": [
              "<Figure size 1440x720 with 1 Axes>"
            ]
          },
          "metadata": {}
        }
      ]
    },
    {
      "cell_type": "markdown",
      "source": [
        "## Adding a target columns for further use"
      ],
      "metadata": {
        "id": "Fxr8dhKWhnpt"
      }
    },
    {
      "cell_type": "code",
      "source": [
        "df['H or M/C']=df['MI status']\n",
        "df['H or M/C'][df['H or M/C'] != 'Healthy'] = 'Not_Healthy'"
      ],
      "metadata": {
        "colab": {
          "base_uri": "https://localhost:8080/"
        },
        "id": "ZnAqGGFzh4YQ",
        "outputId": "e8a8e0fa-ee9f-455f-948a-a25fad5b3d7a"
      },
      "execution_count": 10,
      "outputs": [
        {
          "output_type": "stream",
          "name": "stderr",
          "text": [
            "/usr/local/lib/python3.7/dist-packages/ipykernel_launcher.py:2: SettingWithCopyWarning: \n",
            "A value is trying to be set on a copy of a slice from a DataFrame\n",
            "\n",
            "See the caveats in the documentation: https://pandas.pydata.org/pandas-docs/stable/user_guide/indexing.html#returning-a-view-versus-a-copy\n",
            "  \n"
          ]
        }
      ]
    },
    {
      "cell_type": "markdown",
      "source": [
        "# Healthy or MI/CAD"
      ],
      "metadata": {
        "id": "DGq-CfZBoJwE"
      }
    },
    {
      "cell_type": "code",
      "source": [
        "scoring = ['precision_weighted', 'accuracy']"
      ],
      "metadata": {
        "id": "gBtSRFbmxpJU"
      },
      "execution_count": 16,
      "outputs": []
    },
    {
      "cell_type": "code",
      "source": [
        "mirs=list(df.columns)[0:10]\n",
        "result=[]\n",
        "for mir in mirs:\n",
        "  X_temp=pd.DataFrame(df[mir])\n",
        "  y_temp = df['H or M/C']\n",
        "  cv=StratifiedKFold(n_splits=10)\n",
        "  svm=SVC(kernel='linear', random_state=1)\n",
        "  scores = cross_validate(svm, X_temp, y_temp, scoring=scoring, cv=cv,\n",
        "                          n_jobs=-1, return_train_score=True)\n",
        "  scores=pd.DataFrame(scores)\n",
        "  result.append([mir, list(scores.mean(axis=0))])"
      ],
      "metadata": {
        "id": "B1H78MArqEy_"
      },
      "execution_count": 17,
      "outputs": []
    },
    {
      "cell_type": "code",
      "source": [
        "result"
      ],
      "metadata": {
        "colab": {
          "base_uri": "https://localhost:8080/"
        },
        "id": "dfgyvl03pmPL",
        "outputId": "1b61bb21-10d6-45ff-a3bf-08d2ed97e157"
      },
      "execution_count": 20,
      "outputs": [
        {
          "output_type": "execute_result",
          "data": {
            "text/plain": [
              "[['7900488 / MIR30E',\n",
              "  [0.008051681518554687,\n",
              "   0.007809233665466308,\n",
              "   0.9466103896103896,\n",
              "   0.9473745210388284,\n",
              "   0.9440000000000002,\n",
              "   0.9480000000000001]],\n",
              " ['7923976 / C1orf132///MIR29B2',\n",
              "  [0.00880570411682129,\n",
              "   0.007633185386657715,\n",
              "   0.9893939393939395,\n",
              "   0.996520300133621,\n",
              "   0.9880000000000001,\n",
              "   0.9964444444444445]],\n",
              " ['7971661 / MIR15A',\n",
              "  [0.008609914779663086,\n",
              "   0.008415627479553222,\n",
              "   0.9445089542036911,\n",
              "   0.9520049976637106,\n",
              "   0.9440000000000002,\n",
              "   0.952]],\n",
              " ['7976832 / MIR323A',\n",
              "  [0.006073999404907227,\n",
              "   0.004375147819519043,\n",
              "   0.9841666666666666,\n",
              "   0.9796831448792054,\n",
              "   0.9800000000000001,\n",
              "   0.979111111111111]],\n",
              " ['8008885 / MIR21',\n",
              "  [0.0054311990737915036,\n",
              "   0.004411101341247559,\n",
              "   0.8832087960348829,\n",
              "   0.878586562012765,\n",
              "   0.852,\n",
              "   0.8844444444444444]],\n",
              " ['8045453 / MIR128-1',\n",
              "  [0.004654383659362793, 0.004415464401245117, 1.0, 1.0, 1.0, 1.0]],\n",
              " ['8084755 / MIR28',\n",
              "  [0.005996346473693848,\n",
              "   0.003936982154846192,\n",
              "   0.9928571428571429,\n",
              "   0.992446913580247,\n",
              "   0.992,\n",
              "   0.9924444444444445]],\n",
              " ['8087881 / MIRLET7G',\n",
              "  [0.005781221389770508,\n",
              "   0.00568382740020752,\n",
              "   0.9395021645021645,\n",
              "   0.9298194235862549,\n",
              "   0.9199999999999999,\n",
              "   0.9311111111111112]],\n",
              " ['8163107 / MIR32',\n",
              "  [0.004508423805236817,\n",
              "   0.005743670463562012,\n",
              "   0.9788225108225109,\n",
              "   0.9792785198781605,\n",
              "   0.9760000000000002,\n",
              "   0.9791111111111113]],\n",
              " ['8175248 / MIR92A2',\n",
              "  [0.004166626930236816,\n",
              "   0.003984999656677246,\n",
              "   0.9841666666666666,\n",
              "   0.9805434782608696,\n",
              "   0.9800000000000001,\n",
              "   0.9800000000000001]]]"
            ]
          },
          "metadata": {},
          "execution_count": 20
        }
      ]
    },
    {
      "cell_type": "markdown",
      "source": [
        "The best candidates are mir-128-1 with all 0.99 scores and mir-323a with scores near 0.98, and mir-29B2  over 0.99 and 92A2 = 98. It should be mentioned that the data is highly imbalanced."
      ],
      "metadata": {
        "id": "2fPRvutnC178"
      }
    },
    {
      "cell_type": "code",
      "source": [
        "cross_val_predict"
      ],
      "metadata": {
        "id": "ILJi4d9tgW2p"
      },
      "execution_count": null,
      "outputs": []
    },
    {
      "cell_type": "markdown",
      "source": [
        "# MI/CAD"
      ],
      "metadata": {
        "id": "jIASzP_cSoW-"
      }
    },
    {
      "cell_type": "code",
      "execution_count": 22,
      "metadata": {
        "id": "0KbxmG7P8pmT"
      },
      "outputs": [],
      "source": [
        "df_mc=df[df['MI status'] != 'Healthy']\n",
        "X=df_mc.drop(['MI status', 'H or M/C'], axis=1)\n",
        "y=df_mc['MI status']"
      ]
    },
    {
      "cell_type": "code",
      "execution_count": 23,
      "metadata": {
        "id": "xh_9L_Q58pmU"
      },
      "outputs": [],
      "source": [
        "X_train,X_test,y_train,y_test=train_test_split(X, y, test_size=0.3, random_state=1, stratify=y)"
      ]
    },
    {
      "cell_type": "code",
      "source": [
        "X=pd.concat([X_train,y_train],axis=1)\n",
        "X['MI status'].value_counts()"
      ],
      "metadata": {
        "colab": {
          "base_uri": "https://localhost:8080/"
        },
        "id": "KGgFh60HZecO",
        "outputId": "cacca24a-5e9a-44d8-c9a3-3c5f4f0c1b17"
      },
      "execution_count": 24,
      "outputs": [
        {
          "output_type": "execute_result",
          "data": {
            "text/plain": [
              "MI     97\n",
              "CAD    42\n",
              "Name: MI status, dtype: int64"
            ]
          },
          "metadata": {},
          "execution_count": 24
        }
      ]
    },
    {
      "cell_type": "markdown",
      "source": [
        "## Resampling for handling imbalanced data"
      ],
      "metadata": {
        "id": "2kRaHFDA7doM"
      }
    },
    {
      "cell_type": "code",
      "source": [
        "MI=X[X['MI status'] == 'MI']\n",
        "CAD=X[X['MI status'] == 'CAD']"
      ],
      "metadata": {
        "id": "1N5Pt06DSkdC"
      },
      "execution_count": 25,
      "outputs": []
    },
    {
      "cell_type": "code",
      "execution_count": 26,
      "metadata": {
        "id": "6Qq5F23VUy-x"
      },
      "outputs": [],
      "source": [
        "#less_MI=resample(MI, replace=False, n_samples=90, random_state=4)\n",
        "more_CAD=resample(CAD,replace=True, n_samples=97, random_state=1)\n",
        "\n",
        "df_resample=pd.concat([more_CAD,MI])"
      ]
    },
    {
      "cell_type": "code",
      "source": [
        "df_resample['MI status'].value_counts()"
      ],
      "metadata": {
        "colab": {
          "base_uri": "https://localhost:8080/"
        },
        "id": "5Mtxr_i0aHpd",
        "outputId": "9e29e6c3-20ce-47bd-9eeb-e77656e561b2"
      },
      "execution_count": 27,
      "outputs": [
        {
          "output_type": "execute_result",
          "data": {
            "text/plain": [
              "CAD    97\n",
              "MI     97\n",
              "Name: MI status, dtype: int64"
            ]
          },
          "metadata": {},
          "execution_count": 27
        }
      ]
    },
    {
      "cell_type": "markdown",
      "source": [
        "## Training all possible combinations with 3 miRs"
      ],
      "metadata": {
        "id": "mvGhHarb7tBY"
      }
    },
    {
      "cell_type": "code",
      "source": [
        "mirs=list(df_resample.columns)[0:10]\n",
        "listOf3Combinations=[]\n",
        "for i in range(len(mirs)):\n",
        "  for j in range(i+1,len(mirs)):\n",
        "    for k in range(j+1,len(mirs)):\n",
        "      listOf3Combinations.append([mirs[i], mirs[j], mirs[k]])\n",
        "\n",
        "len(listOf3Combinations)"
      ],
      "metadata": {
        "colab": {
          "base_uri": "https://localhost:8080/"
        },
        "id": "ohqpg4-L8rCW",
        "outputId": "b23eccb9-7581-49df-fc49-4234d57b5265"
      },
      "execution_count": 29,
      "outputs": [
        {
          "output_type": "execute_result",
          "data": {
            "text/plain": [
              "120"
            ]
          },
          "metadata": {},
          "execution_count": 29
        }
      ]
    },
    {
      "cell_type": "code",
      "source": [
        "#defining scoring for all furthur uses in cross validation\n",
        "scoring = ['precision_weighted', 'accuracy']"
      ],
      "metadata": {
        "id": "v-dwb_Y5cZE-"
      },
      "execution_count": 72,
      "outputs": []
    },
    {
      "cell_type": "code",
      "source": [
        "result3=pd.DataFrame(columns=['test_precision_weighted', 'train_precision_weighted', 'test_accuracy', 'train_accuracy'])\n",
        "for i in range(len(listOf3Combinations)):\n",
        "  mir_comb=listOf3Combinations[i]\n",
        "  X_temp = df_resample[mir_comb]\n",
        "  y_temp = df_resample['MI status']\n",
        "  svm=SVC(C=1000, gamma=0.05, kernel='rbf', random_state=1)\n",
        "  scores = cross_validate(svm, X_temp, y_temp, scoring=scoring, cv=10,\n",
        "                          n_jobs=-1, return_train_score=True)\n",
        "  mean_scores=pd.DataFrame(pd.DataFrame(scores).mean(axis=0)[2:6], columns=[str(mir_comb)]).T\n",
        "  result3=pd.concat([result3, mean_scores])"
      ],
      "metadata": {
        "id": "dnVEshDl0HP2"
      },
      "execution_count": 73,
      "outputs": []
    },
    {
      "cell_type": "code",
      "source": [
        "result3"
      ],
      "metadata": {
        "colab": {
          "base_uri": "https://localhost:8080/",
          "height": 210
        },
        "id": "6-UEm5AE7XIV",
        "outputId": "262ccd59-2903-4597-fbe7-edafaeddf55b"
      },
      "execution_count": 77,
      "outputs": [
        {
          "output_type": "execute_result",
          "data": {
            "text/html": [
              "\n",
              "  <div id=\"df-8ec01bc5-d8c8-4d8f-a716-4cf522f45f08\">\n",
              "    <div class=\"colab-df-container\">\n",
              "      <div>\n",
              "<style scoped>\n",
              "    .dataframe tbody tr th:only-of-type {\n",
              "        vertical-align: middle;\n",
              "    }\n",
              "\n",
              "    .dataframe tbody tr th {\n",
              "        vertical-align: top;\n",
              "    }\n",
              "\n",
              "    .dataframe thead th {\n",
              "        text-align: right;\n",
              "    }\n",
              "</style>\n",
              "<table border=\"1\" class=\"dataframe\">\n",
              "  <thead>\n",
              "    <tr style=\"text-align: right;\">\n",
              "      <th></th>\n",
              "      <th>test_precision_weighted</th>\n",
              "      <th>train_precision_weighted</th>\n",
              "      <th>test_accuracy</th>\n",
              "      <th>train_accuracy</th>\n",
              "    </tr>\n",
              "  </thead>\n",
              "  <tbody>\n",
              "    <tr>\n",
              "      <th>['7900488 / MIR30E', '7923976 / C1orf132///MIR29B2', '7971661 / MIR15A']</th>\n",
              "      <td>0.738853</td>\n",
              "      <td>0.751555</td>\n",
              "      <td>0.730789</td>\n",
              "      <td>0.747984</td>\n",
              "    </tr>\n",
              "    <tr>\n",
              "      <th>['7900488 / MIR30E', '7923976 / C1orf132///MIR29B2', '7976832 / MIR323A']</th>\n",
              "      <td>0.671126</td>\n",
              "      <td>0.702634</td>\n",
              "      <td>0.665000</td>\n",
              "      <td>0.702184</td>\n",
              "    </tr>\n",
              "    <tr>\n",
              "      <th>['7900488 / MIR30E', '7923976 / C1orf132///MIR29B2', '8008885 / MIR21']</th>\n",
              "      <td>0.833705</td>\n",
              "      <td>0.830728</td>\n",
              "      <td>0.825000</td>\n",
              "      <td>0.830479</td>\n",
              "    </tr>\n",
              "    <tr>\n",
              "      <th>['7900488 / MIR30E', '7923976 / C1orf132///MIR29B2', '8045453 / MIR128-1']</th>\n",
              "      <td>0.708537</td>\n",
              "      <td>0.700289</td>\n",
              "      <td>0.700263</td>\n",
              "      <td>0.699865</td>\n",
              "    </tr>\n",
              "    <tr>\n",
              "      <th>['7900488 / MIR30E', '7923976 / C1orf132///MIR29B2', '8084755 / MIR28']</th>\n",
              "      <td>0.780224</td>\n",
              "      <td>0.772944</td>\n",
              "      <td>0.767368</td>\n",
              "      <td>0.772614</td>\n",
              "    </tr>\n",
              "    <tr>\n",
              "      <th>...</th>\n",
              "      <td>...</td>\n",
              "      <td>...</td>\n",
              "      <td>...</td>\n",
              "      <td>...</td>\n",
              "    </tr>\n",
              "    <tr>\n",
              "      <th>['8045453 / MIR128-1', '8163107 / MIR32', '8175248 / MIR92A2']</th>\n",
              "      <td>0.676075</td>\n",
              "      <td>0.681889</td>\n",
              "      <td>0.643684</td>\n",
              "      <td>0.652916</td>\n",
              "    </tr>\n",
              "    <tr>\n",
              "      <th>['8084755 / MIR28', '8087881 / MIRLET7G', '8163107 / MIR32']</th>\n",
              "      <td>0.769505</td>\n",
              "      <td>0.782652</td>\n",
              "      <td>0.753421</td>\n",
              "      <td>0.768627</td>\n",
              "    </tr>\n",
              "    <tr>\n",
              "      <th>['8084755 / MIR28', '8087881 / MIRLET7G', '8175248 / MIR92A2']</th>\n",
              "      <td>0.714722</td>\n",
              "      <td>0.727783</td>\n",
              "      <td>0.696053</td>\n",
              "      <td>0.719373</td>\n",
              "    </tr>\n",
              "    <tr>\n",
              "      <th>['8084755 / MIR28', '8163107 / MIR32', '8175248 / MIR92A2']</th>\n",
              "      <td>0.739425</td>\n",
              "      <td>0.739737</td>\n",
              "      <td>0.711842</td>\n",
              "      <td>0.715931</td>\n",
              "    </tr>\n",
              "    <tr>\n",
              "      <th>['8087881 / MIRLET7G', '8163107 / MIR32', '8175248 / MIR92A2']</th>\n",
              "      <td>0.715286</td>\n",
              "      <td>0.740906</td>\n",
              "      <td>0.706316</td>\n",
              "      <td>0.727964</td>\n",
              "    </tr>\n",
              "  </tbody>\n",
              "</table>\n",
              "<p>120 rows × 4 columns</p>\n",
              "</div>\n",
              "      <button class=\"colab-df-convert\" onclick=\"convertToInteractive('df-8ec01bc5-d8c8-4d8f-a716-4cf522f45f08')\"\n",
              "              title=\"Convert this dataframe to an interactive table.\"\n",
              "              style=\"display:none;\">\n",
              "        \n",
              "  <svg xmlns=\"http://www.w3.org/2000/svg\" height=\"24px\"viewBox=\"0 0 24 24\"\n",
              "       width=\"24px\">\n",
              "    <path d=\"M0 0h24v24H0V0z\" fill=\"none\"/>\n",
              "    <path d=\"M18.56 5.44l.94 2.06.94-2.06 2.06-.94-2.06-.94-.94-2.06-.94 2.06-2.06.94zm-11 1L8.5 8.5l.94-2.06 2.06-.94-2.06-.94L8.5 2.5l-.94 2.06-2.06.94zm10 10l.94 2.06.94-2.06 2.06-.94-2.06-.94-.94-2.06-.94 2.06-2.06.94z\"/><path d=\"M17.41 7.96l-1.37-1.37c-.4-.4-.92-.59-1.43-.59-.52 0-1.04.2-1.43.59L10.3 9.45l-7.72 7.72c-.78.78-.78 2.05 0 2.83L4 21.41c.39.39.9.59 1.41.59.51 0 1.02-.2 1.41-.59l7.78-7.78 2.81-2.81c.8-.78.8-2.07 0-2.86zM5.41 20L4 18.59l7.72-7.72 1.47 1.35L5.41 20z\"/>\n",
              "  </svg>\n",
              "      </button>\n",
              "      \n",
              "  <style>\n",
              "    .colab-df-container {\n",
              "      display:flex;\n",
              "      flex-wrap:wrap;\n",
              "      gap: 12px;\n",
              "    }\n",
              "\n",
              "    .colab-df-convert {\n",
              "      background-color: #E8F0FE;\n",
              "      border: none;\n",
              "      border-radius: 50%;\n",
              "      cursor: pointer;\n",
              "      display: none;\n",
              "      fill: #1967D2;\n",
              "      height: 32px;\n",
              "      padding: 0 0 0 0;\n",
              "      width: 32px;\n",
              "    }\n",
              "\n",
              "    .colab-df-convert:hover {\n",
              "      background-color: #E2EBFA;\n",
              "      box-shadow: 0px 1px 2px rgba(60, 64, 67, 0.3), 0px 1px 3px 1px rgba(60, 64, 67, 0.15);\n",
              "      fill: #174EA6;\n",
              "    }\n",
              "\n",
              "    [theme=dark] .colab-df-convert {\n",
              "      background-color: #3B4455;\n",
              "      fill: #D2E3FC;\n",
              "    }\n",
              "\n",
              "    [theme=dark] .colab-df-convert:hover {\n",
              "      background-color: #434B5C;\n",
              "      box-shadow: 0px 1px 3px 1px rgba(0, 0, 0, 0.15);\n",
              "      filter: drop-shadow(0px 1px 2px rgba(0, 0, 0, 0.3));\n",
              "      fill: #FFFFFF;\n",
              "    }\n",
              "  </style>\n",
              "\n",
              "      <script>\n",
              "        const buttonEl =\n",
              "          document.querySelector('#df-8ec01bc5-d8c8-4d8f-a716-4cf522f45f08 button.colab-df-convert');\n",
              "        buttonEl.style.display =\n",
              "          google.colab.kernel.accessAllowed ? 'block' : 'none';\n",
              "\n",
              "        async function convertToInteractive(key) {\n",
              "          const element = document.querySelector('#df-8ec01bc5-d8c8-4d8f-a716-4cf522f45f08');\n",
              "          const dataTable =\n",
              "            await google.colab.kernel.invokeFunction('convertToInteractive',\n",
              "                                                     [key], {});\n",
              "          if (!dataTable) return;\n",
              "\n",
              "          const docLinkHtml = 'Like what you see? Visit the ' +\n",
              "            '<a target=\"_blank\" href=https://colab.research.google.com/notebooks/data_table.ipynb>data table notebook</a>'\n",
              "            + ' to learn more about interactive tables.';\n",
              "          element.innerHTML = '';\n",
              "          dataTable['output_type'] = 'display_data';\n",
              "          await google.colab.output.renderOutput(dataTable, element);\n",
              "          const docLink = document.createElement('div');\n",
              "          docLink.innerHTML = docLinkHtml;\n",
              "          element.appendChild(docLink);\n",
              "        }\n",
              "      </script>\n",
              "    </div>\n",
              "  </div>\n",
              "  "
            ],
            "text/plain": [
              "                                                    test_precision_weighted  \\\n",
              "['7900488 / MIR30E', '7923976 / C1orf132///MIR2...                 0.738853   \n",
              "['7900488 / MIR30E', '7923976 / C1orf132///MIR2...                 0.671126   \n",
              "['7900488 / MIR30E', '7923976 / C1orf132///MIR2...                 0.833705   \n",
              "['7900488 / MIR30E', '7923976 / C1orf132///MIR2...                 0.708537   \n",
              "['7900488 / MIR30E', '7923976 / C1orf132///MIR2...                 0.780224   \n",
              "...                                                                     ...   \n",
              "['8045453 / MIR128-1', '8163107 / MIR32', '8175...                 0.676075   \n",
              "['8084755 / MIR28', '8087881 / MIRLET7G', '8163...                 0.769505   \n",
              "['8084755 / MIR28', '8087881 / MIRLET7G', '8175...                 0.714722   \n",
              "['8084755 / MIR28', '8163107 / MIR32', '8175248...                 0.739425   \n",
              "['8087881 / MIRLET7G', '8163107 / MIR32', '8175...                 0.715286   \n",
              "\n",
              "                                                    train_precision_weighted  \\\n",
              "['7900488 / MIR30E', '7923976 / C1orf132///MIR2...                  0.751555   \n",
              "['7900488 / MIR30E', '7923976 / C1orf132///MIR2...                  0.702634   \n",
              "['7900488 / MIR30E', '7923976 / C1orf132///MIR2...                  0.830728   \n",
              "['7900488 / MIR30E', '7923976 / C1orf132///MIR2...                  0.700289   \n",
              "['7900488 / MIR30E', '7923976 / C1orf132///MIR2...                  0.772944   \n",
              "...                                                                      ...   \n",
              "['8045453 / MIR128-1', '8163107 / MIR32', '8175...                  0.681889   \n",
              "['8084755 / MIR28', '8087881 / MIRLET7G', '8163...                  0.782652   \n",
              "['8084755 / MIR28', '8087881 / MIRLET7G', '8175...                  0.727783   \n",
              "['8084755 / MIR28', '8163107 / MIR32', '8175248...                  0.739737   \n",
              "['8087881 / MIRLET7G', '8163107 / MIR32', '8175...                  0.740906   \n",
              "\n",
              "                                                    test_accuracy  \\\n",
              "['7900488 / MIR30E', '7923976 / C1orf132///MIR2...       0.730789   \n",
              "['7900488 / MIR30E', '7923976 / C1orf132///MIR2...       0.665000   \n",
              "['7900488 / MIR30E', '7923976 / C1orf132///MIR2...       0.825000   \n",
              "['7900488 / MIR30E', '7923976 / C1orf132///MIR2...       0.700263   \n",
              "['7900488 / MIR30E', '7923976 / C1orf132///MIR2...       0.767368   \n",
              "...                                                           ...   \n",
              "['8045453 / MIR128-1', '8163107 / MIR32', '8175...       0.643684   \n",
              "['8084755 / MIR28', '8087881 / MIRLET7G', '8163...       0.753421   \n",
              "['8084755 / MIR28', '8087881 / MIRLET7G', '8175...       0.696053   \n",
              "['8084755 / MIR28', '8163107 / MIR32', '8175248...       0.711842   \n",
              "['8087881 / MIRLET7G', '8163107 / MIR32', '8175...       0.706316   \n",
              "\n",
              "                                                    train_accuracy  \n",
              "['7900488 / MIR30E', '7923976 / C1orf132///MIR2...        0.747984  \n",
              "['7900488 / MIR30E', '7923976 / C1orf132///MIR2...        0.702184  \n",
              "['7900488 / MIR30E', '7923976 / C1orf132///MIR2...        0.830479  \n",
              "['7900488 / MIR30E', '7923976 / C1orf132///MIR2...        0.699865  \n",
              "['7900488 / MIR30E', '7923976 / C1orf132///MIR2...        0.772614  \n",
              "...                                                            ...  \n",
              "['8045453 / MIR128-1', '8163107 / MIR32', '8175...        0.652916  \n",
              "['8084755 / MIR28', '8087881 / MIRLET7G', '8163...        0.768627  \n",
              "['8084755 / MIR28', '8087881 / MIRLET7G', '8175...        0.719373  \n",
              "['8084755 / MIR28', '8163107 / MIR32', '8175248...        0.715931  \n",
              "['8087881 / MIRLET7G', '8163107 / MIR32', '8175...        0.727964  \n",
              "\n",
              "[120 rows x 4 columns]"
            ]
          },
          "metadata": {},
          "execution_count": 77
        }
      ]
    },
    {
      "cell_type": "markdown",
      "source": [
        "## Training all possible combinations with 4 miRs"
      ],
      "metadata": {
        "id": "_5NAisr8LLbU"
      }
    },
    {
      "cell_type": "code",
      "source": [
        "mirs=list(df_resample.columns)[0:10]\n",
        "listOf4Combinations=[]\n",
        "for i in range(len(mirs)):\n",
        "  for j in range(i+1,len(mirs)):\n",
        "    for k in range(j+1,len(mirs)):\n",
        "      for h in range(k+1,len(mirs)):\n",
        "        listOf4Combinations.append([mirs[i], mirs[j], mirs[k], mirs[h]])\n",
        "\n",
        "len(listOf4Combinations)"
      ],
      "metadata": {
        "colab": {
          "base_uri": "https://localhost:8080/"
        },
        "outputId": "40c23c42-32bb-478b-d4e1-d910fe6cd88a",
        "id": "XMdMNeZILa0y"
      },
      "execution_count": 79,
      "outputs": [
        {
          "output_type": "execute_result",
          "data": {
            "text/plain": [
              "210"
            ]
          },
          "metadata": {},
          "execution_count": 79
        }
      ]
    },
    {
      "cell_type": "code",
      "source": [
        "#defining scoring for all furthur uses in cross validation\n",
        "scoring = ['precision_weighted', 'accuracy']"
      ],
      "metadata": {
        "id": "ITSAHyZBLa00"
      },
      "execution_count": 80,
      "outputs": []
    },
    {
      "cell_type": "code",
      "source": [
        "result4=pd.DataFrame(columns=['test_precision_weighted', 'train_precision_weighted', 'test_accuracy', 'train_accuracy'])\n",
        "for i in range(len(listOf4Combinations)):\n",
        "  mir_comb=listOf4Combinations[i]\n",
        "  X_temp = df_resample[mir_comb]\n",
        "  y_temp = df_resample['MI status']\n",
        "  svm=SVC(C=1000, gamma=0.05, kernel='rbf', random_state=1)\n",
        "  scores = cross_validate(svm, X_temp, y_temp, scoring=scoring, cv=10,\n",
        "                          n_jobs=-1, return_train_score=True)\n",
        "  mean_scores=pd.DataFrame(pd.DataFrame(scores).mean(axis=0)[2:6], columns=[str(mir_comb)]).T\n",
        "  result4=pd.concat([result4, mean_scores])"
      ],
      "metadata": {
        "id": "r8MdkV0TLa00"
      },
      "execution_count": 81,
      "outputs": []
    },
    {
      "cell_type": "code",
      "source": [
        "result4"
      ],
      "metadata": {
        "colab": {
          "base_uri": "https://localhost:8080/",
          "height": 253
        },
        "outputId": "6cba1dd5-6f0f-4a25-efad-3459564ca530",
        "id": "w_xrUhzKLa01"
      },
      "execution_count": 82,
      "outputs": [
        {
          "output_type": "execute_result",
          "data": {
            "text/html": [
              "\n",
              "  <div id=\"df-a1c2ba1a-1e5b-4ace-b158-259a8c583e36\">\n",
              "    <div class=\"colab-df-container\">\n",
              "      <div>\n",
              "<style scoped>\n",
              "    .dataframe tbody tr th:only-of-type {\n",
              "        vertical-align: middle;\n",
              "    }\n",
              "\n",
              "    .dataframe tbody tr th {\n",
              "        vertical-align: top;\n",
              "    }\n",
              "\n",
              "    .dataframe thead th {\n",
              "        text-align: right;\n",
              "    }\n",
              "</style>\n",
              "<table border=\"1\" class=\"dataframe\">\n",
              "  <thead>\n",
              "    <tr style=\"text-align: right;\">\n",
              "      <th></th>\n",
              "      <th>test_precision_weighted</th>\n",
              "      <th>train_precision_weighted</th>\n",
              "      <th>test_accuracy</th>\n",
              "      <th>train_accuracy</th>\n",
              "    </tr>\n",
              "  </thead>\n",
              "  <tbody>\n",
              "    <tr>\n",
              "      <th>['7900488 / MIR30E', '7923976 / C1orf132///MIR29B2', '7971661 / MIR15A', '7976832 / MIR323A']</th>\n",
              "      <td>0.784353</td>\n",
              "      <td>0.802130</td>\n",
              "      <td>0.772368</td>\n",
              "      <td>0.795530</td>\n",
              "    </tr>\n",
              "    <tr>\n",
              "      <th>['7900488 / MIR30E', '7923976 / C1orf132///MIR29B2', '7971661 / MIR15A', '8008885 / MIR21']</th>\n",
              "      <td>0.838163</td>\n",
              "      <td>0.860528</td>\n",
              "      <td>0.825263</td>\n",
              "      <td>0.859113</td>\n",
              "    </tr>\n",
              "    <tr>\n",
              "      <th>['7900488 / MIR30E', '7923976 / C1orf132///MIR29B2', '7971661 / MIR15A', '8045453 / MIR128-1']</th>\n",
              "      <td>0.767267</td>\n",
              "      <td>0.783835</td>\n",
              "      <td>0.752105</td>\n",
              "      <td>0.781777</td>\n",
              "    </tr>\n",
              "    <tr>\n",
              "      <th>['7900488 / MIR30E', '7923976 / C1orf132///MIR29B2', '7971661 / MIR15A', '8084755 / MIR28']</th>\n",
              "      <td>0.789130</td>\n",
              "      <td>0.805247</td>\n",
              "      <td>0.777632</td>\n",
              "      <td>0.802969</td>\n",
              "    </tr>\n",
              "    <tr>\n",
              "      <th>['7900488 / MIR30E', '7923976 / C1orf132///MIR29B2', '7971661 / MIR15A', '8087881 / MIRLET7G']</th>\n",
              "      <td>0.828530</td>\n",
              "      <td>0.847931</td>\n",
              "      <td>0.813158</td>\n",
              "      <td>0.845343</td>\n",
              "    </tr>\n",
              "    <tr>\n",
              "      <th>...</th>\n",
              "      <td>...</td>\n",
              "      <td>...</td>\n",
              "      <td>...</td>\n",
              "      <td>...</td>\n",
              "    </tr>\n",
              "    <tr>\n",
              "      <th>['8045453 / MIR128-1', '8084755 / MIR28', '8087881 / MIRLET7G', '8163107 / MIR32']</th>\n",
              "      <td>0.753503</td>\n",
              "      <td>0.781307</td>\n",
              "      <td>0.738158</td>\n",
              "      <td>0.771501</td>\n",
              "    </tr>\n",
              "    <tr>\n",
              "      <th>['8045453 / MIR128-1', '8084755 / MIR28', '8087881 / MIRLET7G', '8175248 / MIR92A2']</th>\n",
              "      <td>0.734926</td>\n",
              "      <td>0.762309</td>\n",
              "      <td>0.716842</td>\n",
              "      <td>0.752598</td>\n",
              "    </tr>\n",
              "    <tr>\n",
              "      <th>['8045453 / MIR128-1', '8084755 / MIR28', '8163107 / MIR32', '8175248 / MIR92A2']</th>\n",
              "      <td>0.721742</td>\n",
              "      <td>0.749760</td>\n",
              "      <td>0.690789</td>\n",
              "      <td>0.731396</td>\n",
              "    </tr>\n",
              "    <tr>\n",
              "      <th>['8045453 / MIR128-1', '8087881 / MIRLET7G', '8163107 / MIR32', '8175248 / MIR92A2']</th>\n",
              "      <td>0.711148</td>\n",
              "      <td>0.754977</td>\n",
              "      <td>0.705526</td>\n",
              "      <td>0.747425</td>\n",
              "    </tr>\n",
              "    <tr>\n",
              "      <th>['8084755 / MIR28', '8087881 / MIRLET7G', '8163107 / MIR32', '8175248 / MIR92A2']</th>\n",
              "      <td>0.751657</td>\n",
              "      <td>0.765634</td>\n",
              "      <td>0.737632</td>\n",
              "      <td>0.760020</td>\n",
              "    </tr>\n",
              "  </tbody>\n",
              "</table>\n",
              "<p>210 rows × 4 columns</p>\n",
              "</div>\n",
              "      <button class=\"colab-df-convert\" onclick=\"convertToInteractive('df-a1c2ba1a-1e5b-4ace-b158-259a8c583e36')\"\n",
              "              title=\"Convert this dataframe to an interactive table.\"\n",
              "              style=\"display:none;\">\n",
              "        \n",
              "  <svg xmlns=\"http://www.w3.org/2000/svg\" height=\"24px\"viewBox=\"0 0 24 24\"\n",
              "       width=\"24px\">\n",
              "    <path d=\"M0 0h24v24H0V0z\" fill=\"none\"/>\n",
              "    <path d=\"M18.56 5.44l.94 2.06.94-2.06 2.06-.94-2.06-.94-.94-2.06-.94 2.06-2.06.94zm-11 1L8.5 8.5l.94-2.06 2.06-.94-2.06-.94L8.5 2.5l-.94 2.06-2.06.94zm10 10l.94 2.06.94-2.06 2.06-.94-2.06-.94-.94-2.06-.94 2.06-2.06.94z\"/><path d=\"M17.41 7.96l-1.37-1.37c-.4-.4-.92-.59-1.43-.59-.52 0-1.04.2-1.43.59L10.3 9.45l-7.72 7.72c-.78.78-.78 2.05 0 2.83L4 21.41c.39.39.9.59 1.41.59.51 0 1.02-.2 1.41-.59l7.78-7.78 2.81-2.81c.8-.78.8-2.07 0-2.86zM5.41 20L4 18.59l7.72-7.72 1.47 1.35L5.41 20z\"/>\n",
              "  </svg>\n",
              "      </button>\n",
              "      \n",
              "  <style>\n",
              "    .colab-df-container {\n",
              "      display:flex;\n",
              "      flex-wrap:wrap;\n",
              "      gap: 12px;\n",
              "    }\n",
              "\n",
              "    .colab-df-convert {\n",
              "      background-color: #E8F0FE;\n",
              "      border: none;\n",
              "      border-radius: 50%;\n",
              "      cursor: pointer;\n",
              "      display: none;\n",
              "      fill: #1967D2;\n",
              "      height: 32px;\n",
              "      padding: 0 0 0 0;\n",
              "      width: 32px;\n",
              "    }\n",
              "\n",
              "    .colab-df-convert:hover {\n",
              "      background-color: #E2EBFA;\n",
              "      box-shadow: 0px 1px 2px rgba(60, 64, 67, 0.3), 0px 1px 3px 1px rgba(60, 64, 67, 0.15);\n",
              "      fill: #174EA6;\n",
              "    }\n",
              "\n",
              "    [theme=dark] .colab-df-convert {\n",
              "      background-color: #3B4455;\n",
              "      fill: #D2E3FC;\n",
              "    }\n",
              "\n",
              "    [theme=dark] .colab-df-convert:hover {\n",
              "      background-color: #434B5C;\n",
              "      box-shadow: 0px 1px 3px 1px rgba(0, 0, 0, 0.15);\n",
              "      filter: drop-shadow(0px 1px 2px rgba(0, 0, 0, 0.3));\n",
              "      fill: #FFFFFF;\n",
              "    }\n",
              "  </style>\n",
              "\n",
              "      <script>\n",
              "        const buttonEl =\n",
              "          document.querySelector('#df-a1c2ba1a-1e5b-4ace-b158-259a8c583e36 button.colab-df-convert');\n",
              "        buttonEl.style.display =\n",
              "          google.colab.kernel.accessAllowed ? 'block' : 'none';\n",
              "\n",
              "        async function convertToInteractive(key) {\n",
              "          const element = document.querySelector('#df-a1c2ba1a-1e5b-4ace-b158-259a8c583e36');\n",
              "          const dataTable =\n",
              "            await google.colab.kernel.invokeFunction('convertToInteractive',\n",
              "                                                     [key], {});\n",
              "          if (!dataTable) return;\n",
              "\n",
              "          const docLinkHtml = 'Like what you see? Visit the ' +\n",
              "            '<a target=\"_blank\" href=https://colab.research.google.com/notebooks/data_table.ipynb>data table notebook</a>'\n",
              "            + ' to learn more about interactive tables.';\n",
              "          element.innerHTML = '';\n",
              "          dataTable['output_type'] = 'display_data';\n",
              "          await google.colab.output.renderOutput(dataTable, element);\n",
              "          const docLink = document.createElement('div');\n",
              "          docLink.innerHTML = docLinkHtml;\n",
              "          element.appendChild(docLink);\n",
              "        }\n",
              "      </script>\n",
              "    </div>\n",
              "  </div>\n",
              "  "
            ],
            "text/plain": [
              "                                                    test_precision_weighted  \\\n",
              "['7900488 / MIR30E', '7923976 / C1orf132///MIR2...                 0.784353   \n",
              "['7900488 / MIR30E', '7923976 / C1orf132///MIR2...                 0.838163   \n",
              "['7900488 / MIR30E', '7923976 / C1orf132///MIR2...                 0.767267   \n",
              "['7900488 / MIR30E', '7923976 / C1orf132///MIR2...                 0.789130   \n",
              "['7900488 / MIR30E', '7923976 / C1orf132///MIR2...                 0.828530   \n",
              "...                                                                     ...   \n",
              "['8045453 / MIR128-1', '8084755 / MIR28', '8087...                 0.753503   \n",
              "['8045453 / MIR128-1', '8084755 / MIR28', '8087...                 0.734926   \n",
              "['8045453 / MIR128-1', '8084755 / MIR28', '8163...                 0.721742   \n",
              "['8045453 / MIR128-1', '8087881 / MIRLET7G', '8...                 0.711148   \n",
              "['8084755 / MIR28', '8087881 / MIRLET7G', '8163...                 0.751657   \n",
              "\n",
              "                                                    train_precision_weighted  \\\n",
              "['7900488 / MIR30E', '7923976 / C1orf132///MIR2...                  0.802130   \n",
              "['7900488 / MIR30E', '7923976 / C1orf132///MIR2...                  0.860528   \n",
              "['7900488 / MIR30E', '7923976 / C1orf132///MIR2...                  0.783835   \n",
              "['7900488 / MIR30E', '7923976 / C1orf132///MIR2...                  0.805247   \n",
              "['7900488 / MIR30E', '7923976 / C1orf132///MIR2...                  0.847931   \n",
              "...                                                                      ...   \n",
              "['8045453 / MIR128-1', '8084755 / MIR28', '8087...                  0.781307   \n",
              "['8045453 / MIR128-1', '8084755 / MIR28', '8087...                  0.762309   \n",
              "['8045453 / MIR128-1', '8084755 / MIR28', '8163...                  0.749760   \n",
              "['8045453 / MIR128-1', '8087881 / MIRLET7G', '8...                  0.754977   \n",
              "['8084755 / MIR28', '8087881 / MIRLET7G', '8163...                  0.765634   \n",
              "\n",
              "                                                    test_accuracy  \\\n",
              "['7900488 / MIR30E', '7923976 / C1orf132///MIR2...       0.772368   \n",
              "['7900488 / MIR30E', '7923976 / C1orf132///MIR2...       0.825263   \n",
              "['7900488 / MIR30E', '7923976 / C1orf132///MIR2...       0.752105   \n",
              "['7900488 / MIR30E', '7923976 / C1orf132///MIR2...       0.777632   \n",
              "['7900488 / MIR30E', '7923976 / C1orf132///MIR2...       0.813158   \n",
              "...                                                           ...   \n",
              "['8045453 / MIR128-1', '8084755 / MIR28', '8087...       0.738158   \n",
              "['8045453 / MIR128-1', '8084755 / MIR28', '8087...       0.716842   \n",
              "['8045453 / MIR128-1', '8084755 / MIR28', '8163...       0.690789   \n",
              "['8045453 / MIR128-1', '8087881 / MIRLET7G', '8...       0.705526   \n",
              "['8084755 / MIR28', '8087881 / MIRLET7G', '8163...       0.737632   \n",
              "\n",
              "                                                    train_accuracy  \n",
              "['7900488 / MIR30E', '7923976 / C1orf132///MIR2...        0.795530  \n",
              "['7900488 / MIR30E', '7923976 / C1orf132///MIR2...        0.859113  \n",
              "['7900488 / MIR30E', '7923976 / C1orf132///MIR2...        0.781777  \n",
              "['7900488 / MIR30E', '7923976 / C1orf132///MIR2...        0.802969  \n",
              "['7900488 / MIR30E', '7923976 / C1orf132///MIR2...        0.845343  \n",
              "...                                                            ...  \n",
              "['8045453 / MIR128-1', '8084755 / MIR28', '8087...        0.771501  \n",
              "['8045453 / MIR128-1', '8084755 / MIR28', '8087...        0.752598  \n",
              "['8045453 / MIR128-1', '8084755 / MIR28', '8163...        0.731396  \n",
              "['8045453 / MIR128-1', '8087881 / MIRLET7G', '8...        0.747425  \n",
              "['8084755 / MIR28', '8087881 / MIRLET7G', '8163...        0.760020  \n",
              "\n",
              "[210 rows x 4 columns]"
            ]
          },
          "metadata": {},
          "execution_count": 82
        }
      ]
    },
    {
      "cell_type": "markdown",
      "source": [
        "## Nested Cross_Validation for the best combinations"
      ],
      "metadata": {
        "id": "boHkCf8lK4U_"
      }
    },
    {
      "cell_type": "code",
      "source": [
        "best_mirs=['7900488 / MIR30E', '7923976 / C1orf132///MIR29B2', '8008885 / MIR21', '8087881 / MIRLET7G']\n",
        "X_temp = df_resample[best_mirs]\n",
        "y_temp = df_resample['MI status']"
      ],
      "metadata": {
        "id": "omP9tN_uNSQU"
      },
      "execution_count": 104,
      "outputs": []
    },
    {
      "cell_type": "code",
      "source": [
        "# configure the cross-validation procedure\n",
        "cv_inner = KFold(n_splits=10, shuffle=True, random_state=1)\n",
        "cv_outer = KFold(n_splits=10, shuffle=True, random_state=1)"
      ],
      "metadata": {
        "id": "-8UTfqQzgeMr"
      },
      "execution_count": 105,
      "outputs": []
    },
    {
      "cell_type": "code",
      "source": [
        "model = SVC(random_state=1)\n",
        "param_grid = {\n",
        "  'C': [1, 10, 100, 1000, 2000, 10000],\n",
        "  'gamma': [0.0001, 0.001, 0.01, 0.05, 0.1, 0.1],\n",
        "  'kernel': ['rbf', 'linear', 'sigmoid']\n",
        "}"
      ],
      "metadata": {
        "id": "h5zOB378gnzR"
      },
      "execution_count": 85,
      "outputs": []
    },
    {
      "cell_type": "code",
      "source": [
        "search = GridSearchCV(model, param_grid, n_jobs=-1, cv=cv_inner, refit=True)\n",
        "scores = cross_validate(search, X_temp, y_temp, scoring=scoring, \n",
        "                        cv=cv_outer, n_jobs=-1, return_train_score=True, \n",
        "                        return_estimator =True)"
      ],
      "metadata": {
        "id": "Py42efOrgO32"
      },
      "execution_count": 86,
      "outputs": []
    },
    {
      "cell_type": "code",
      "source": [
        "scores=pd.DataFrame(scores)\n",
        "scores_mean=list(scores.mean(axis=0))\n",
        "scores_mean"
      ],
      "metadata": {
        "colab": {
          "base_uri": "https://localhost:8080/"
        },
        "id": "w7y2nmtp5Oec",
        "outputId": "82eb60a3-c27f-45e4-b69e-b6d31f50ff26"
      },
      "execution_count": 87,
      "outputs": [
        {
          "output_type": "stream",
          "name": "stderr",
          "text": [
            "/usr/local/lib/python3.7/dist-packages/ipykernel_launcher.py:2: FutureWarning: Dropping of nuisance columns in DataFrame reductions (with 'numeric_only=None') is deprecated; in a future version this will raise TypeError.  Select only valid columns before calling the reduction.\n",
            "  \n"
          ]
        },
        {
          "output_type": "execute_result",
          "data": {
            "text/plain": [
              "[30.472935271263122,\n",
              " 0.01032693386077881,\n",
              " 0.8772365755589441,\n",
              " 0.9140992105218638,\n",
              " 0.8710526315789474,\n",
              " 0.9129458128078817]"
            ]
          },
          "metadata": {},
          "execution_count": 87
        }
      ]
    },
    {
      "cell_type": "code",
      "source": [
        "svm=SVC(C=1100, gamma=0.05, kernel='rbf', random_state=1)\n",
        "scores = cross_validate(svm, X_temp, y_temp, scoring=scoring, cv=10,\n",
        "                          n_jobs=-1, return_train_score=True, return_estimator=True)\n",
        "scores=pd.DataFrame(scores)"
      ],
      "metadata": {
        "id": "eZ708IcqJzk3"
      },
      "execution_count": 106,
      "outputs": []
    },
    {
      "cell_type": "code",
      "source": [
        "scores"
      ],
      "metadata": {
        "colab": {
          "base_uri": "https://localhost:8080/",
          "height": 774
        },
        "id": "J4Rt7cCJTJhz",
        "outputId": "a944f41b-82fc-4a0a-e562-ee73ac897fcf"
      },
      "execution_count": 107,
      "outputs": [
        {
          "output_type": "execute_result",
          "data": {
            "text/html": [
              "\n",
              "  <div id=\"df-243fbc85-5853-4fd2-b823-745030980299\">\n",
              "    <div class=\"colab-df-container\">\n",
              "      <div>\n",
              "<style scoped>\n",
              "    .dataframe tbody tr th:only-of-type {\n",
              "        vertical-align: middle;\n",
              "    }\n",
              "\n",
              "    .dataframe tbody tr th {\n",
              "        vertical-align: top;\n",
              "    }\n",
              "\n",
              "    .dataframe thead th {\n",
              "        text-align: right;\n",
              "    }\n",
              "</style>\n",
              "<table border=\"1\" class=\"dataframe\">\n",
              "  <thead>\n",
              "    <tr style=\"text-align: right;\">\n",
              "      <th></th>\n",
              "      <th>fit_time</th>\n",
              "      <th>score_time</th>\n",
              "      <th>estimator</th>\n",
              "      <th>test_precision_weighted</th>\n",
              "      <th>train_precision_weighted</th>\n",
              "      <th>test_accuracy</th>\n",
              "      <th>train_accuracy</th>\n",
              "    </tr>\n",
              "  </thead>\n",
              "  <tbody>\n",
              "    <tr>\n",
              "      <th>0</th>\n",
              "      <td>0.007846</td>\n",
              "      <td>0.005001</td>\n",
              "      <td>SVC(C=1100, gamma=0.05, random_state=1)</td>\n",
              "      <td>0.853535</td>\n",
              "      <td>0.915164</td>\n",
              "      <td>0.850000</td>\n",
              "      <td>0.913793</td>\n",
              "    </tr>\n",
              "    <tr>\n",
              "      <th>1</th>\n",
              "      <td>0.013803</td>\n",
              "      <td>0.005045</td>\n",
              "      <td>SVC(C=1100, gamma=0.05, random_state=1)</td>\n",
              "      <td>0.853535</td>\n",
              "      <td>0.879762</td>\n",
              "      <td>0.850000</td>\n",
              "      <td>0.879310</td>\n",
              "    </tr>\n",
              "    <tr>\n",
              "      <th>2</th>\n",
              "      <td>0.007516</td>\n",
              "      <td>0.004583</td>\n",
              "      <td>SVC(C=1100, gamma=0.05, random_state=1)</td>\n",
              "      <td>0.853535</td>\n",
              "      <td>0.904920</td>\n",
              "      <td>0.850000</td>\n",
              "      <td>0.902299</td>\n",
              "    </tr>\n",
              "    <tr>\n",
              "      <th>3</th>\n",
              "      <td>0.007041</td>\n",
              "      <td>0.004334</td>\n",
              "      <td>SVC(C=1100, gamma=0.05, random_state=1)</td>\n",
              "      <td>1.000000</td>\n",
              "      <td>0.891270</td>\n",
              "      <td>1.000000</td>\n",
              "      <td>0.890805</td>\n",
              "    </tr>\n",
              "    <tr>\n",
              "      <th>4</th>\n",
              "      <td>0.007508</td>\n",
              "      <td>0.004357</td>\n",
              "      <td>SVC(C=1100, gamma=0.05, random_state=1)</td>\n",
              "      <td>0.912281</td>\n",
              "      <td>0.909451</td>\n",
              "      <td>0.894737</td>\n",
              "      <td>0.908571</td>\n",
              "    </tr>\n",
              "    <tr>\n",
              "      <th>5</th>\n",
              "      <td>0.007753</td>\n",
              "      <td>0.004331</td>\n",
              "      <td>SVC(C=1100, gamma=0.05, random_state=1)</td>\n",
              "      <td>0.952153</td>\n",
              "      <td>0.886552</td>\n",
              "      <td>0.947368</td>\n",
              "      <td>0.885714</td>\n",
              "    </tr>\n",
              "    <tr>\n",
              "      <th>6</th>\n",
              "      <td>0.007478</td>\n",
              "      <td>0.004242</td>\n",
              "      <td>SVC(C=1100, gamma=0.05, random_state=1)</td>\n",
              "      <td>0.894737</td>\n",
              "      <td>0.910536</td>\n",
              "      <td>0.894737</td>\n",
              "      <td>0.908571</td>\n",
              "    </tr>\n",
              "    <tr>\n",
              "      <th>7</th>\n",
              "      <td>0.007236</td>\n",
              "      <td>0.004088</td>\n",
              "      <td>SVC(C=1100, gamma=0.05, random_state=1)</td>\n",
              "      <td>0.845096</td>\n",
              "      <td>0.911971</td>\n",
              "      <td>0.842105</td>\n",
              "      <td>0.908571</td>\n",
              "    </tr>\n",
              "    <tr>\n",
              "      <th>8</th>\n",
              "      <td>0.006431</td>\n",
              "      <td>0.005381</td>\n",
              "      <td>SVC(C=1100, gamma=0.05, random_state=1)</td>\n",
              "      <td>0.854251</td>\n",
              "      <td>0.904146</td>\n",
              "      <td>0.789474</td>\n",
              "      <td>0.902857</td>\n",
              "    </tr>\n",
              "    <tr>\n",
              "      <th>9</th>\n",
              "      <td>0.008136</td>\n",
              "      <td>0.004340</td>\n",
              "      <td>SVC(C=1100, gamma=0.05, random_state=1)</td>\n",
              "      <td>0.952632</td>\n",
              "      <td>0.897948</td>\n",
              "      <td>0.947368</td>\n",
              "      <td>0.897143</td>\n",
              "    </tr>\n",
              "  </tbody>\n",
              "</table>\n",
              "</div>\n",
              "      <button class=\"colab-df-convert\" onclick=\"convertToInteractive('df-243fbc85-5853-4fd2-b823-745030980299')\"\n",
              "              title=\"Convert this dataframe to an interactive table.\"\n",
              "              style=\"display:none;\">\n",
              "        \n",
              "  <svg xmlns=\"http://www.w3.org/2000/svg\" height=\"24px\"viewBox=\"0 0 24 24\"\n",
              "       width=\"24px\">\n",
              "    <path d=\"M0 0h24v24H0V0z\" fill=\"none\"/>\n",
              "    <path d=\"M18.56 5.44l.94 2.06.94-2.06 2.06-.94-2.06-.94-.94-2.06-.94 2.06-2.06.94zm-11 1L8.5 8.5l.94-2.06 2.06-.94-2.06-.94L8.5 2.5l-.94 2.06-2.06.94zm10 10l.94 2.06.94-2.06 2.06-.94-2.06-.94-.94-2.06-.94 2.06-2.06.94z\"/><path d=\"M17.41 7.96l-1.37-1.37c-.4-.4-.92-.59-1.43-.59-.52 0-1.04.2-1.43.59L10.3 9.45l-7.72 7.72c-.78.78-.78 2.05 0 2.83L4 21.41c.39.39.9.59 1.41.59.51 0 1.02-.2 1.41-.59l7.78-7.78 2.81-2.81c.8-.78.8-2.07 0-2.86zM5.41 20L4 18.59l7.72-7.72 1.47 1.35L5.41 20z\"/>\n",
              "  </svg>\n",
              "      </button>\n",
              "      \n",
              "  <style>\n",
              "    .colab-df-container {\n",
              "      display:flex;\n",
              "      flex-wrap:wrap;\n",
              "      gap: 12px;\n",
              "    }\n",
              "\n",
              "    .colab-df-convert {\n",
              "      background-color: #E8F0FE;\n",
              "      border: none;\n",
              "      border-radius: 50%;\n",
              "      cursor: pointer;\n",
              "      display: none;\n",
              "      fill: #1967D2;\n",
              "      height: 32px;\n",
              "      padding: 0 0 0 0;\n",
              "      width: 32px;\n",
              "    }\n",
              "\n",
              "    .colab-df-convert:hover {\n",
              "      background-color: #E2EBFA;\n",
              "      box-shadow: 0px 1px 2px rgba(60, 64, 67, 0.3), 0px 1px 3px 1px rgba(60, 64, 67, 0.15);\n",
              "      fill: #174EA6;\n",
              "    }\n",
              "\n",
              "    [theme=dark] .colab-df-convert {\n",
              "      background-color: #3B4455;\n",
              "      fill: #D2E3FC;\n",
              "    }\n",
              "\n",
              "    [theme=dark] .colab-df-convert:hover {\n",
              "      background-color: #434B5C;\n",
              "      box-shadow: 0px 1px 3px 1px rgba(0, 0, 0, 0.15);\n",
              "      filter: drop-shadow(0px 1px 2px rgba(0, 0, 0, 0.3));\n",
              "      fill: #FFFFFF;\n",
              "    }\n",
              "  </style>\n",
              "\n",
              "      <script>\n",
              "        const buttonEl =\n",
              "          document.querySelector('#df-243fbc85-5853-4fd2-b823-745030980299 button.colab-df-convert');\n",
              "        buttonEl.style.display =\n",
              "          google.colab.kernel.accessAllowed ? 'block' : 'none';\n",
              "\n",
              "        async function convertToInteractive(key) {\n",
              "          const element = document.querySelector('#df-243fbc85-5853-4fd2-b823-745030980299');\n",
              "          const dataTable =\n",
              "            await google.colab.kernel.invokeFunction('convertToInteractive',\n",
              "                                                     [key], {});\n",
              "          if (!dataTable) return;\n",
              "\n",
              "          const docLinkHtml = 'Like what you see? Visit the ' +\n",
              "            '<a target=\"_blank\" href=https://colab.research.google.com/notebooks/data_table.ipynb>data table notebook</a>'\n",
              "            + ' to learn more about interactive tables.';\n",
              "          element.innerHTML = '';\n",
              "          dataTable['output_type'] = 'display_data';\n",
              "          await google.colab.output.renderOutput(dataTable, element);\n",
              "          const docLink = document.createElement('div');\n",
              "          docLink.innerHTML = docLinkHtml;\n",
              "          element.appendChild(docLink);\n",
              "        }\n",
              "      </script>\n",
              "    </div>\n",
              "  </div>\n",
              "  "
            ],
            "text/plain": [
              "   fit_time  score_time                                estimator  \\\n",
              "0  0.007846    0.005001  SVC(C=1100, gamma=0.05, random_state=1)   \n",
              "1  0.013803    0.005045  SVC(C=1100, gamma=0.05, random_state=1)   \n",
              "2  0.007516    0.004583  SVC(C=1100, gamma=0.05, random_state=1)   \n",
              "3  0.007041    0.004334  SVC(C=1100, gamma=0.05, random_state=1)   \n",
              "4  0.007508    0.004357  SVC(C=1100, gamma=0.05, random_state=1)   \n",
              "5  0.007753    0.004331  SVC(C=1100, gamma=0.05, random_state=1)   \n",
              "6  0.007478    0.004242  SVC(C=1100, gamma=0.05, random_state=1)   \n",
              "7  0.007236    0.004088  SVC(C=1100, gamma=0.05, random_state=1)   \n",
              "8  0.006431    0.005381  SVC(C=1100, gamma=0.05, random_state=1)   \n",
              "9  0.008136    0.004340  SVC(C=1100, gamma=0.05, random_state=1)   \n",
              "\n",
              "   test_precision_weighted  train_precision_weighted  test_accuracy  \\\n",
              "0                 0.853535                  0.915164       0.850000   \n",
              "1                 0.853535                  0.879762       0.850000   \n",
              "2                 0.853535                  0.904920       0.850000   \n",
              "3                 1.000000                  0.891270       1.000000   \n",
              "4                 0.912281                  0.909451       0.894737   \n",
              "5                 0.952153                  0.886552       0.947368   \n",
              "6                 0.894737                  0.910536       0.894737   \n",
              "7                 0.845096                  0.911971       0.842105   \n",
              "8                 0.854251                  0.904146       0.789474   \n",
              "9                 0.952632                  0.897948       0.947368   \n",
              "\n",
              "   train_accuracy  \n",
              "0        0.913793  \n",
              "1        0.879310  \n",
              "2        0.902299  \n",
              "3        0.890805  \n",
              "4        0.908571  \n",
              "5        0.885714  \n",
              "6        0.908571  \n",
              "7        0.908571  \n",
              "8        0.902857  \n",
              "9        0.897143  "
            ]
          },
          "metadata": {},
          "execution_count": 107
        }
      ]
    },
    {
      "cell_type": "code",
      "source": [
        "list(scores.mean(axis=0))"
      ],
      "metadata": {
        "colab": {
          "base_uri": "https://localhost:8080/"
        },
        "id": "Cdi8bSzMJ7mj",
        "outputId": "84d1a090-c8c6-47fe-a1e0-4c793b436567"
      },
      "execution_count": 89,
      "outputs": [
        {
          "output_type": "execute_result",
          "data": {
            "text/plain": [
              "[0.009103131294250489,\n",
              " 0.004607248306274414,\n",
              " 0.8971754999386578,\n",
              " 0.901171965602096,\n",
              " 0.8865789473684209,\n",
              " 0.8997635467980294]"
            ]
          },
          "metadata": {},
          "execution_count": 89
        }
      ]
    },
    {
      "cell_type": "code",
      "source": [
        "model=SVC(C=1100, gamma=0.05, kernel='rbf', random_state=1).fit(X_temp, y_temp)"
      ],
      "metadata": {
        "id": "7wBqeXzIQUg2"
      },
      "execution_count": 91,
      "outputs": []
    },
    {
      "cell_type": "code",
      "source": [
        "model.score(X_temp, y_temp)"
      ],
      "metadata": {
        "colab": {
          "base_uri": "https://localhost:8080/"
        },
        "id": "MhHk8GKUb-_d",
        "outputId": "d8922420-5981-4782-cfa0-bf72b134a872"
      },
      "execution_count": 92,
      "outputs": [
        {
          "output_type": "execute_result",
          "data": {
            "text/plain": [
              "0.8917525773195877"
            ]
          },
          "metadata": {},
          "execution_count": 92
        }
      ]
    },
    {
      "cell_type": "code",
      "source": [
        "model.score(X_test[best_mirs], y_test)"
      ],
      "metadata": {
        "colab": {
          "base_uri": "https://localhost:8080/"
        },
        "id": "PFfD-zhTQnTf",
        "outputId": "94eb9d43-c0fe-4d5b-9187-107620b49fc7"
      },
      "execution_count": 93,
      "outputs": [
        {
          "output_type": "execute_result",
          "data": {
            "text/plain": [
              "0.7666666666666667"
            ]
          },
          "metadata": {},
          "execution_count": 93
        }
      ]
    },
    {
      "cell_type": "code",
      "source": [
        "pred=model.predict(X_test[best_mirs])"
      ],
      "metadata": {
        "id": "-gKSk16ARJKs"
      },
      "execution_count": 94,
      "outputs": []
    },
    {
      "cell_type": "code",
      "source": [
        "cm=confusion_matrix(y_test,pred,labels=['MI', 'CAD'])\n",
        "df_cm=pd.DataFrame(cm,index=[i for i in ['MI', 'CAD']],columns=[i for i in ['Predicted MI', 'Predicted CAD']])\n",
        "plt.figure(figsize=(7,5))\n",
        "plt.title('SVM on MIR21, MIRLET7G, MIR323A, MIR15')\n",
        "sns.heatmap(df_cm,annot=True, cmap='viridis');"
      ],
      "metadata": {
        "colab": {
          "base_uri": "https://localhost:8080/",
          "height": 350
        },
        "id": "3QfcaofmW5yQ",
        "outputId": "b9e81697-3e1d-4b47-bf59-05a81d5b0ffa"
      },
      "execution_count": 95,
      "outputs": [
        {
          "output_type": "display_data",
          "data": {
            "image/png": "[encoded data removed]",
            "text/plain": [
              "<Figure size 504x360 with 2 Axes>"
            ]
          },
          "metadata": {}
        }
      ]
    },
    {
      "cell_type": "code",
      "source": [
        "print(classification_report(y_test,pred))"
      ],
      "metadata": {
        "colab": {
          "base_uri": "https://localhost:8080/"
        },
        "id": "6Z5U3O9bTl7I",
        "outputId": "0c310dd8-5255-46dc-cd8d-2ea1330b0b93"
      },
      "execution_count": 96,
      "outputs": [
        {
          "output_type": "stream",
          "name": "stdout",
          "text": [
            "              precision    recall  f1-score   support\n",
            "\n",
            "         CAD       0.58      0.78      0.67        18\n",
            "          MI       0.89      0.76      0.82        42\n",
            "\n",
            "    accuracy                           0.77        60\n",
            "   macro avg       0.74      0.77      0.74        60\n",
            "weighted avg       0.80      0.77      0.77        60\n",
            "\n"
          ]
        }
      ]
    },
    {
      "cell_type": "code",
      "execution_count": 97,
      "metadata": {
        "id": "VlP5fV-3g_NY"
      },
      "outputs": [],
      "source": [
        "label = LabelEncoder()\n",
        "\n",
        "y_temp = label.fit_transform(df_resample['MI status'])\n",
        "y_temp = pd.get_dummies(y_temp)\n",
        "y_temp.columns = ['CAD', 'MI']\n",
        "\n",
        "n_classes = y_temp.shape[1]"
      ]
    },
    {
      "cell_type": "code",
      "execution_count": 98,
      "metadata": {
        "id": "zgOKCxM8k9DR"
      },
      "outputs": [],
      "source": [
        "X_train, X_test, y_train, y_test = train_test_split(X_temp, y_temp, test_size=.25, random_state=27)\n",
        "\n",
        "# Learn to predict each class against the other\n",
        "classifier = OneVsRestClassifier(SVC(C=1000, gamma=0.05, kernel='rbf', random_state=27))\n",
        "y_score = classifier.fit(X_train, y_train).decision_function(X_test)\n",
        "\n",
        "# Compute ROC curve and ROC area for each class\n",
        "fpr = dict()\n",
        "tpr = dict()\n",
        "roc_auc = dict()\n",
        "for i in range(n_classes):\n",
        "    fpr[i], tpr[i], _ = roc_curve(y_test.iloc[:, i], y_score[:, i])\n",
        "    roc_auc[i] = auc(fpr[i], tpr[i])"
      ]
    },
    {
      "cell_type": "code",
      "execution_count": 99,
      "metadata": {
        "colab": {
          "base_uri": "https://localhost:8080/",
          "height": 580
        },
        "id": "2CiTXFG-l3YH",
        "outputId": "8aee92e5-3bc3-4375-b419-123fbb2ef17b"
      },
      "outputs": [
        {
          "output_type": "stream",
          "name": "stderr",
          "text": [
            "/usr/local/lib/python3.7/dist-packages/ipykernel_launcher.py:8: DeprecationWarning: scipy.interp is deprecated and will be removed in SciPy 2.0.0, use numpy.interp instead\n",
            "  \n"
          ]
        },
        {
          "output_type": "display_data",
          "data": {
            "image/png": "[encoded data removed]",
            "text/plain": [
              "<Figure size 864x576 with 1 Axes>"
            ]
          },
          "metadata": {}
        }
      ],
      "source": [
        "lw = 2.3\n",
        "# First aggregate all false positive rates\n",
        "all_fpr = np.unique(np.concatenate([fpr[i] for i in range(n_classes)]))\n",
        "\n",
        "# Then interpolate all ROC curves at this points\n",
        "mean_tpr = np.zeros_like(all_fpr)\n",
        "for i in range(n_classes):\n",
        "    mean_tpr += interp(all_fpr, fpr[i], tpr[i])\n",
        "\n",
        "    \n",
        "# Finally average it and compute AUC\n",
        "mean_tpr /= n_classes\n",
        "\n",
        "fpr[\"macro\"] = all_fpr\n",
        "tpr[\"macro\"] = mean_tpr\n",
        "roc_auc[\"macro\"] = auc(fpr[\"macro\"], tpr[\"macro\"])\n",
        "\n",
        "# Plot all ROC curves\n",
        "plt.figure(figsize=(12,8))\n",
        "\n",
        "plt.plot(\n",
        "    fpr[\"macro\"],\n",
        "    tpr[\"macro\"],\n",
        "    label=\"macro-average ROC curve (area = {0:0.2f})\".format(roc_auc[\"macro\"]),\n",
        "    color=\"navy\",\n",
        "    linestyle=\":\",\n",
        "    linewidth=4,\n",
        ")\n",
        "\n",
        "colors = cycle(['darkorange', 'cornflowerblue', 'red'])\n",
        "for i, color in zip(range(n_classes), colors):\n",
        "    plt.plot(fpr[i], tpr[i], color=color, lw=lw,\n",
        "             label='ROC curve of {0} class (area = {1:0.2f})'\n",
        "             ''.format(list(y_temp.columns)[i], roc_auc[i]))\n",
        "\n",
        "plt.plot([0, 1], [0, 1], 'k--', lw=lw)\n",
        "plt.xlim([0.0, 1.0])\n",
        "plt.ylim([0.0, 1.05])\n",
        "plt.xlabel('False Positive Rate', fontsize = 15)\n",
        "plt.ylabel('True Positive Rate', fontsize = 15)\n",
        "plt.title('ROC for {0}'''.format(list(X_temp.columns)), fontsize = 15)\n",
        "plt.legend(loc=\"lower right\", prop={'size':15})\n",
        "plt.tick_params(axis='both', which='major', labelsize=12)\n",
        "plt.savefig(\"323a, 21, 15A, let7g.pdf\")"
      ]
    }
  ]
}