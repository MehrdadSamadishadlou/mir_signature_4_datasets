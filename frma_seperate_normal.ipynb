{
 "cells": [
  {
   "cell_type": "markdown",
   "id": "9debbae2",
   "metadata": {
    "id": "9debbae2"
   },
   "source": [
    "**In this notebook, I have trained different models with combination of 09 and 67 dataset only and assesed their performance on 75 and 46 dataset for validation.**"
   ]
  },
  {
   "cell_type": "markdown",
   "id": "L31h-yKJO4x6",
   "metadata": {
    "id": "L31h-yKJO4x6"
   },
   "source": [
    "If this code will running on the google colab, please run the below code. If not, ignore it."
   ]
  },
  {
   "cell_type": "code",
   "execution_count": 1,
   "id": "8FCKz-85O3tq",
   "metadata": {
    "colab": {
     "base_uri": "https://localhost:8080/"
    },
    "id": "8FCKz-85O3tq",
    "outputId": "60b66a56-e7e6-4631-bce1-24f316a90d82"
   },
   "outputs": [
    {
     "name": "stdout",
     "output_type": "stream",
     "text": [
      "Requirement already satisfied: h5py in /Users/mehrdad/opt/anaconda3/lib/python3.9/site-packages (3.2.1)\n",
      "Requirement already satisfied: scikit-optimize in /Users/mehrdad/opt/anaconda3/lib/python3.9/site-packages (0.9.0)\n",
      "Requirement already satisfied: numpy>=1.19.0 in /Users/mehrdad/opt/anaconda3/lib/python3.9/site-packages (from h5py) (1.20.3)\n",
      "Requirement already satisfied: pyaml>=16.9 in /Users/mehrdad/opt/anaconda3/lib/python3.9/site-packages (from scikit-optimize) (21.10.1)\n",
      "Requirement already satisfied: scipy>=0.19.1 in /Users/mehrdad/opt/anaconda3/lib/python3.9/site-packages (from scikit-optimize) (1.7.1)\n",
      "Requirement already satisfied: joblib>=0.11 in /Users/mehrdad/opt/anaconda3/lib/python3.9/site-packages (from scikit-optimize) (1.1.0)\n",
      "Requirement already satisfied: scikit-learn>=0.20.0 in /Users/mehrdad/opt/anaconda3/lib/python3.9/site-packages (from scikit-optimize) (1.0.2)\n",
      "Requirement already satisfied: PyYAML in /Users/mehrdad/opt/anaconda3/lib/python3.9/site-packages (from pyaml>=16.9->scikit-optimize) (6.0)\n",
      "Requirement already satisfied: threadpoolctl>=2.0.0 in /Users/mehrdad/opt/anaconda3/lib/python3.9/site-packages (from scikit-learn>=0.20.0->scikit-optimize) (2.2.0)\n",
      "Note: you may need to restart the kernel to use updated packages.\n"
     ]
    }
   ],
   "source": [
    "pip install h5py scikit-optimize"
   ]
  },
  {
   "cell_type": "code",
   "execution_count": 1,
   "id": "ae398823",
   "metadata": {
    "id": "ae398823"
   },
   "outputs": [],
   "source": [
    "import pandas as pd\n",
    "import numpy as np\n",
    "import matplotlib.pyplot as plt\n",
    "import seaborn as sns\n",
    "from sklearn.utils import resample\n",
    "from sklearn.model_selection import train_test_split\n",
    "from sklearn.svm import SVC\n",
    "from sklearn.model_selection import GridSearchCV\n",
    "from sklearn.model_selection import cross_val_score, cross_validate\n",
    "from sklearn.metrics import confusion_matrix, classification_report, recall_score\n",
    "from sklearn.model_selection import KFold\n",
    "from sklearn.preprocessing import label_binarize\n",
    "from itertools import cycle\n",
    "from sklearn.preprocessing import LabelEncoder\n",
    "from sklearn.multiclass import OneVsRestClassifier\n",
    "from sklearn.metrics import roc_auc_score\n",
    "from sklearn.metrics import roc_curve, auc\n",
    "from scipy import interp\n",
    "from sklearn.model_selection import StratifiedKFold\n",
    "from sklearn.ensemble import RandomForestClassifier, GradientBoostingClassifier\n",
    "import xgboost as xgb\n",
    "from skopt import gbrt_minimize # Bayesian Optimization with GBM as surrogate\n",
    "from skopt.space import Real, Integer, Categorical\n",
    "from skopt.utils import use_named_args\n",
    "from skopt import forest_minimize # Bayesian Optimization with RF as surrogate\n",
    "from skopt import gp_minimize"
   ]
  },
  {
   "cell_type": "code",
   "execution_count": 2,
   "id": "7d312a9f",
   "metadata": {
    "id": "7d312a9f"
   },
   "outputs": [],
   "source": [
    "# ROC\n",
    "from sklearn.preprocessing import label_binarize\n",
    "from itertools import cycle\n",
    "from sklearn.preprocessing import LabelEncoder\n",
    "from sklearn.multiclass import OneVsRestClassifier\n",
    "from sklearn.metrics import roc_auc_score\n",
    "from sklearn.metrics import roc_curve, auc\n",
    "from scipy import interp"
   ]
  },
  {
   "cell_type": "code",
   "execution_count": 72,
   "id": "c28661b3",
   "metadata": {},
   "outputs": [],
   "source": [
    "import pickle"
   ]
  },
  {
   "cell_type": "code",
   "execution_count": 36,
   "id": "670812e2",
   "metadata": {
    "id": "670812e2"
   },
   "outputs": [],
   "source": [
    "data=pd.read_csv(\"CAD_Healthy_DEMs_Exp.csv\")\n",
    "data.index=data['Unnamed: 0']\n",
    "data=data.drop(['Unnamed: 0'], axis=1)\n",
    "data=data.T"
   ]
  },
  {
   "cell_type": "code",
   "execution_count": 37,
   "id": "59a2ddf8",
   "metadata": {},
   "outputs": [],
   "source": [
    "# Normallization\n",
    "\n",
    "for i in range(0,250):\n",
    "    for j in range(0,9):\n",
    "        data.iloc[i][j] = data.iloc[i][j]/data.iloc[i][9]"
   ]
  },
  {
   "cell_type": "code",
   "execution_count": 38,
   "id": "ae63ab8e",
   "metadata": {},
   "outputs": [],
   "source": [
    "data.drop(['8087252 (norm)'], axis=1, inplace=True)\n",
    "data['Status']=[\"H\"]*51 + [\"C\"]*60 + [\"M\"]*139\n",
    "data['Dataset']=['75']*5 + ['09']*46 + ['46']*14 + ['67']*46 + ['46']*28 + ['67']*111"
   ]
  },
  {
   "cell_type": "code",
   "execution_count": 39,
   "id": "3ee63304",
   "metadata": {},
   "outputs": [
    {
     "data": {
      "text/html": [
       "<div>\n",
       "<style scoped>\n",
       "    .dataframe tbody tr th:only-of-type {\n",
       "        vertical-align: middle;\n",
       "    }\n",
       "\n",
       "    .dataframe tbody tr th {\n",
       "        vertical-align: top;\n",
       "    }\n",
       "\n",
       "    .dataframe thead th {\n",
       "        text-align: right;\n",
       "    }\n",
       "</style>\n",
       "<table border=\"1\" class=\"dataframe\">\n",
       "  <thead>\n",
       "    <tr style=\"text-align: right;\">\n",
       "      <th>Unnamed: 0</th>\n",
       "      <th>7900488</th>\n",
       "      <th>7916984</th>\n",
       "      <th>7923976</th>\n",
       "      <th>7969574</th>\n",
       "      <th>7971661</th>\n",
       "      <th>8008885</th>\n",
       "      <th>8084755</th>\n",
       "      <th>8087881</th>\n",
       "      <th>8163107</th>\n",
       "      <th>Status</th>\n",
       "      <th>Dataset</th>\n",
       "    </tr>\n",
       "  </thead>\n",
       "  <tbody>\n",
       "    <tr>\n",
       "      <th>75.GSM1316371.H</th>\n",
       "      <td>0.821482</td>\n",
       "      <td>0.953340</td>\n",
       "      <td>0.614379</td>\n",
       "      <td>1.210115</td>\n",
       "      <td>0.838021</td>\n",
       "      <td>1.269683</td>\n",
       "      <td>0.500992</td>\n",
       "      <td>1.049844</td>\n",
       "      <td>1.023894</td>\n",
       "      <td>H</td>\n",
       "      <td>75</td>\n",
       "    </tr>\n",
       "    <tr>\n",
       "      <th>75.GSM1316372.H</th>\n",
       "      <td>0.835394</td>\n",
       "      <td>1.006169</td>\n",
       "      <td>0.591621</td>\n",
       "      <td>1.230080</td>\n",
       "      <td>0.872639</td>\n",
       "      <td>1.346317</td>\n",
       "      <td>0.549175</td>\n",
       "      <td>1.087701</td>\n",
       "      <td>1.044409</td>\n",
       "      <td>H</td>\n",
       "      <td>75</td>\n",
       "    </tr>\n",
       "    <tr>\n",
       "      <th>75.GSM1316373.H</th>\n",
       "      <td>0.980863</td>\n",
       "      <td>1.025993</td>\n",
       "      <td>0.694358</td>\n",
       "      <td>1.310815</td>\n",
       "      <td>0.954941</td>\n",
       "      <td>1.446121</td>\n",
       "      <td>0.592576</td>\n",
       "      <td>1.142362</td>\n",
       "      <td>1.155256</td>\n",
       "      <td>H</td>\n",
       "      <td>75</td>\n",
       "    </tr>\n",
       "    <tr>\n",
       "      <th>75.GSM1316374.H</th>\n",
       "      <td>0.904456</td>\n",
       "      <td>0.901394</td>\n",
       "      <td>0.638693</td>\n",
       "      <td>1.243170</td>\n",
       "      <td>0.946500</td>\n",
       "      <td>1.364252</td>\n",
       "      <td>0.571343</td>\n",
       "      <td>1.109096</td>\n",
       "      <td>0.985921</td>\n",
       "      <td>H</td>\n",
       "      <td>75</td>\n",
       "    </tr>\n",
       "    <tr>\n",
       "      <th>75.GSM1316375.H</th>\n",
       "      <td>0.790590</td>\n",
       "      <td>0.932724</td>\n",
       "      <td>0.561555</td>\n",
       "      <td>1.195788</td>\n",
       "      <td>0.896717</td>\n",
       "      <td>1.217840</td>\n",
       "      <td>0.508136</td>\n",
       "      <td>1.028521</td>\n",
       "      <td>0.983547</td>\n",
       "      <td>H</td>\n",
       "      <td>75</td>\n",
       "    </tr>\n",
       "    <tr>\n",
       "      <th>...</th>\n",
       "      <td>...</td>\n",
       "      <td>...</td>\n",
       "      <td>...</td>\n",
       "      <td>...</td>\n",
       "      <td>...</td>\n",
       "      <td>...</td>\n",
       "      <td>...</td>\n",
       "      <td>...</td>\n",
       "      <td>...</td>\n",
       "      <td>...</td>\n",
       "      <td>...</td>\n",
       "    </tr>\n",
       "    <tr>\n",
       "      <th>67.GSM1448706.M</th>\n",
       "      <td>1.283033</td>\n",
       "      <td>1.139121</td>\n",
       "      <td>0.842508</td>\n",
       "      <td>1.543433</td>\n",
       "      <td>1.159984</td>\n",
       "      <td>1.696429</td>\n",
       "      <td>0.735167</td>\n",
       "      <td>1.176757</td>\n",
       "      <td>1.255723</td>\n",
       "      <td>M</td>\n",
       "      <td>67</td>\n",
       "    </tr>\n",
       "    <tr>\n",
       "      <th>67.GSM1448710.M</th>\n",
       "      <td>1.098967</td>\n",
       "      <td>1.066525</td>\n",
       "      <td>0.708614</td>\n",
       "      <td>1.406780</td>\n",
       "      <td>0.944209</td>\n",
       "      <td>1.586826</td>\n",
       "      <td>0.655958</td>\n",
       "      <td>1.111460</td>\n",
       "      <td>1.182725</td>\n",
       "      <td>M</td>\n",
       "      <td>67</td>\n",
       "    </tr>\n",
       "    <tr>\n",
       "      <th>67.GSM1448714.M</th>\n",
       "      <td>1.114043</td>\n",
       "      <td>1.097254</td>\n",
       "      <td>0.813784</td>\n",
       "      <td>1.472832</td>\n",
       "      <td>1.031049</td>\n",
       "      <td>1.496085</td>\n",
       "      <td>0.595440</td>\n",
       "      <td>1.112559</td>\n",
       "      <td>1.245398</td>\n",
       "      <td>M</td>\n",
       "      <td>67</td>\n",
       "    </tr>\n",
       "    <tr>\n",
       "      <th>67.GSM1448718.M</th>\n",
       "      <td>1.080390</td>\n",
       "      <td>1.062306</td>\n",
       "      <td>0.784111</td>\n",
       "      <td>1.512735</td>\n",
       "      <td>1.032643</td>\n",
       "      <td>1.682794</td>\n",
       "      <td>0.656581</td>\n",
       "      <td>1.067695</td>\n",
       "      <td>1.227891</td>\n",
       "      <td>M</td>\n",
       "      <td>67</td>\n",
       "    </tr>\n",
       "    <tr>\n",
       "      <th>67.GSM1448722.M</th>\n",
       "      <td>1.253685</td>\n",
       "      <td>1.125844</td>\n",
       "      <td>0.853420</td>\n",
       "      <td>1.534728</td>\n",
       "      <td>1.034110</td>\n",
       "      <td>1.747847</td>\n",
       "      <td>0.749807</td>\n",
       "      <td>1.207108</td>\n",
       "      <td>1.280545</td>\n",
       "      <td>M</td>\n",
       "      <td>67</td>\n",
       "    </tr>\n",
       "  </tbody>\n",
       "</table>\n",
       "<p>250 rows × 11 columns</p>\n",
       "</div>"
      ],
      "text/plain": [
       "Unnamed: 0        7900488   7916984   7923976   7969574   7971661   8008885  \\\n",
       "75.GSM1316371.H  0.821482  0.953340  0.614379  1.210115  0.838021  1.269683   \n",
       "75.GSM1316372.H  0.835394  1.006169  0.591621  1.230080  0.872639  1.346317   \n",
       "75.GSM1316373.H  0.980863  1.025993  0.694358  1.310815  0.954941  1.446121   \n",
       "75.GSM1316374.H  0.904456  0.901394  0.638693  1.243170  0.946500  1.364252   \n",
       "75.GSM1316375.H  0.790590  0.932724  0.561555  1.195788  0.896717  1.217840   \n",
       "...                   ...       ...       ...       ...       ...       ...   \n",
       "67.GSM1448706.M  1.283033  1.139121  0.842508  1.543433  1.159984  1.696429   \n",
       "67.GSM1448710.M  1.098967  1.066525  0.708614  1.406780  0.944209  1.586826   \n",
       "67.GSM1448714.M  1.114043  1.097254  0.813784  1.472832  1.031049  1.496085   \n",
       "67.GSM1448718.M  1.080390  1.062306  0.784111  1.512735  1.032643  1.682794   \n",
       "67.GSM1448722.M  1.253685  1.125844  0.853420  1.534728  1.034110  1.747847   \n",
       "\n",
       "Unnamed: 0        8084755   8087881   8163107 Status Dataset  \n",
       "75.GSM1316371.H  0.500992  1.049844  1.023894      H      75  \n",
       "75.GSM1316372.H  0.549175  1.087701  1.044409      H      75  \n",
       "75.GSM1316373.H  0.592576  1.142362  1.155256      H      75  \n",
       "75.GSM1316374.H  0.571343  1.109096  0.985921      H      75  \n",
       "75.GSM1316375.H  0.508136  1.028521  0.983547      H      75  \n",
       "...                   ...       ...       ...    ...     ...  \n",
       "67.GSM1448706.M  0.735167  1.176757  1.255723      M      67  \n",
       "67.GSM1448710.M  0.655958  1.111460  1.182725      M      67  \n",
       "67.GSM1448714.M  0.595440  1.112559  1.245398      M      67  \n",
       "67.GSM1448718.M  0.656581  1.067695  1.227891      M      67  \n",
       "67.GSM1448722.M  0.749807  1.207108  1.280545      M      67  \n",
       "\n",
       "[250 rows x 11 columns]"
      ]
     },
     "execution_count": 39,
     "metadata": {},
     "output_type": "execute_result"
    }
   ],
   "source": [
    "data"
   ]
  },
  {
   "cell_type": "code",
   "execution_count": 40,
   "id": "6f330534",
   "metadata": {
    "id": "6f330534",
    "outputId": "ba81ea9b-8eb4-48a9-987b-03fecd35f06f"
   },
   "outputs": [
    {
     "data": {
      "text/plain": [
       "(M    139\n",
       " C     60\n",
       " H     51\n",
       " Name: Status, dtype: int64,\n",
       " 67    157\n",
       " 09     46\n",
       " 46     42\n",
       " 75      5\n",
       " Name: Dataset, dtype: int64)"
      ]
     },
     "execution_count": 40,
     "metadata": {},
     "output_type": "execute_result"
    }
   ],
   "source": [
    "data['Status'].value_counts(), data['Dataset'].value_counts()"
   ]
  },
  {
   "cell_type": "markdown",
   "id": "02e7c13c",
   "metadata": {
    "id": "02e7c13c"
   },
   "source": [
    "# Exploratory Data Analysis"
   ]
  },
  {
   "cell_type": "code",
   "execution_count": 41,
   "id": "c234a6c5",
   "metadata": {
    "id": "c234a6c5",
    "outputId": "24e94a04-2ffa-4f17-cd97-2f7bf77d3a54"
   },
   "outputs": [
    {
     "data": {
      "text/plain": [
       "(250, 11)"
      ]
     },
     "execution_count": 41,
     "metadata": {},
     "output_type": "execute_result"
    }
   ],
   "source": [
    "data.shape"
   ]
  },
  {
   "cell_type": "code",
   "execution_count": 42,
   "id": "54f2d4bb",
   "metadata": {
    "id": "54f2d4bb",
    "outputId": "815aa4b2-90d0-4085-dca5-d46cacf4c614"
   },
   "outputs": [
    {
     "data": {
      "text/html": [
       "<div>\n",
       "<style scoped>\n",
       "    .dataframe tbody tr th:only-of-type {\n",
       "        vertical-align: middle;\n",
       "    }\n",
       "\n",
       "    .dataframe tbody tr th {\n",
       "        vertical-align: top;\n",
       "    }\n",
       "\n",
       "    .dataframe thead th {\n",
       "        text-align: right;\n",
       "    }\n",
       "</style>\n",
       "<table border=\"1\" class=\"dataframe\">\n",
       "  <thead>\n",
       "    <tr style=\"text-align: right;\">\n",
       "      <th></th>\n",
       "      <th>count</th>\n",
       "      <th>mean</th>\n",
       "      <th>std</th>\n",
       "      <th>min</th>\n",
       "      <th>25%</th>\n",
       "      <th>50%</th>\n",
       "      <th>75%</th>\n",
       "      <th>max</th>\n",
       "    </tr>\n",
       "    <tr>\n",
       "      <th>Unnamed: 0</th>\n",
       "      <th></th>\n",
       "      <th></th>\n",
       "      <th></th>\n",
       "      <th></th>\n",
       "      <th></th>\n",
       "      <th></th>\n",
       "      <th></th>\n",
       "      <th></th>\n",
       "    </tr>\n",
       "  </thead>\n",
       "  <tbody>\n",
       "    <tr>\n",
       "      <th>7900488</th>\n",
       "      <td>250.0</td>\n",
       "      <td>1.066969</td>\n",
       "      <td>0.116340</td>\n",
       "      <td>0.720585</td>\n",
       "      <td>1.023136</td>\n",
       "      <td>1.100019</td>\n",
       "      <td>1.145340</td>\n",
       "      <td>1.283033</td>\n",
       "    </tr>\n",
       "    <tr>\n",
       "      <th>7916984</th>\n",
       "      <td>250.0</td>\n",
       "      <td>1.080419</td>\n",
       "      <td>0.105178</td>\n",
       "      <td>0.723044</td>\n",
       "      <td>1.027844</td>\n",
       "      <td>1.101873</td>\n",
       "      <td>1.156875</td>\n",
       "      <td>1.250222</td>\n",
       "    </tr>\n",
       "    <tr>\n",
       "      <th>7923976</th>\n",
       "      <td>250.0</td>\n",
       "      <td>0.766803</td>\n",
       "      <td>0.092008</td>\n",
       "      <td>0.522439</td>\n",
       "      <td>0.735459</td>\n",
       "      <td>0.791198</td>\n",
       "      <td>0.827043</td>\n",
       "      <td>0.924059</td>\n",
       "    </tr>\n",
       "    <tr>\n",
       "      <th>7969574</th>\n",
       "      <td>250.0</td>\n",
       "      <td>1.361486</td>\n",
       "      <td>0.103901</td>\n",
       "      <td>1.095644</td>\n",
       "      <td>1.336135</td>\n",
       "      <td>1.386280</td>\n",
       "      <td>1.430252</td>\n",
       "      <td>1.554809</td>\n",
       "    </tr>\n",
       "    <tr>\n",
       "      <th>7971661</th>\n",
       "      <td>250.0</td>\n",
       "      <td>0.973975</td>\n",
       "      <td>0.105058</td>\n",
       "      <td>0.700240</td>\n",
       "      <td>0.929114</td>\n",
       "      <td>0.991027</td>\n",
       "      <td>1.035496</td>\n",
       "      <td>1.225783</td>\n",
       "    </tr>\n",
       "    <tr>\n",
       "      <th>8008885</th>\n",
       "      <td>250.0</td>\n",
       "      <td>1.514615</td>\n",
       "      <td>0.174990</td>\n",
       "      <td>0.956648</td>\n",
       "      <td>1.408964</td>\n",
       "      <td>1.554265</td>\n",
       "      <td>1.633042</td>\n",
       "      <td>1.835928</td>\n",
       "    </tr>\n",
       "    <tr>\n",
       "      <th>8084755</th>\n",
       "      <td>250.0</td>\n",
       "      <td>0.677780</td>\n",
       "      <td>0.095619</td>\n",
       "      <td>0.469142</td>\n",
       "      <td>0.619410</td>\n",
       "      <td>0.697222</td>\n",
       "      <td>0.745200</td>\n",
       "      <td>0.854820</td>\n",
       "    </tr>\n",
       "    <tr>\n",
       "      <th>8087881</th>\n",
       "      <td>250.0</td>\n",
       "      <td>1.117125</td>\n",
       "      <td>0.107976</td>\n",
       "      <td>0.740013</td>\n",
       "      <td>1.061921</td>\n",
       "      <td>1.148477</td>\n",
       "      <td>1.186825</td>\n",
       "      <td>1.337902</td>\n",
       "    </tr>\n",
       "    <tr>\n",
       "      <th>8163107</th>\n",
       "      <td>250.0</td>\n",
       "      <td>1.186332</td>\n",
       "      <td>0.166469</td>\n",
       "      <td>0.670049</td>\n",
       "      <td>1.144148</td>\n",
       "      <td>1.245006</td>\n",
       "      <td>1.295443</td>\n",
       "      <td>1.429198</td>\n",
       "    </tr>\n",
       "  </tbody>\n",
       "</table>\n",
       "</div>"
      ],
      "text/plain": [
       "            count      mean       std       min       25%       50%       75%  \\\n",
       "Unnamed: 0                                                                      \n",
       "7900488     250.0  1.066969  0.116340  0.720585  1.023136  1.100019  1.145340   \n",
       "7916984     250.0  1.080419  0.105178  0.723044  1.027844  1.101873  1.156875   \n",
       "7923976     250.0  0.766803  0.092008  0.522439  0.735459  0.791198  0.827043   \n",
       "7969574     250.0  1.361486  0.103901  1.095644  1.336135  1.386280  1.430252   \n",
       "7971661     250.0  0.973975  0.105058  0.700240  0.929114  0.991027  1.035496   \n",
       "8008885     250.0  1.514615  0.174990  0.956648  1.408964  1.554265  1.633042   \n",
       "8084755     250.0  0.677780  0.095619  0.469142  0.619410  0.697222  0.745200   \n",
       "8087881     250.0  1.117125  0.107976  0.740013  1.061921  1.148477  1.186825   \n",
       "8163107     250.0  1.186332  0.166469  0.670049  1.144148  1.245006  1.295443   \n",
       "\n",
       "                 max  \n",
       "Unnamed: 0            \n",
       "7900488     1.283033  \n",
       "7916984     1.250222  \n",
       "7923976     0.924059  \n",
       "7969574     1.554809  \n",
       "7971661     1.225783  \n",
       "8008885     1.835928  \n",
       "8084755     0.854820  \n",
       "8087881     1.337902  \n",
       "8163107     1.429198  "
      ]
     },
     "execution_count": 42,
     "metadata": {},
     "output_type": "execute_result"
    }
   ],
   "source": [
    "data.describe().T"
   ]
  },
  {
   "cell_type": "code",
   "execution_count": 43,
   "id": "2f4720fc",
   "metadata": {
    "id": "2f4720fc",
    "outputId": "2e376ab9-f55c-448b-9188-8745eb7b1f92"
   },
   "outputs": [
    {
     "data": {
      "image/png": "[encoded data removed]",
      "text/plain": [
       "<Figure size 1008x720 with 1 Axes>"
      ]
     },
     "metadata": {
      "needs_background": "light"
     },
     "output_type": "display_data"
    }
   ],
   "source": [
    "data_melt=pd.melt(data.drop(['Dataset'], axis=1), id_vars='Status')\n",
    "plt.figure(figsize=(14,10))\n",
    "sns.violinplot(x=\"Unnamed: 0\", y=\"value\", hue='Status', data=data_melt, color=\".8\");\n",
    "sns.stripplot(x=\"Unnamed: 0\", y=\"value\", hue='Status', data=data_melt, size=4,  palette=\"Set2\",\n",
    "               jitter=True, linewidth=0, dodge=True)\n",
    "plt.ylabel('', fontsize = 20)\n",
    "plt.xlabel('', fontsize = 20)\n",
    "plt.legend(loc='upper right', prop={'size':20})\n",
    "plt.tick_params(axis='x', which='major', labelsize=15)\n",
    "plt.tick_params(axis='both', which='major', labelsize=16)\n",
    "plt.savefig('Expressionforall.pdf', bbox_inches='tight')"
   ]
  },
  {
   "cell_type": "code",
   "execution_count": 44,
   "id": "255f5c23",
   "metadata": {
    "id": "255f5c23",
    "outputId": "cd79781a-6008-4d84-9cca-fae06dd13501"
   },
   "outputs": [
    {
     "data": {
      "image/png": "[encoded data removed]",
      "text/plain": [
       "<Figure size 1080x720 with 2 Axes>"
      ]
     },
     "metadata": {
      "needs_background": "light"
     },
     "output_type": "display_data"
    }
   ],
   "source": [
    "plt.figure(figsize=(15,10))\n",
    "sns.set(font_scale=1.5)\n",
    "df=data[data['Status'] == \"H\"].drop(['Status', 'Dataset'], axis=1)\n",
    "sns.heatmap(df.corr(),vmax=1,square=True, annot=True, cmap='viridis')\n",
    "plt.title('Correlation for Healthy samples')\n",
    "plt.savefig('corrforH.pdf', bbox_inches='tight')"
   ]
  },
  {
   "cell_type": "code",
   "execution_count": 45,
   "id": "7741e7f8",
   "metadata": {
    "id": "7741e7f8",
    "outputId": "0cc5ae8b-87b5-41c7-cb69-86ddbfb53808"
   },
   "outputs": [
    {
     "data": {
      "image/png": "[encoded data removed]",
      "text/plain": [
       "<Figure size 1080x720 with 2 Axes>"
      ]
     },
     "metadata": {},
     "output_type": "display_data"
    }
   ],
   "source": [
    "plt.figure(figsize=(15,10))\n",
    "sns.set(font_scale=1.5)\n",
    "df=data[data['Status'] == \"M\"].drop(['Status', 'Dataset'], axis=1)\n",
    "sns.heatmap(df.corr(),vmax=1,square=True, annot=True, cmap='viridis')\n",
    "plt.title('Correlation for MI samples')\n",
    "plt.savefig('corrforM.pdf', bbox_inches='tight')"
   ]
  },
  {
   "cell_type": "code",
   "execution_count": 46,
   "id": "7dd5be27",
   "metadata": {
    "id": "7dd5be27",
    "outputId": "74187990-1382-42c4-a7c0-f53c781b38ac"
   },
   "outputs": [
    {
     "data": {
      "image/png": "[encoded data removed]",
      "text/plain": [
       "<Figure size 1080x720 with 2 Axes>"
      ]
     },
     "metadata": {},
     "output_type": "display_data"
    }
   ],
   "source": [
    "plt.figure(figsize=(15,10))\n",
    "sns.set(font_scale=1.5)\n",
    "df=data[data['Status'] == \"C\"].drop(['Status', 'Dataset'], axis=1)\n",
    "sns.heatmap(df.corr(),vmax=1,square=True, annot=True, cmap='viridis')\n",
    "plt.title('Correlation for CAD samples')\n",
    "plt.savefig('corrforC.pdf', bbox_inches='tight')"
   ]
  },
  {
   "cell_type": "markdown",
   "id": "33d196e1",
   "metadata": {
    "id": "33d196e1"
   },
   "source": [
    "# Seperating two sets for train and test set"
   ]
  },
  {
   "cell_type": "code",
   "execution_count": 47,
   "id": "921561cd",
   "metadata": {
    "id": "921561cd"
   },
   "outputs": [],
   "source": [
    "train_data=data[data['Dataset']=='67']\n",
    "train_data=pd.concat([train_data, data[data['Dataset']=='09']], axis=0)\n",
    "train_data.drop(['Dataset'], axis=1, inplace=True)"
   ]
  },
  {
   "cell_type": "code",
   "execution_count": 48,
   "id": "c38e475e",
   "metadata": {
    "id": "c38e475e"
   },
   "outputs": [],
   "source": [
    "test_data=data[data['Dataset']=='46']\n",
    "test_data=pd.concat([test_data, data[data['Dataset']=='75']], axis=0)\n",
    "test_data.drop(['Dataset'], axis=1, inplace=True)"
   ]
  },
  {
   "cell_type": "code",
   "execution_count": 49,
   "id": "9f020da6",
   "metadata": {},
   "outputs": [
    {
     "data": {
      "text/html": [
       "<div>\n",
       "<style scoped>\n",
       "    .dataframe tbody tr th:only-of-type {\n",
       "        vertical-align: middle;\n",
       "    }\n",
       "\n",
       "    .dataframe tbody tr th {\n",
       "        vertical-align: top;\n",
       "    }\n",
       "\n",
       "    .dataframe thead th {\n",
       "        text-align: right;\n",
       "    }\n",
       "</style>\n",
       "<table border=\"1\" class=\"dataframe\">\n",
       "  <thead>\n",
       "    <tr style=\"text-align: right;\">\n",
       "      <th>Unnamed: 0</th>\n",
       "      <th>7900488</th>\n",
       "      <th>7916984</th>\n",
       "      <th>7923976</th>\n",
       "      <th>7969574</th>\n",
       "      <th>7971661</th>\n",
       "      <th>8008885</th>\n",
       "      <th>8084755</th>\n",
       "      <th>8087881</th>\n",
       "      <th>8163107</th>\n",
       "      <th>Status</th>\n",
       "    </tr>\n",
       "  </thead>\n",
       "  <tbody>\n",
       "    <tr>\n",
       "      <th>75.GSM1316371.H</th>\n",
       "      <td>0.821482</td>\n",
       "      <td>0.953340</td>\n",
       "      <td>0.614379</td>\n",
       "      <td>1.210115</td>\n",
       "      <td>0.838021</td>\n",
       "      <td>1.269683</td>\n",
       "      <td>0.500992</td>\n",
       "      <td>1.049844</td>\n",
       "      <td>1.023894</td>\n",
       "      <td>H</td>\n",
       "    </tr>\n",
       "    <tr>\n",
       "      <th>75.GSM1316372.H</th>\n",
       "      <td>0.835394</td>\n",
       "      <td>1.006169</td>\n",
       "      <td>0.591621</td>\n",
       "      <td>1.230080</td>\n",
       "      <td>0.872639</td>\n",
       "      <td>1.346317</td>\n",
       "      <td>0.549175</td>\n",
       "      <td>1.087701</td>\n",
       "      <td>1.044409</td>\n",
       "      <td>H</td>\n",
       "    </tr>\n",
       "    <tr>\n",
       "      <th>75.GSM1316373.H</th>\n",
       "      <td>0.980863</td>\n",
       "      <td>1.025993</td>\n",
       "      <td>0.694358</td>\n",
       "      <td>1.310815</td>\n",
       "      <td>0.954941</td>\n",
       "      <td>1.446121</td>\n",
       "      <td>0.592576</td>\n",
       "      <td>1.142362</td>\n",
       "      <td>1.155256</td>\n",
       "      <td>H</td>\n",
       "    </tr>\n",
       "    <tr>\n",
       "      <th>75.GSM1316374.H</th>\n",
       "      <td>0.904456</td>\n",
       "      <td>0.901394</td>\n",
       "      <td>0.638693</td>\n",
       "      <td>1.243170</td>\n",
       "      <td>0.946500</td>\n",
       "      <td>1.364252</td>\n",
       "      <td>0.571343</td>\n",
       "      <td>1.109096</td>\n",
       "      <td>0.985921</td>\n",
       "      <td>H</td>\n",
       "    </tr>\n",
       "    <tr>\n",
       "      <th>75.GSM1316375.H</th>\n",
       "      <td>0.790590</td>\n",
       "      <td>0.932724</td>\n",
       "      <td>0.561555</td>\n",
       "      <td>1.195788</td>\n",
       "      <td>0.896717</td>\n",
       "      <td>1.217840</td>\n",
       "      <td>0.508136</td>\n",
       "      <td>1.028521</td>\n",
       "      <td>0.983547</td>\n",
       "      <td>H</td>\n",
       "    </tr>\n",
       "  </tbody>\n",
       "</table>\n",
       "</div>"
      ],
      "text/plain": [
       "Unnamed: 0        7900488   7916984   7923976   7969574   7971661   8008885  \\\n",
       "75.GSM1316371.H  0.821482  0.953340  0.614379  1.210115  0.838021  1.269683   \n",
       "75.GSM1316372.H  0.835394  1.006169  0.591621  1.230080  0.872639  1.346317   \n",
       "75.GSM1316373.H  0.980863  1.025993  0.694358  1.310815  0.954941  1.446121   \n",
       "75.GSM1316374.H  0.904456  0.901394  0.638693  1.243170  0.946500  1.364252   \n",
       "75.GSM1316375.H  0.790590  0.932724  0.561555  1.195788  0.896717  1.217840   \n",
       "\n",
       "Unnamed: 0        8084755   8087881   8163107 Status  \n",
       "75.GSM1316371.H  0.500992  1.049844  1.023894      H  \n",
       "75.GSM1316372.H  0.549175  1.087701  1.044409      H  \n",
       "75.GSM1316373.H  0.592576  1.142362  1.155256      H  \n",
       "75.GSM1316374.H  0.571343  1.109096  0.985921      H  \n",
       "75.GSM1316375.H  0.508136  1.028521  0.983547      H  "
      ]
     },
     "execution_count": 49,
     "metadata": {},
     "output_type": "execute_result"
    }
   ],
   "source": [
    "test_data.tail()"
   ]
  },
  {
   "cell_type": "code",
   "execution_count": 50,
   "id": "523f96e5",
   "metadata": {
    "colab": {
     "base_uri": "https://localhost:8080/"
    },
    "id": "523f96e5",
    "outputId": "ed6652ae-f910-4a49-a30e-555e920dda28"
   },
   "outputs": [
    {
     "data": {
      "text/plain": [
       "(M    111\n",
       " C     46\n",
       " H     46\n",
       " Name: Status, dtype: int64,\n",
       " M    28\n",
       " C    14\n",
       " H     5\n",
       " Name: Status, dtype: int64)"
      ]
     },
     "execution_count": 50,
     "metadata": {},
     "output_type": "execute_result"
    }
   ],
   "source": [
    "train_data['Status'].value_counts(), test_data['Status'].value_counts()"
   ]
  },
  {
   "cell_type": "markdown",
   "id": "d0905dd7",
   "metadata": {
    "id": "d0905dd7"
   },
   "source": [
    "# Healthy or MI/CAD"
   ]
  },
  {
   "cell_type": "markdown",
   "id": "6cb8d1d5",
   "metadata": {
    "id": "6cb8d1d5"
   },
   "source": [
    "## Training a linear SVM model for all miRs"
   ]
  },
  {
   "cell_type": "code",
   "execution_count": 51,
   "id": "b6fc5532",
   "metadata": {
    "id": "b6fc5532"
   },
   "outputs": [],
   "source": [
    "scoring = ['precision_weighted', 'accuracy']"
   ]
  },
  {
   "cell_type": "code",
   "execution_count": 61,
   "id": "7f53779c",
   "metadata": {
    "id": "7f53779c",
    "outputId": "a1941eb6-f05e-4cb4-d4ae-5a1ee488c97f"
   },
   "outputs": [
    {
     "name": "stderr",
     "output_type": "stream",
     "text": [
      "/Users/mehrdad/opt/anaconda3/lib/python3.9/site-packages/sklearn/metrics/_classification.py:1318: UndefinedMetricWarning: Precision is ill-defined and being set to 0.0 in labels with no predicted samples. Use `zero_division` parameter to control this behavior.\n",
      "  _warn_prf(average, modifier, msg_start, len(result))\n"
     ]
    }
   ],
   "source": [
    "mirs=list(train_data.columns)[0:9]\n",
    "new_target=[\"nH\"]*157 + [\"H\"]*46\n",
    "result=[]\n",
    "for mir in mirs:\n",
    "  X_temp=pd.DataFrame(train_data[mir])\n",
    "  y_temp=new_target\n",
    "  cv=StratifiedKFold(n_splits=10)\n",
    "  svm=SVC(kernel='rbf', random_state=1)\n",
    "  scores = cross_validate(svm, X_temp, y_temp, scoring=scoring, cv=cv,\n",
    "                          n_jobs=-1, return_train_score=True)\n",
    "  scores=pd.DataFrame(scores)\n",
    "  result.append([mir, list(scores.mean(axis=0))])"
   ]
  },
  {
   "cell_type": "code",
   "execution_count": 62,
   "id": "21dd2c04",
   "metadata": {
    "id": "21dd2c04",
    "outputId": "ef503f8b-f4a5-4edd-d343-8a807c9d7ef5"
   },
   "outputs": [
    {
     "data": {
      "text/plain": [
       "[['7900488',\n",
       "  [0.0036009073257446287,\n",
       "   0.0024364948272705077,\n",
       "   0.9655012004801922,\n",
       "   0.9611662506520533,\n",
       "   0.9604761904761905,\n",
       "   0.9611391340899538]],\n",
       " ['7916984',\n",
       "  [0.00423424243927002,\n",
       "   0.0022407293319702147,\n",
       "   0.8539472025652366,\n",
       "   0.8705402288049472,\n",
       "   0.8661904761904762,\n",
       "   0.8757401068876479]],\n",
       " ['7923976',\n",
       "  [0.002051901817321777,\n",
       "   0.0015813112258911133,\n",
       "   0.9816220238095237,\n",
       "   0.9763678422624281,\n",
       "   0.9799999999999999,\n",
       "   0.9764576953101545]],\n",
       " ['7969574',\n",
       "  [0.0020125389099121095,\n",
       "   0.0012215852737426757,\n",
       "   0.9913442460317461,\n",
       "   0.9951076034717227,\n",
       "   0.9902380952380951,\n",
       "   0.9950729598270582]],\n",
       " ['7971661',\n",
       "  [0.0035770893096923827,\n",
       "   0.0014072656631469727,\n",
       "   0.9538815943043885,\n",
       "   0.9528986862151397,\n",
       "   0.9504761904761905,\n",
       "   0.9523809523809523]],\n",
       " ['8008885',\n",
       "  [0.002487492561340332,\n",
       "   0.0012796401977539062,\n",
       "   0.9218818645879405,\n",
       "   0.9236548103711038,\n",
       "   0.8980952380952381,\n",
       "   0.9244670629916533]],\n",
       " ['8084755',\n",
       "  [0.0024021148681640627,\n",
       "   0.0013847827911376953,\n",
       "   0.9731458333333334,\n",
       "   0.975676043724625,\n",
       "   0.97,\n",
       "   0.9753678015973097]],\n",
       " ['8087881',\n",
       "  [0.0027085065841674803,\n",
       "   0.001279735565185547,\n",
       "   0.9403539915966388,\n",
       "   0.9309443239776188,\n",
       "   0.9352380952380953,\n",
       "   0.9310214375788146]],\n",
       " ['8163107',\n",
       "  [0.0018207073211669923,\n",
       "   0.0012927770614624024,\n",
       "   0.9913125,\n",
       "   0.9901627785488325,\n",
       "   0.99,\n",
       "   0.9901459196541162]]]"
      ]
     },
     "execution_count": 62,
     "metadata": {},
     "output_type": "execute_result"
    }
   ],
   "source": [
    "result"
   ]
  },
  {
   "cell_type": "code",
   "execution_count": 63,
   "id": "5b580c35",
   "metadata": {
    "id": "5b580c35",
    "outputId": "98bfda29-b15d-4b2f-cf4d-b99d0ed4a184"
   },
   "outputs": [
    {
     "data": {
      "image/png": "[encoded data removed]",
      "text/plain": [
       "<Figure size 504x360 with 2 Axes>"
      ]
     },
     "metadata": {},
     "output_type": "display_data"
    }
   ],
   "source": [
    "#Confusion Matrix for 7969574\n",
    "X_temp=pd.DataFrame(train_data['7969574'])\n",
    "y_temp = new_target\n",
    "X_train, X_validation, y_train, y_validation = train_test_split(X_temp, y_temp, test_size=0.3, \n",
    "                                                                random_state=1, stratify=y_temp)\n",
    "svm=SVC(kernel='rbf', random_state=1).fit(X_train, y_train)\n",
    "pred=svm.predict(X_validation)\n",
    "cm=confusion_matrix(y_validation, pred, labels=['H', \"nH\"])\n",
    "df_cm=pd.DataFrame(cm, index=[i for i in ['H', 'nH']], columns=[i for i in ['Predicted H', 'Predicted nH']])\n",
    "plt.figure(figsize=(7,5))\n",
    "plt.title('SVM for 7969574 on validation set')\n",
    "sns.heatmap(df_cm,annot=True, cmap='viridis');\n",
    "plt.savefig('CM for H and nH by 7969574 on train.pdf')"
   ]
  },
  {
   "cell_type": "code",
   "execution_count": 64,
   "id": "e952cea2",
   "metadata": {
    "id": "e952cea2",
    "outputId": "79cbaebd-8eb5-41d0-8cea-58108afd566c"
   },
   "outputs": [
    {
     "data": {
      "text/plain": [
       "M    28\n",
       "C    14\n",
       "H     5\n",
       "Name: Status, dtype: int64"
      ]
     },
     "execution_count": 64,
     "metadata": {},
     "output_type": "execute_result"
    }
   ],
   "source": [
    "test_data['Status'].value_counts()"
   ]
  },
  {
   "cell_type": "code",
   "execution_count": 65,
   "id": "33269e7f",
   "metadata": {
    "id": "33269e7f",
    "outputId": "e9fa2500-1c99-4afb-eeeb-5df7b5898092"
   },
   "outputs": [
    {
     "data": {
      "image/png": "[encoded data removed]",
      "text/plain": [
       "<Figure size 504x360 with 2 Axes>"
      ]
     },
     "metadata": {},
     "output_type": "display_data"
    }
   ],
   "source": [
    "#Confusion Matrix for 7969574 on test set (75 and 46)\n",
    "\n",
    "X_test=pd.DataFrame(test_data['7969574'])\n",
    "y_test=[\"nH\"]*42 + [\"H\"]*5\n",
    "\n",
    "pred=svm.predict(X_test)\n",
    "cm=confusion_matrix(y_test, pred, labels=['H', \"nH\"])\n",
    "df_cm=pd.DataFrame(cm, index=[i for i in ['H', 'nH']], columns=[i for i in ['Predicted H', 'Predicted nH']])\n",
    "plt.figure(figsize=(7,5))\n",
    "plt.title('SVM for 7969574 on test set')\n",
    "sns.heatmap(df_cm,annot=True, cmap='viridis');\n",
    "plt.savefig('CM for H and nH by 7969574 on test set.pdf')"
   ]
  },
  {
   "cell_type": "code",
   "execution_count": 66,
   "id": "06bba2ba",
   "metadata": {
    "id": "06bba2ba",
    "outputId": "bafd256b-a678-4ed0-a769-de4b66de080f"
   },
   "outputs": [
    {
     "data": {
      "text/plain": [
       "(0.9929577464788732, 1.0, 0.9787234042553191)"
      ]
     },
     "execution_count": 66,
     "metadata": {},
     "output_type": "execute_result"
    }
   ],
   "source": [
    "svm.score(X_train, y_train), svm.score(X_validation, y_validation), svm.score(X_test, y_test)"
   ]
  },
  {
   "cell_type": "markdown",
   "id": "1e9358fc",
   "metadata": {},
   "source": [
    "## Last Model Training and extracting deployment file"
   ]
  },
  {
   "cell_type": "markdown",
   "id": "5c5ac9e2",
   "metadata": {},
   "source": [
    "### For 7969574"
   ]
  },
  {
   "cell_type": "code",
   "execution_count": 67,
   "id": "dffadba6",
   "metadata": {},
   "outputs": [],
   "source": [
    "new_target=[\"nH\"]*157 + [\"H\"]*46\n",
    "X_temp=pd.DataFrame(train_data['7969574'])\n",
    "y_temp = new_target\n",
    "\n",
    "svm_7969574=SVC(kernel='linear', random_state=1).fit(X_temp, y_temp)"
   ]
  },
  {
   "cell_type": "code",
   "execution_count": 68,
   "id": "8927c411",
   "metadata": {},
   "outputs": [],
   "source": [
    "X_test=pd.DataFrame(test_data['7969574'])\n",
    "y_test=[\"nH\"]*42 + [\"H\"]*5"
   ]
  },
  {
   "cell_type": "code",
   "execution_count": 70,
   "id": "4fb9eea9",
   "metadata": {},
   "outputs": [
    {
     "data": {
      "text/plain": [
       "(0.9950738916256158, 0.9574468085106383)"
      ]
     },
     "execution_count": 70,
     "metadata": {},
     "output_type": "execute_result"
    }
   ],
   "source": [
    "svm_7969574.score(X_temp, y_temp), svm_7969574.score(X_test, y_test)"
   ]
  },
  {
   "cell_type": "code",
   "execution_count": 73,
   "id": "c1e614b4",
   "metadata": {},
   "outputs": [],
   "source": [
    "# Extracting model file\n",
    "\n",
    "pickle_out=open('svm_7969574_norm.pkl', \"wb\")\n",
    "pickle.dump(svm_7969574, pickle_out)\n",
    "pickle_out.close()"
   ]
  },
  {
   "cell_type": "markdown",
   "id": "5bf67638",
   "metadata": {},
   "source": [
    "### For 7971661"
   ]
  },
  {
   "cell_type": "code",
   "execution_count": 27,
   "id": "174e19e5",
   "metadata": {},
   "outputs": [],
   "source": [
    "new_target=[\"nH\"]*157 + [\"H\"]*46\n",
    "X_temp=pd.DataFrame(train_data[7971661])\n",
    "y_temp = new_target\n",
    "\n",
    "svm_7971661=SVC(kernel='linear', random_state=1).fit(X_temp, y_temp)"
   ]
  },
  {
   "cell_type": "code",
   "execution_count": 74,
   "id": "3cc28f4e",
   "metadata": {},
   "outputs": [],
   "source": [
    "new_target=[\"nH\"]*157 + [\"H\"]*46\n",
    "X_temp=train_data[['8008885', '7971661']]\n",
    "y_temp = new_target\n",
    "\n",
    "svm_7971661=SVC(kernel='rbf', random_state=1).fit(X_temp, y_temp)"
   ]
  },
  {
   "cell_type": "code",
   "execution_count": 75,
   "id": "a93674f1",
   "metadata": {},
   "outputs": [],
   "source": [
    "X_test=test_data[['8008885', '7971661']]\n",
    "y_test=[\"nH\"]*42 + [\"H\"]*5"
   ]
  },
  {
   "cell_type": "code",
   "execution_count": 76,
   "id": "c5a827ad",
   "metadata": {},
   "outputs": [
    {
     "data": {
      "text/plain": [
       "(0.9655172413793104, 0.9574468085106383)"
      ]
     },
     "execution_count": 76,
     "metadata": {},
     "output_type": "execute_result"
    }
   ],
   "source": [
    "svm_7971661.score(X_temp, y_temp), svm_7971661.score(X_test, y_test)"
   ]
  },
  {
   "cell_type": "code",
   "execution_count": 77,
   "id": "888ec873",
   "metadata": {},
   "outputs": [],
   "source": [
    "pickle_out=open('svm_8008885_7971661_norm.pkl', \"wb\")\n",
    "pickle.dump(svm_7971661, pickle_out)\n",
    "pickle_out.close()"
   ]
  },
  {
   "cell_type": "markdown",
   "id": "313cacef",
   "metadata": {
    "id": "313cacef"
   },
   "source": [
    "# MI or CAD? This is the problem"
   ]
  },
  {
   "cell_type": "code",
   "execution_count": 78,
   "id": "dc94faae",
   "metadata": {
    "colab": {
     "base_uri": "https://localhost:8080/"
    },
    "id": "dc94faae",
    "outputId": "52c0c340-15a7-422e-92a9-56b5766e63a3"
   },
   "outputs": [
    {
     "data": {
      "text/plain": [
       "(M    111\n",
       " C     46\n",
       " Name: Status, dtype: int64,\n",
       " M    28\n",
       " C    14\n",
       " Name: Status, dtype: int64)"
      ]
     },
     "execution_count": 78,
     "metadata": {},
     "output_type": "execute_result"
    }
   ],
   "source": [
    "# Seperating MI and CAD data from Healthy samples.\n",
    "\n",
    "train_data_mc=train_data[train_data['Status'] != 'H']\n",
    "test_data_mc=test_data[test_data['Status'] != 'H']\n",
    "\n",
    "train_data_mc['Status'].value_counts(), test_data_mc['Status'].value_counts()"
   ]
  },
  {
   "cell_type": "code",
   "execution_count": 79,
   "id": "2fa67edd",
   "metadata": {
    "id": "2fa67edd"
   },
   "outputs": [],
   "source": [
    "X=train_data_mc.drop('Status', axis=1)\n",
    "y=train_data_mc['Status']"
   ]
  },
  {
   "cell_type": "code",
   "execution_count": 80,
   "id": "9d14c478",
   "metadata": {
    "id": "9d14c478"
   },
   "outputs": [],
   "source": [
    "X_final_test=test_data_mc.drop('Status', axis=1)\n",
    "y_final_test=test_data_mc['Status']"
   ]
  },
  {
   "cell_type": "markdown",
   "id": "2be42a15",
   "metadata": {
    "id": "2be42a15"
   },
   "source": [
    "## Gradiant Boost"
   ]
  },
  {
   "cell_type": "markdown",
   "id": "16432e24",
   "metadata": {
    "id": "16432e24"
   },
   "source": [
    "### Training a Gradiant Boost model with all 8 microRNAs"
   ]
  },
  {
   "cell_type": "code",
   "execution_count": 81,
   "id": "f149b911",
   "metadata": {
    "colab": {
     "base_uri": "https://localhost:8080/"
    },
    "id": "f149b911",
    "outputId": "fa74dd4b-f384-4254-9ae6-8236e5ca266e"
   },
   "outputs": [
    {
     "name": "stderr",
     "output_type": "stream",
     "text": [
      "/Users/mehrdad/opt/anaconda3/lib/python3.9/site-packages/sklearn/metrics/_classification.py:1318: UndefinedMetricWarning: Precision is ill-defined and being set to 0.0 in labels with no predicted samples. Use `zero_division` parameter to control this behavior.\n",
      "  _warn_prf(average, modifier, msg_start, len(result))\n",
      "/var/folders/74/0r2lyhkj3b51z9c9__s718s80000gn/T/ipykernel_2167/211560386.py:6: FutureWarning: Dropping of nuisance columns in DataFrame reductions (with 'numeric_only=None') is deprecated; in a future version this will raise TypeError.  Select only valid columns before calling the reduction.\n",
      "  scores1.mean(axis=0)\n"
     ]
    },
    {
     "data": {
      "text/plain": [
       "fit_time                    0.065374\n",
       "score_time                  0.002049\n",
       "test_precision_weighted     0.754401\n",
       "train_precision_weighted    1.000000\n",
       "test_accuracy               0.779167\n",
       "train_accuracy              1.000000\n",
       "dtype: float64"
      ]
     },
     "execution_count": 81,
     "metadata": {},
     "output_type": "execute_result"
    }
   ],
   "source": [
    "GB_basic=GradientBoostingClassifier(random_state=1)\n",
    "cv=StratifiedKFold(n_splits=10)\n",
    "scores = cross_validate(GB_basic, X, y, scoring=scoring, cv=cv, n_jobs=-1, \n",
    "                        return_train_score=True, return_estimator=True)\n",
    "scores1=pd.DataFrame(scores)\n",
    "scores1.mean(axis=0)"
   ]
  },
  {
   "cell_type": "markdown",
   "id": "9ff4e9bc",
   "metadata": {
    "id": "9ff4e9bc"
   },
   "source": [
    "### Finding the most important mirs and training a GB model with them"
   ]
  },
  {
   "cell_type": "code",
   "execution_count": 82,
   "id": "45758c1d",
   "metadata": {
    "colab": {
     "base_uri": "https://localhost:8080/",
     "height": 81
    },
    "id": "45758c1d",
    "outputId": "271e5fa4-6683-4696-c345-d20e959b6756"
   },
   "outputs": [
    {
     "data": {
      "text/html": [
       "<div>\n",
       "<style scoped>\n",
       "    .dataframe tbody tr th:only-of-type {\n",
       "        vertical-align: middle;\n",
       "    }\n",
       "\n",
       "    .dataframe tbody tr th {\n",
       "        vertical-align: top;\n",
       "    }\n",
       "\n",
       "    .dataframe thead th {\n",
       "        text-align: right;\n",
       "    }\n",
       "</style>\n",
       "<table border=\"1\" class=\"dataframe\">\n",
       "  <thead>\n",
       "    <tr style=\"text-align: right;\">\n",
       "      <th>Unnamed: 0</th>\n",
       "      <th>8008885</th>\n",
       "      <th>7916984</th>\n",
       "      <th>7971661</th>\n",
       "      <th>8084755</th>\n",
       "      <th>8087881</th>\n",
       "      <th>7969574</th>\n",
       "      <th>7900488</th>\n",
       "      <th>8163107</th>\n",
       "      <th>7923976</th>\n",
       "    </tr>\n",
       "  </thead>\n",
       "  <tbody>\n",
       "    <tr>\n",
       "      <th>0</th>\n",
       "      <td>3.43405</td>\n",
       "      <td>2.369955</td>\n",
       "      <td>0.986996</td>\n",
       "      <td>0.848301</td>\n",
       "      <td>0.795004</td>\n",
       "      <td>0.718944</td>\n",
       "      <td>0.545188</td>\n",
       "      <td>0.239814</td>\n",
       "      <td>0.061749</td>\n",
       "    </tr>\n",
       "  </tbody>\n",
       "</table>\n",
       "</div>"
      ],
      "text/plain": [
       "Unnamed: 0  8008885   7916984   7971661   8084755   8087881   7969574  \\\n",
       "0           3.43405  2.369955  0.986996  0.848301  0.795004  0.718944   \n",
       "\n",
       "Unnamed: 0   7900488   8163107   7923976  \n",
       "0           0.545188  0.239814  0.061749  "
      ]
     },
     "execution_count": 82,
     "metadata": {},
     "output_type": "execute_result"
    }
   ],
   "source": [
    "# Selecting the most important miRNAs by finding the most repeated ones in all 10 cross validation\n",
    "\n",
    "mirs_importance=[0]*9\n",
    "for idx,estimator in enumerate(scores['estimator']):\n",
    "    mirs_importance+=estimator.feature_importances_\n",
    "\n",
    "    \n",
    "mirs_importance=pd.DataFrame(mirs_importance, index=X.columns).sort_values(by=[0], ascending=False)\n",
    "mirs_importance.T"
   ]
  },
  {
   "cell_type": "markdown",
   "id": "317c6d31",
   "metadata": {
    "id": "317c6d31"
   },
   "source": [
    "As it is clear, with the logic of summation of feature importance in all 10 cross-validations, mirs with probe no. 7916984, 8008885, 7971661, 7969574, and 8087881 are the most important mirs. \n",
    "In the following a gradint boost model has been trained using the first 3 ones."
   ]
  },
  {
   "cell_type": "code",
   "execution_count": 120,
   "id": "b81ad580",
   "metadata": {
    "id": "b81ad580"
   },
   "outputs": [],
   "source": [
    "X_temp=train_data_mc[['7916984', '8008885', '7971661']]\n",
    "y_temp=train_data_mc['Status']"
   ]
  },
  {
   "cell_type": "markdown",
   "id": "d756d7cd",
   "metadata": {
    "id": "d756d7cd"
   },
   "source": [
    "### Using scikit optimize package"
   ]
  },
  {
   "cell_type": "code",
   "execution_count": 121,
   "id": "5d31196f",
   "metadata": {
    "colab": {
     "base_uri": "https://localhost:8080/"
    },
    "id": "5d31196f",
    "outputId": "24a1ef0a-2b79-4b4c-8557-6338e83ff7a4"
   },
   "outputs": [
    {
     "data": {
      "text/plain": [
       "((109, 3), (48, 3))"
      ]
     },
     "execution_count": 121,
     "metadata": {},
     "output_type": "execute_result"
    }
   ],
   "source": [
    "X_train, X_test, y_train, y_test = train_test_split(X_temp, y_temp, test_size=0.3, random_state=0, stratify=y_temp)\n",
    "\n",
    "X_train.shape, X_test.shape"
   ]
  },
  {
   "cell_type": "code",
   "execution_count": 122,
   "id": "34bc4300",
   "metadata": {
    "id": "34bc4300",
    "outputId": "acab6604-9914-4d3d-b0f3-192a315439bd"
   },
   "outputs": [
    {
     "data": {
      "text/plain": [
       "list"
      ]
     },
     "execution_count": 122,
     "metadata": {},
     "output_type": "execute_result"
    }
   ],
   "source": [
    "# determine the hyperparameter space\n",
    "\n",
    "param_grid = [\n",
    "    Integer(10, 300, name=\"n_estimators\"),\n",
    "    Integer(2, 5, name=\"max_depth\"),\n",
    "    Real(0.0001, 0.1, prior='log-uniform', name='learning_rate'),\n",
    "    Real(0.001, 0.999, prior='log-uniform', name=\"min_samples_split\"),\n",
    "    Categorical(['deviance', 'exponential'], name=\"loss\"),\n",
    "]\n",
    "\n",
    "# Scikit-optimize parameter grid is a list\n",
    "type(param_grid)"
   ]
  },
  {
   "cell_type": "code",
   "execution_count": 123,
   "id": "b1622753",
   "metadata": {
    "id": "b1622753"
   },
   "outputs": [],
   "source": [
    "gbm = GradientBoostingClassifier(random_state=0)"
   ]
  },
  {
   "cell_type": "code",
   "execution_count": 124,
   "id": "a0fa5f8e",
   "metadata": {
    "id": "a0fa5f8e"
   },
   "outputs": [],
   "source": [
    "# We design a function to maximize the accuracy, of a GBM,\n",
    "# with cross-validation\n",
    "\n",
    "# the decorator allows our objective function to receive the parameters as\n",
    "# keyword arguments. This is a requirement for scikit-optimize.\n",
    "\n",
    "@use_named_args(param_grid)\n",
    "def objective(**params):\n",
    "    \n",
    "    # model with new parameters\n",
    "    gbm.set_params(**params)\n",
    "\n",
    "    # optimization function (hyperparam response function)\n",
    "    value = np.mean(\n",
    "        cross_val_score(\n",
    "            gbm, \n",
    "            X_train,\n",
    "            y_train,\n",
    "            cv=10,\n",
    "            n_jobs=-1,\n",
    "            scoring='accuracy')\n",
    "    )\n",
    "\n",
    "    # negate because we need to minimize\n",
    "    return -value"
   ]
  },
  {
   "cell_type": "code",
   "execution_count": 125,
   "id": "85d844c9",
   "metadata": {
    "id": "85d844c9"
   },
   "outputs": [],
   "source": [
    "# gbrt_minimize performs by Bayesian Optimization \n",
    "# using GBMs as surrogate for f(x)\n",
    "\n",
    "gbm_ = gbrt_minimize(\n",
    "    objective, # the objective function to minimize\n",
    "    param_grid, # the hyperparameter space\n",
    "    n_initial_points=10, # the number of points to evaluate f(x) to start of\n",
    "    acq_func='EI', # the acquisition function\n",
    "    n_calls=500, # the number of subsequent evaluations of f(x)\n",
    "    random_state=0, \n",
    "    n_jobs=6,\n",
    ")"
   ]
  },
  {
   "cell_type": "code",
   "execution_count": 126,
   "id": "1c5c8cba",
   "metadata": {
    "id": "1c5c8cba",
    "outputId": "32f27275-dee1-44e1-a85c-cc1ee43ee384"
   },
   "outputs": [
    {
     "data": {
      "text/plain": [
       "'Best score=-0.8709'"
      ]
     },
     "execution_count": 126,
     "metadata": {},
     "output_type": "execute_result"
    }
   ],
   "source": [
    "\"Best score=%.4f\" % gbm_.fun"
   ]
  },
  {
   "cell_type": "code",
   "execution_count": 127,
   "id": "78c60e46",
   "metadata": {
    "id": "78c60e46",
    "outputId": "b9fac08b-d7a5-49e3-b20f-036b76fef701"
   },
   "outputs": [
    {
     "data": {
      "text/html": [
       "<div>\n",
       "<style scoped>\n",
       "    .dataframe tbody tr th:only-of-type {\n",
       "        vertical-align: middle;\n",
       "    }\n",
       "\n",
       "    .dataframe tbody tr th {\n",
       "        vertical-align: top;\n",
       "    }\n",
       "\n",
       "    .dataframe thead th {\n",
       "        text-align: right;\n",
       "    }\n",
       "</style>\n",
       "<table border=\"1\" class=\"dataframe\">\n",
       "  <thead>\n",
       "    <tr style=\"text-align: right;\">\n",
       "      <th></th>\n",
       "      <th>n_estimators</th>\n",
       "      <th>max_depth</th>\n",
       "      <th>min_samples_split</th>\n",
       "      <th>learning_rate</th>\n",
       "      <th>loss</th>\n",
       "      <th>accuracy</th>\n",
       "    </tr>\n",
       "  </thead>\n",
       "  <tbody>\n",
       "    <tr>\n",
       "      <th>381</th>\n",
       "      <td>246</td>\n",
       "      <td>5</td>\n",
       "      <td>0.019130</td>\n",
       "      <td>0.766155</td>\n",
       "      <td>deviance</td>\n",
       "      <td>-0.870909</td>\n",
       "    </tr>\n",
       "    <tr>\n",
       "      <th>286</th>\n",
       "      <td>270</td>\n",
       "      <td>5</td>\n",
       "      <td>0.019860</td>\n",
       "      <td>0.768380</td>\n",
       "      <td>deviance</td>\n",
       "      <td>-0.861818</td>\n",
       "    </tr>\n",
       "    <tr>\n",
       "      <th>355</th>\n",
       "      <td>246</td>\n",
       "      <td>4</td>\n",
       "      <td>0.019655</td>\n",
       "      <td>0.746600</td>\n",
       "      <td>deviance</td>\n",
       "      <td>-0.861818</td>\n",
       "    </tr>\n",
       "    <tr>\n",
       "      <th>464</th>\n",
       "      <td>226</td>\n",
       "      <td>5</td>\n",
       "      <td>0.019925</td>\n",
       "      <td>0.750904</td>\n",
       "      <td>deviance</td>\n",
       "      <td>-0.861818</td>\n",
       "    </tr>\n",
       "    <tr>\n",
       "      <th>386</th>\n",
       "      <td>294</td>\n",
       "      <td>5</td>\n",
       "      <td>0.021152</td>\n",
       "      <td>0.792112</td>\n",
       "      <td>deviance</td>\n",
       "      <td>-0.861818</td>\n",
       "    </tr>\n",
       "  </tbody>\n",
       "</table>\n",
       "</div>"
      ],
      "text/plain": [
       "     n_estimators  max_depth  min_samples_split  learning_rate      loss  \\\n",
       "381           246          5           0.019130       0.766155  deviance   \n",
       "286           270          5           0.019860       0.768380  deviance   \n",
       "355           246          4           0.019655       0.746600  deviance   \n",
       "464           226          5           0.019925       0.750904  deviance   \n",
       "386           294          5           0.021152       0.792112  deviance   \n",
       "\n",
       "     accuracy  \n",
       "381 -0.870909  \n",
       "286 -0.861818  \n",
       "355 -0.861818  \n",
       "464 -0.861818  \n",
       "386 -0.861818  "
      ]
     },
     "execution_count": 127,
     "metadata": {},
     "output_type": "execute_result"
    }
   ],
   "source": [
    "dim_names = ['n_estimators', 'max_depth', 'min_samples_split', 'learning_rate', 'loss']\n",
    "# all together in one dataframe, so we can investigate further\n",
    "\n",
    "tmp = pd.concat([\n",
    "    pd.DataFrame(gbm_.x_iters),\n",
    "    pd.Series(gbm_.func_vals),\n",
    "], axis=1)\n",
    "\n",
    "tmp.columns = dim_names + ['accuracy']\n",
    "tmp.sort_values(by=['accuracy']).head()"
   ]
  },
  {
   "cell_type": "code",
   "execution_count": 128,
   "id": "06732263",
   "metadata": {
    "id": "06732263",
    "outputId": "096ded59-6b6b-475a-fa14-fa93e63e5187"
   },
   "outputs": [
    {
     "name": "stdout",
     "output_type": "stream",
     "text": [
      "Best parameters:\n",
      "=========================\n",
      "- n_estimators = 246\n",
      "- max-depth = 5\n",
      "- min_samples_split = 0.019\n",
      "- learning_rate = 0.766\n",
      "- loss = deviance\n"
     ]
    }
   ],
   "source": [
    "print(\"\"\"Best parameters:\n",
    "=========================\n",
    "- n_estimators = %d\n",
    "- max-depth = %d\n",
    "- min_samples_split = %.3f\n",
    "- learning_rate = %.3f\n",
    "- loss = %s\"\"\" % (gbm_.x[0],\n",
    "                  gbm_.x[1],\n",
    "                  gbm_.x[2],\n",
    "                  gbm_.x[3],\n",
    "                  gbm_.x[4]))"
   ]
  },
  {
   "cell_type": "markdown",
   "id": "0ea4e29b",
   "metadata": {
    "id": "0ea4e29b"
   },
   "source": [
    "### Training GB with the best 3"
   ]
  },
  {
   "cell_type": "code",
   "execution_count": 129,
   "id": "4ad6ba90",
   "metadata": {},
   "outputs": [
    {
     "name": "stdout",
     "output_type": "stream",
     "text": [
      "0.10 0.833 1.0 0.857\n",
      "0.15 0.833 1.0 0.857\n",
      "0.20 0.833 1.0 0.857\n",
      "0.25 0.833 1.0 0.857\n",
      "0.30 0.854 1.0 0.881\n",
      "0.35 0.833 1.0 0.857\n",
      "0.40 0.812 1.0 0.857\n",
      "0.45 0.833 1.0 0.905\n",
      "0.50 0.854 1.0 0.881\n",
      "0.55 0.854 1.0 0.881\n",
      "0.60 0.854 1.0 0.905\n",
      "0.65 0.854 1.0 0.881\n",
      "0.70 0.833 1.0 0.857\n",
      "0.75 0.854 1.0 0.881\n",
      "0.80 0.854 1.0 0.881\n",
      "0.85 0.854 1.0 0.881\n",
      "0.90 0.833 1.0 0.881\n",
      "0.95 0.792 1.0 0.857\n",
      "1.00 0.854 1.0 0.881\n",
      "1.05 0.854 1.0 0.881\n",
      "1.10 0.854 1.0 0.881\n",
      "1.15 0.812 1.0 0.857\n",
      "1.20 0.812 1.0 0.857\n",
      "1.25 0.833 1.0 0.857\n",
      "1.30 0.854 1.0 0.905\n",
      "1.35 0.854 1.0 0.881\n",
      "1.40 0.792 1.0 0.857\n",
      "1.45 0.771 1.0 0.857\n",
      "1.50 0.833 1.0 0.857\n",
      "1.55 0.833 1.0 0.857\n",
      "1.60 0.792 1.0 0.857\n",
      "1.65 0.854 1.0 0.881\n",
      "1.70 0.833 1.0 0.881\n",
      "1.75 0.854 1.0 0.881\n",
      "1.80 0.812 1.0 0.857\n",
      "1.85 0.854 1.0 0.881\n",
      "1.90 0.833 1.0 0.857\n",
      "1.95 0.833 1.0 0.881\n",
      "2.00 0.854 1.0 0.881\n",
      "2.05 0.854 1.0 0.881\n",
      "2.10 0.812 1.0 0.857\n",
      "2.15 0.812 1.0 0.857\n",
      "2.20 0.833 1.0 0.857\n",
      "2.25 0.833 1.0 0.857\n",
      "2.30 0.792 1.0 0.857\n",
      "2.35 0.833 1.0 0.857\n",
      "2.40 0.812 1.0 0.857\n",
      "2.45 0.812 1.0 0.857\n",
      "2.50 0.812 1.0 0.881\n",
      "2.55 0.792 1.0 0.857\n"
     ]
    }
   ],
   "source": [
    "sample_weight=np.zeros(len(y_train))\n",
    "for i in range(0, 50):\n",
    "    a=0.1\n",
    "    a+=i*0.05\n",
    "    sample_weight[y_train == 'M'] = a\n",
    "    sample_weight[y_train == 'C'] = 1\n",
    "    GB_basic=GradientBoostingClassifier(n_estimators=246, max_depth=5, min_samples_split=0.19,\n",
    "                                     learning_rate=0.766, loss='deviance', random_state=1)\n",
    "    GB_basic.fit(X_train, y_train, sample_weight=sample_weight)\n",
    "    print('%.2f' % a, '%.3f' % GB_basic.score(X_test, y_test), GB_basic.score(X_train, y_train),\n",
    "         '%.3f' % GB_basic.score(X_final_test[['7916984', '8008885', '7971661']], y_final_test))"
   ]
  },
  {
   "cell_type": "code",
   "execution_count": 130,
   "id": "571a16f6",
   "metadata": {
    "id": "571a16f6"
   },
   "outputs": [],
   "source": [
    "sample_weight=np.zeros(len(y_train))\n",
    "sample_weight[y_train == 'M'] = 1.3\n",
    "sample_weight[y_train == 'C'] = 1"
   ]
  },
  {
   "cell_type": "code",
   "execution_count": 131,
   "id": "4e7b9f9c",
   "metadata": {
    "colab": {
     "base_uri": "https://localhost:8080/"
    },
    "id": "4e7b9f9c",
    "outputId": "87c71f52-bf82-4073-cc61-1c6097fc961b"
   },
   "outputs": [
    {
     "data": {
      "text/plain": [
       "GradientBoostingClassifier(learning_rate=0.766, max_depth=5,\n",
       "                           min_samples_split=0.19, n_estimators=246,\n",
       "                           random_state=1)"
      ]
     },
     "execution_count": 131,
     "metadata": {},
     "output_type": "execute_result"
    }
   ],
   "source": [
    "GB_basic=GradientBoostingClassifier(n_estimators=246, max_depth=5, min_samples_split=0.19,\n",
    "                                     learning_rate=0.766, loss='deviance', random_state=1)\n",
    "\n",
    "\n",
    "GB_basic.fit(X_train, y_train, sample_weight=sample_weight)"
   ]
  },
  {
   "cell_type": "code",
   "execution_count": 132,
   "id": "ed92701c",
   "metadata": {
    "colab": {
     "base_uri": "https://localhost:8080/"
    },
    "id": "ed92701c",
    "outputId": "ba44880c-c987-4a35-8653-01e4da947cf3"
   },
   "outputs": [
    {
     "data": {
      "text/plain": [
       "0.8541666666666666"
      ]
     },
     "execution_count": 132,
     "metadata": {},
     "output_type": "execute_result"
    }
   ],
   "source": [
    "GB_basic.score(X_test, y_test)"
   ]
  },
  {
   "cell_type": "code",
   "execution_count": 133,
   "id": "0f58bc21",
   "metadata": {
    "colab": {
     "base_uri": "https://localhost:8080/"
    },
    "id": "0f58bc21",
    "outputId": "df7e7ee4-de5f-4bba-e564-a2a9049e43bc"
   },
   "outputs": [
    {
     "data": {
      "text/plain": [
       "1.0"
      ]
     },
     "execution_count": 133,
     "metadata": {},
     "output_type": "execute_result"
    }
   ],
   "source": [
    "GB_basic.score(X_train, y_train)"
   ]
  },
  {
   "cell_type": "code",
   "execution_count": 134,
   "id": "007a41c5",
   "metadata": {
    "colab": {
     "base_uri": "https://localhost:8080/",
     "height": 336
    },
    "id": "007a41c5",
    "outputId": "95e3c992-e4c4-48f8-eb38-e6f19787592d"
   },
   "outputs": [
    {
     "data": {
      "image/png": "[encoded data removed]",
      "text/plain": [
       "<Figure size 504x360 with 1 Axes>"
      ]
     },
     "metadata": {},
     "output_type": "display_data"
    }
   ],
   "source": [
    "pred=GB_basic.predict(X_test)\n",
    "cm=confusion_matrix(y_test,pred,labels=['M', \"C\"])\n",
    "df_cm=pd.DataFrame(cm,index=[i for i in ['M', 'C']],columns=[i for i in ['Predicted MI', 'Predicted CAD']])\n",
    "plt.figure(figsize=(7,5))\n",
    "plt.title('GB for 7916984, 8008885, and 7971661 on validation set')\n",
    "sns.heatmap(df_cm,annot=True, cmap='viridis', cbar=False, square=True);\n",
    "plt.savefig('GB for 7916984, 8008885, and 7971661on validation set.pdf')"
   ]
  },
  {
   "cell_type": "code",
   "execution_count": 135,
   "id": "12596e9b",
   "metadata": {
    "id": "12596e9b",
    "outputId": "a09b1c5c-ee3c-4a75-f278-036ece580183"
   },
   "outputs": [
    {
     "name": "stdout",
     "output_type": "stream",
     "text": [
      "              precision    recall  f1-score   support\n",
      "\n",
      "           C       0.73      0.79      0.76        14\n",
      "           M       0.91      0.88      0.90        34\n",
      "\n",
      "    accuracy                           0.85        48\n",
      "   macro avg       0.82      0.83      0.83        48\n",
      "weighted avg       0.86      0.85      0.86        48\n",
      "\n"
     ]
    }
   ],
   "source": [
    "print(classification_report(y_test, pred))"
   ]
  },
  {
   "cell_type": "code",
   "execution_count": 136,
   "id": "f02b1e30",
   "metadata": {
    "id": "f02b1e30",
    "outputId": "6be4142d-bad8-46be-cc44-b91a48bd1e0d"
   },
   "outputs": [
    {
     "data": {
      "image/png": "[encoded data removed]",
      "text/plain": [
       "<Figure size 504x360 with 1 Axes>"
      ]
     },
     "metadata": {},
     "output_type": "display_data"
    }
   ],
   "source": [
    "# Real test\n",
    "\n",
    "pred=GB_basic.predict(X_final_test[['7916984', '8008885', '7971661']])\n",
    "cm=confusion_matrix(y_final_test,pred,labels=['M', \"C\"])\n",
    "df_cm=pd.DataFrame(cm, index=[i for i in ['M', 'C']], columns=[i for i in ['Predicted MI', 'Predicted CAD']])\n",
    "plt.figure(figsize=(7,5))\n",
    "plt.title('GB for 7916984, 8008885, and 7971661 on test set')\n",
    "sns.heatmap(df_cm,annot=True, cmap='viridis', cbar=False, square=True);\n",
    "plt.savefig('GB for 7916984, 8008885, and 7971661 on test set.pdf')"
   ]
  },
  {
   "cell_type": "code",
   "execution_count": 137,
   "id": "4b82fd5b",
   "metadata": {
    "id": "4b82fd5b",
    "outputId": "1e37c125-f445-4427-9845-a876a6987c7e"
   },
   "outputs": [
    {
     "name": "stdout",
     "output_type": "stream",
     "text": [
      "              precision    recall  f1-score   support\n",
      "\n",
      "           C       1.00      0.71      0.83        14\n",
      "           M       0.88      1.00      0.93        28\n",
      "\n",
      "    accuracy                           0.90        42\n",
      "   macro avg       0.94      0.86      0.88        42\n",
      "weighted avg       0.92      0.90      0.90        42\n",
      "\n"
     ]
    }
   ],
   "source": [
    "print(classification_report(y_final_test, pred))"
   ]
  },
  {
   "cell_type": "code",
   "execution_count": 138,
   "id": "61a293c8",
   "metadata": {},
   "outputs": [
    {
     "data": {
      "text/plain": [
       "0.9047619047619048"
      ]
     },
     "execution_count": 138,
     "metadata": {},
     "output_type": "execute_result"
    }
   ],
   "source": [
    "GB_basic.score(X_final_test[['7916984', '8008885', '7971661']], y_final_test)"
   ]
  },
  {
   "cell_type": "markdown",
   "id": "a43c2446",
   "metadata": {
    "id": "a43c2446"
   },
   "source": [
    "### Training a model on all training data and then testing on test set"
   ]
  },
  {
   "cell_type": "code",
   "execution_count": 139,
   "id": "9df35f8d",
   "metadata": {
    "id": "9df35f8d"
   },
   "outputs": [],
   "source": [
    "X_temp=X[['7916984', '8008885', '7971661']]\n",
    "y_temp=y.copy()"
   ]
  },
  {
   "cell_type": "code",
   "execution_count": 141,
   "id": "b5d91cc7",
   "metadata": {},
   "outputs": [
    {
     "name": "stdout",
     "output_type": "stream",
     "text": [
      "0.10 1.000 0.952\n",
      "0.15 1.000 0.929\n",
      "0.20 1.000 0.976\n",
      "0.25 1.000 0.976\n",
      "0.30 1.000 0.952\n",
      "0.35 1.000 0.952\n",
      "0.40 1.000 0.952\n",
      "0.45 1.000 0.952\n",
      "0.50 1.000 0.976\n",
      "0.55 1.000 0.952\n",
      "0.60 1.000 0.976\n",
      "0.65 1.000 0.976\n",
      "0.70 1.000 0.952\n",
      "0.75 1.000 0.952\n",
      "0.80 1.000 0.976\n",
      "0.85 1.000 0.952\n",
      "0.90 1.000 0.976\n",
      "0.95 1.000 0.952\n",
      "1.00 1.000 0.952\n",
      "1.05 1.000 0.952\n",
      "1.10 1.000 0.976\n",
      "1.15 1.000 0.976\n",
      "1.20 1.000 0.952\n",
      "1.25 1.000 0.952\n",
      "1.30 1.000 0.929\n",
      "1.35 1.000 0.952\n",
      "1.40 1.000 0.976\n",
      "1.45 1.000 0.976\n",
      "1.50 1.000 0.976\n",
      "1.55 1.000 0.976\n",
      "1.60 1.000 0.976\n",
      "1.65 1.000 0.952\n",
      "1.70 1.000 0.952\n",
      "1.75 1.000 0.952\n",
      "1.80 1.000 0.976\n",
      "1.85 1.000 0.952\n",
      "1.90 1.000 0.952\n",
      "1.95 1.000 0.952\n",
      "2.00 1.000 0.976\n",
      "2.05 1.000 0.952\n",
      "2.10 1.000 0.976\n",
      "2.15 1.000 0.976\n",
      "2.20 1.000 0.952\n",
      "2.25 1.000 0.929\n",
      "2.30 1.000 0.952\n",
      "2.35 1.000 0.952\n",
      "2.40 1.000 0.976\n",
      "2.45 1.000 0.952\n",
      "2.50 1.000 0.952\n",
      "2.55 1.000 0.952\n"
     ]
    }
   ],
   "source": [
    "sample_weight=np.zeros(len(y_temp))\n",
    "for i in range(0, 50):\n",
    "    a=0.1\n",
    "    a+=i*0.05\n",
    "    sample_weight[y_temp == 'M'] = a\n",
    "    sample_weight[y_temp == 'C'] = 1\n",
    "    GB_basic=GradientBoostingClassifier(n_estimators=246, max_depth=5, min_samples_split=0.19,\n",
    "                                     learning_rate=0.766, loss='deviance', random_state=1)\n",
    "    GB_basic.fit(X_temp, y_temp, sample_weight=sample_weight)\n",
    "    print('%.2f' % a, '%.3f' % GB_basic.score(X_temp, y_temp),\n",
    "         '%.3f' % GB_basic.score(X_final_test[['7916984', '8008885', '7971661']], y_final_test))"
   ]
  },
  {
   "cell_type": "code",
   "execution_count": 142,
   "id": "31ebab87",
   "metadata": {
    "id": "31ebab87"
   },
   "outputs": [],
   "source": [
    "sample_weight=np.zeros(len(y_temp))\n",
    "sample_weight[y_temp == 'M'] = 1.10\n",
    "sample_weight[y_temp == 'C'] = 1"
   ]
  },
  {
   "cell_type": "code",
   "execution_count": 143,
   "id": "74ebbd5e",
   "metadata": {
    "colab": {
     "base_uri": "https://localhost:8080/"
    },
    "id": "74ebbd5e",
    "outputId": "87c71f52-bf82-4073-cc61-1c6097fc961b"
   },
   "outputs": [
    {
     "data": {
      "text/plain": [
       "GradientBoostingClassifier(learning_rate=0.766, max_depth=5,\n",
       "                           min_samples_split=0.19, n_estimators=246,\n",
       "                           random_state=1)"
      ]
     },
     "execution_count": 143,
     "metadata": {},
     "output_type": "execute_result"
    }
   ],
   "source": [
    "GB_basic=GradientBoostingClassifier(n_estimators=246, max_depth=5, min_samples_split=0.19,\n",
    "                                     learning_rate=0.766, loss='deviance', random_state=1)\n",
    "\n",
    "\n",
    "GB_basic.fit(X_temp, y_temp, sample_weight=sample_weight)"
   ]
  },
  {
   "cell_type": "code",
   "execution_count": 144,
   "id": "b7d236b0",
   "metadata": {
    "colab": {
     "base_uri": "https://localhost:8080/"
    },
    "id": "b7d236b0",
    "outputId": "ba44880c-c987-4a35-8653-01e4da947cf3"
   },
   "outputs": [
    {
     "data": {
      "text/plain": [
       "1.0"
      ]
     },
     "execution_count": 144,
     "metadata": {},
     "output_type": "execute_result"
    }
   ],
   "source": [
    "GB_basic.score(X_temp, y_temp)"
   ]
  },
  {
   "cell_type": "code",
   "execution_count": 147,
   "id": "401c1568",
   "metadata": {},
   "outputs": [
    {
     "data": {
      "text/plain": [
       "0.9761904761904762"
      ]
     },
     "execution_count": 147,
     "metadata": {},
     "output_type": "execute_result"
    }
   ],
   "source": [
    "GB_basic.score(X_final_test[['7916984', '8008885', '7971661']], y_final_test)"
   ]
  },
  {
   "cell_type": "code",
   "execution_count": 148,
   "id": "9389715b",
   "metadata": {
    "colab": {
     "base_uri": "https://localhost:8080/",
     "height": 336
    },
    "id": "9389715b",
    "outputId": "95e3c992-e4c4-48f8-eb38-e6f19787592d"
   },
   "outputs": [
    {
     "data": {
      "image/png": "[encoded data removed]",
      "text/plain": [
       "<Figure size 504x360 with 1 Axes>"
      ]
     },
     "metadata": {},
     "output_type": "display_data"
    }
   ],
   "source": [
    "pred=GB_basic.predict(X_temp)\n",
    "cm=confusion_matrix(y_temp,pred,labels=['M', \"C\"])\n",
    "df_cm=pd.DataFrame(cm,index=[i for i in ['M', 'C']],columns=[i for i in ['Predicted MI', 'Predicted CAD']])\n",
    "plt.figure(figsize=(7,5))\n",
    "plt.title('GB for 7916984, 8008885, and 7971661 on all training data set')\n",
    "sns.heatmap(df_cm,annot=True, cmap='viridis', cbar=False, square=True);\n",
    "plt.savefig('GB for 7916984, 8008885, and 7971661 on all trainin data.pdf')"
   ]
  },
  {
   "cell_type": "code",
   "execution_count": 149,
   "id": "2RumW3ntOsOZ",
   "metadata": {
    "id": "2RumW3ntOsOZ",
    "outputId": "a09b1c5c-ee3c-4a75-f278-036ece580183"
   },
   "outputs": [
    {
     "name": "stdout",
     "output_type": "stream",
     "text": [
      "              precision    recall  f1-score   support\n",
      "\n",
      "           C       1.00      1.00      1.00        46\n",
      "           M       1.00      1.00      1.00       111\n",
      "\n",
      "    accuracy                           1.00       157\n",
      "   macro avg       1.00      1.00      1.00       157\n",
      "weighted avg       1.00      1.00      1.00       157\n",
      "\n"
     ]
    }
   ],
   "source": [
    "print(classification_report(y_temp, pred))"
   ]
  },
  {
   "cell_type": "code",
   "execution_count": 150,
   "id": "a9d9e9e2",
   "metadata": {
    "id": "a9d9e9e2",
    "outputId": "a5f96f8f-b3bd-4a25-9e00-b4b81279cc2b"
   },
   "outputs": [
    {
     "data": {
      "image/png": "[encoded data removed]",
      "text/plain": [
       "<Figure size 504x360 with 1 Axes>"
      ]
     },
     "metadata": {},
     "output_type": "display_data"
    }
   ],
   "source": [
    "# Real test\n",
    "\n",
    "pred=GB_basic.predict(X_final_test[['7916984', '8008885', '7971661']])\n",
    "cm=confusion_matrix(y_final_test,pred,labels=['M', \"C\"])\n",
    "df_cm=pd.DataFrame(cm, index=[i for i in ['M', 'C']], columns=[i for i in ['Predicted MI', 'Predicted CAD']])\n",
    "plt.figure(figsize=(7,5))\n",
    "plt.title('GB for 7916984, 8008885, and 7971661 on test')\n",
    "sns.heatmap(df_cm,annot=True, cmap='viridis', cbar=False, square=True);\n",
    "plt.savefig('GB for 7916984, 8008885, and 7971661on test set after training with all data.pdf')"
   ]
  },
  {
   "cell_type": "code",
   "execution_count": 151,
   "id": "c78f4088",
   "metadata": {
    "id": "c78f4088",
    "outputId": "ff1b1ce1-431d-48a1-9933-8efe37ec2117"
   },
   "outputs": [
    {
     "name": "stdout",
     "output_type": "stream",
     "text": [
      "              precision    recall  f1-score   support\n",
      "\n",
      "           C       1.00      0.93      0.96        14\n",
      "           M       0.97      1.00      0.98        28\n",
      "\n",
      "    accuracy                           0.98        42\n",
      "   macro avg       0.98      0.96      0.97        42\n",
      "weighted avg       0.98      0.98      0.98        42\n",
      "\n"
     ]
    }
   ],
   "source": [
    "print(classification_report(y_final_test, pred))"
   ]
  },
  {
   "cell_type": "code",
   "execution_count": 152,
   "id": "b3bd9424",
   "metadata": {},
   "outputs": [],
   "source": [
    "pickle_out=open('GB_normal.pkl', \"wb\")\n",
    "pickle.dump(GB_basic, pickle_out)\n",
    "pickle_out.close()"
   ]
  },
  {
   "cell_type": "markdown",
   "id": "dRU91P0dOsOZ",
   "metadata": {
    "id": "dRU91P0dOsOZ"
   },
   "source": [
    "#### ROC"
   ]
  },
  {
   "cell_type": "code",
   "execution_count": 204,
   "id": "ylBoulALOsOZ",
   "metadata": {
    "id": "ylBoulALOsOZ"
   },
   "outputs": [],
   "source": [
    "label = LabelEncoder()\n",
    "\n",
    "y_temp = label.fit_transform(train_data_mc['Status'])\n",
    "y_temp = pd.get_dummies(y_temp)\n",
    "y_temp.columns = ['CAD', 'MI']\n",
    "\n",
    "y_test=label.fit_transform(y_final_test)\n",
    "y_test = pd.get_dummies(y_test)\n",
    "y_test.columns = ['CAD', 'MI']\n",
    "\n",
    "n_classes = y_temp.shape[1]"
   ]
  },
  {
   "cell_type": "code",
   "execution_count": 205,
   "id": "9e574785",
   "metadata": {
    "id": "9e574785",
    "outputId": "3f86d1b3-0b64-407d-eae5-0eac49077eb3"
   },
   "outputs": [
    {
     "data": {
      "text/plain": [
       "(42, 9)"
      ]
     },
     "execution_count": 205,
     "metadata": {},
     "output_type": "execute_result"
    }
   ],
   "source": [
    "X_final_test.shape"
   ]
  },
  {
   "cell_type": "code",
   "execution_count": 206,
   "id": "lLhWbS71OsOa",
   "metadata": {
    "id": "lLhWbS71OsOa"
   },
   "outputs": [],
   "source": [
    "model = GradientBoostingClassifier(n_estimators=169, max_depth=4, min_samples_split=0.031,\n",
    "                                     learning_rate=0.22, loss='deviance', random_state=1)\n",
    "\n",
    "X_train=X_temp\n",
    "X_test=X_final_test[[7916984, 8008885, 7971661]]\n",
    "y_train=y_temp\n",
    "\n",
    "\n",
    "# Learn to predict each class against the other\n",
    "classifier = OneVsRestClassifier(model)\n",
    "y_score = classifier.fit(X_train, y_train).decision_function(X_test)\n",
    "\n",
    "# Compute ROC curve and ROC area for each class\n",
    "fpr = dict()\n",
    "tpr = dict()\n",
    "roc_auc = dict()\n",
    "for i in range(n_classes):\n",
    "    fpr[i], tpr[i], _ = roc_curve(y_test.iloc[:, i], y_score[:, i])\n",
    "    roc_auc[i] = auc(fpr[i], tpr[i])"
   ]
  },
  {
   "cell_type": "code",
   "execution_count": 207,
   "id": "gKQEOSKKOsOa",
   "metadata": {
    "colab": {
     "base_uri": "https://localhost:8080/",
     "height": 578
    },
    "id": "gKQEOSKKOsOa",
    "outputId": "37da74ee-2452-46a4-eea2-dd520b879326"
   },
   "outputs": [
    {
     "name": "stderr",
     "output_type": "stream",
     "text": [
      "/var/folders/74/0r2lyhkj3b51z9c9__s718s80000gn/T/ipykernel_820/2808089666.py:8: DeprecationWarning: scipy.interp is deprecated and will be removed in SciPy 2.0.0, use numpy.interp instead\n",
      "  mean_tpr += interp(all_fpr, fpr[i], tpr[i])\n"
     ]
    },
    {
     "data": {
      "image/png": "[encoded data removed]",
      "text/plain": [
       "<Figure size 648x576 with 1 Axes>"
      ]
     },
     "metadata": {
      "needs_background": "light"
     },
     "output_type": "display_data"
    }
   ],
   "source": [
    "lw = 2.3\n",
    "# First aggregate all false positive rates\n",
    "all_fpr = np.unique(np.concatenate([fpr[i] for i in range(n_classes)]))\n",
    "\n",
    "# Then interpolate all ROC curves at this points\n",
    "mean_tpr = np.zeros_like(all_fpr)\n",
    "for i in range(n_classes):\n",
    "    mean_tpr += interp(all_fpr, fpr[i], tpr[i])\n",
    "\n",
    "    \n",
    "# Finally average it and compute AUC\n",
    "mean_tpr /= n_classes\n",
    "\n",
    "fpr[\"macro\"] = all_fpr\n",
    "tpr[\"macro\"] = mean_tpr\n",
    "roc_auc[\"macro\"] = auc(fpr[\"macro\"], tpr[\"macro\"])\n",
    "\n",
    "# Plot all ROC curves\n",
    "plt.figure(figsize=(9,8))\n",
    "\n",
    "plt.plot(\n",
    "    fpr[\"macro\"],\n",
    "    tpr[\"macro\"],\n",
    "    label=\"macro-average ROC curve (area = {0:0.2f})\".format(roc_auc[\"macro\"]),\n",
    "    color=\"navy\",\n",
    "    linestyle=\":\",\n",
    "    linewidth=4,\n",
    ")\n",
    "\n",
    "colors = cycle(['darkorange', 'cornflowerblue', 'red'])\n",
    "for i, color in zip(range(n_classes), colors):\n",
    "    plt.plot(fpr[i], tpr[i], color=color, lw=lw,\n",
    "             label='ROC curve of {0} class (area = {1:0.2f})'\n",
    "             ''.format(list(y_temp.columns)[i], roc_auc[i]))\n",
    "\n",
    "plt.plot([0, 1], [0, 1], 'k--', lw=lw)\n",
    "plt.xlim([0.0, 1.0])\n",
    "plt.ylim([0.0, 1.05])\n",
    "plt.xlabel('False Positive Rate', fontsize = 15)\n",
    "plt.ylabel('True Positive Rate', fontsize = 15)\n",
    "plt.title('ROC for {0}'''.format(list(X_test.columns)), fontsize = 15)\n",
    "plt.legend(loc=\"lower right\", prop={'size':15})\n",
    "plt.tick_params(axis='both', which='major', labelsize=12)\n",
    "plt.savefig(\"GB for 7916984, 8008885, and 7971661 using all data.pdf\")"
   ]
  },
  {
   "cell_type": "markdown",
   "id": "NtNP8gHxQDG9",
   "metadata": {
    "id": "NtNP8gHxQDG9"
   },
   "source": [
    "## XGB"
   ]
  },
  {
   "cell_type": "code",
   "execution_count": 12,
   "id": "d6lkNYCeQFoO",
   "metadata": {
    "id": "d6lkNYCeQFoO"
   },
   "outputs": [],
   "source": [
    "from sklearn.preprocessing import LabelEncoder\n",
    "\n",
    "label_encoder=LabelEncoder()\n",
    "label_encoder = label_encoder.fit(y)\n",
    "y_binary = label_encoder.transform(y)"
   ]
  },
  {
   "cell_type": "code",
   "execution_count": 18,
   "id": "-0swtBYrQqtx",
   "metadata": {
    "colab": {
     "base_uri": "https://localhost:8080/"
    },
    "id": "-0swtBYrQqtx",
    "outputId": "da43559e-f29b-4e4d-9bf4-aa49627ab523"
   },
   "outputs": [
    {
     "data": {
      "text/plain": [
       "((109, 9), (48, 9))"
      ]
     },
     "execution_count": 18,
     "metadata": {},
     "output_type": "execute_result"
    }
   ],
   "source": [
    "X_train, X_test, y_train, y_test = train_test_split(X, y_binary, test_size=0.3, random_state=0, stratify=y_binary)\n",
    "\n",
    "X_train.shape, X_test.shape"
   ]
  },
  {
   "cell_type": "code",
   "execution_count": 28,
   "id": "NLHYgFAYQyx0",
   "metadata": {
    "colab": {
     "base_uri": "https://localhost:8080/"
    },
    "id": "NLHYgFAYQyx0",
    "outputId": "1390b90d-72fa-4647-988b-381ef3922aad"
   },
   "outputs": [
    {
     "name": "stdout",
     "output_type": "stream",
     "text": [
      "[0]\tvalidation_0-aucpr:0.892367\n",
      "Will train until validation_0-aucpr hasn't improved in 10 rounds.\n",
      "[1]\tvalidation_0-aucpr:0.938718\n",
      "[2]\tvalidation_0-aucpr:0.945407\n",
      "[3]\tvalidation_0-aucpr:0.946975\n",
      "[4]\tvalidation_0-aucpr:0.956781\n",
      "[5]\tvalidation_0-aucpr:0.951521\n",
      "[6]\tvalidation_0-aucpr:0.962556\n",
      "[7]\tvalidation_0-aucpr:0.970914\n",
      "[8]\tvalidation_0-aucpr:0.967355\n",
      "[9]\tvalidation_0-aucpr:0.96605\n",
      "[10]\tvalidation_0-aucpr:0.964074\n",
      "[11]\tvalidation_0-aucpr:0.965092\n",
      "[12]\tvalidation_0-aucpr:0.965092\n",
      "[13]\tvalidation_0-aucpr:0.963926\n",
      "[14]\tvalidation_0-aucpr:0.965404\n",
      "[15]\tvalidation_0-aucpr:0.962414\n",
      "[16]\tvalidation_0-aucpr:0.959957\n",
      "[17]\tvalidation_0-aucpr:0.955958\n",
      "Stopping. Best iteration:\n",
      "[7]\tvalidation_0-aucpr:0.970914\n",
      "\n"
     ]
    },
    {
     "data": {
      "text/plain": [
       "XGBClassifier(scale_pos_weight=0.4144144144144144, seed=42)"
      ]
     },
     "execution_count": 28,
     "metadata": {},
     "output_type": "execute_result"
    }
   ],
   "source": [
    "xgb_base=xgb.XGBClassifier(objective='binary:logistic', missing=None, seed=42, scale_pos_weight=(46/111))\n",
    "\n",
    "xgb_base.fit(X_train, y_train,\n",
    "            verbose=True,\n",
    "            early_stopping_rounds=10,\n",
    "            eval_metric='aucpr',\n",
    "            eval_set=[(X_test, y_test)])"
   ]
  },
  {
   "cell_type": "code",
   "execution_count": 32,
   "id": "CsQ7roakRfNx",
   "metadata": {
    "colab": {
     "base_uri": "https://localhost:8080/"
    },
    "id": "CsQ7roakRfNx",
    "outputId": "3a5304fd-2562-4b53-fc0d-d8267f1c5429"
   },
   "outputs": [
    {
     "data": {
      "text/plain": [
       "{'7900488': 0.918341041,\n",
       " '7916984': 142.97791098099995,\n",
       " '7923976': 10.3447120002,\n",
       " '7969574': 0.0715165138,\n",
       " '7971661': 4.034704571,\n",
       " '8008885': 81.28198195700003,\n",
       " '8084755': 13.284669159299998,\n",
       " '8087881': 12.859676469,\n",
       " '8163107': 6.9021956963}"
      ]
     },
     "execution_count": 32,
     "metadata": {},
     "output_type": "execute_result"
    }
   ],
   "source": [
    "xgb_base.get_booster().get_score(importance_type='total_gain')"
   ]
  },
  {
   "cell_type": "code",
   "execution_count": 33,
   "id": "4tU2dU4pRhyE",
   "metadata": {
    "colab": {
     "base_uri": "https://localhost:8080/"
    },
    "id": "4tU2dU4pRhyE",
    "outputId": "3e7b222c-5950-49ee-9200-b18fd4cbbce0"
   },
   "outputs": [
    {
     "data": {
      "text/plain": [
       "{'7900488': 0.918341041,\n",
       " '7916984': 7.525153209526313,\n",
       " '7923976': 1.293089000025,\n",
       " '7969574': 0.0715165138,\n",
       " '7971661': 0.6724507618333333,\n",
       " '8008885': 3.126230075269232,\n",
       " '8084755': 1.4760743510333332,\n",
       " '8087881': 1.607459558625,\n",
       " '8163107': 0.6274723360272727}"
      ]
     },
     "execution_count": 33,
     "metadata": {},
     "output_type": "execute_result"
    }
   ],
   "source": [
    "xgb_base.get_booster().get_score(importance_type='gain')"
   ]
  },
  {
   "cell_type": "markdown",
   "id": "Oi02TchiRqAY",
   "metadata": {
    "id": "Oi02TchiRqAY"
   },
   "source": [
    "Based on both total and average gain, 7916984, and 8008885 are the 2 most important mirs. After this two 8084755 and 8087881 are the most importants.\n"
   ]
  },
  {
   "cell_type": "markdown",
   "id": "OXwjTg6QTLuk",
   "metadata": {
    "id": "OXwjTg6QTLuk"
   },
   "source": [
    "#### XGB model with 3 most important mirs"
   ]
  },
  {
   "cell_type": "code",
   "execution_count": 13,
   "id": "rQRw-VZ7TDxm",
   "metadata": {
    "colab": {
     "base_uri": "https://localhost:8080/"
    },
    "id": "rQRw-VZ7TDxm",
    "outputId": "88e36071-316d-4cfe-afd3-32a8b4c3b660"
   },
   "outputs": [
    {
     "data": {
      "text/plain": [
       "(157, 3)"
      ]
     },
     "execution_count": 13,
     "metadata": {},
     "output_type": "execute_result"
    }
   ],
   "source": [
    "X_temp=X[[7916984, 8008885, 8087881]]\n",
    "y_temp=y_binary\n",
    "\n",
    "X_temp.shape"
   ]
  },
  {
   "cell_type": "code",
   "execution_count": 14,
   "id": "gU6WH1Vp8fC_",
   "metadata": {
    "colab": {
     "base_uri": "https://localhost:8080/"
    },
    "id": "gU6WH1Vp8fC_",
    "outputId": "537360ba-e5d8-471a-8583-9bcaa7ecbae0"
   },
   "outputs": [
    {
     "data": {
      "text/plain": [
       "((109, 3), (48, 3))"
      ]
     },
     "execution_count": 14,
     "metadata": {},
     "output_type": "execute_result"
    }
   ],
   "source": [
    "X_train, X_test, y_train, y_test = train_test_split(X_temp, y_temp, test_size=0.3, random_state=0, stratify=y_temp)\n",
    "\n",
    "X_train.shape, X_test.shape"
   ]
  },
  {
   "cell_type": "code",
   "execution_count": 37,
   "id": "39c9cfd0",
   "metadata": {
    "id": "39c9cfd0"
   },
   "outputs": [],
   "source": [
    "# determine the hyperparameter space\n",
    "\n",
    "param_grid = [\n",
    "    Integer(3, 1000, name='n_estimators'),\n",
    "    Integer(1, 10, name='max_depth'),\n",
    "    Real(0.01, 0.99, name='learning_rate'),\n",
    "    Categorical(['gbtree', 'dart'], name='booster'),\n",
    "    Real(0.01, 10, name='gamma'),\n",
    "    Real(0.50, 0.90, name='subsample'),\n",
    "    Integer(1, 50, name='reg_lambda')\n",
    "]"
   ]
  },
  {
   "cell_type": "code",
   "execution_count": 38,
   "id": "ec7dff3f",
   "metadata": {
    "id": "ec7dff3f"
   },
   "outputs": [],
   "source": [
    "# set up the gradient boosting classifier\n",
    "\n",
    "gbm = xgb.XGBClassifier(random_state=1000)"
   ]
  },
  {
   "cell_type": "code",
   "execution_count": 39,
   "id": "c6bae6ca",
   "metadata": {
    "id": "c6bae6ca"
   },
   "outputs": [],
   "source": [
    "# We design a function to maximize the accuracy, of a GBM,\n",
    "# with cross-validation\n",
    "\n",
    "# the decorator allows our objective function to receive the parameters as\n",
    "# keyword arguments. This is a requirement of Scikit-Optimize.\n",
    "@use_named_args(param_grid)\n",
    "def objective(**params):\n",
    "    \n",
    "    # model with new parameters\n",
    "    gbm.set_params(**params)\n",
    "\n",
    "    # optimization function (hyperparam response function)\n",
    "    value = np.mean(\n",
    "        cross_val_score(\n",
    "            gbm, \n",
    "            X_train,\n",
    "            y_train,\n",
    "            cv=3,\n",
    "            n_jobs=-1,\n",
    "            scoring='accuracy')\n",
    "    )\n",
    "\n",
    "    # negate because we need to minimize\n",
    "    return -value"
   ]
  },
  {
   "cell_type": "markdown",
   "id": "0cf395bf",
   "metadata": {
    "id": "0cf395bf"
   },
   "source": [
    "### Bayesian Optimization\n",
    "\n",
    "We are now ready for sequential model-based optimization. Here we use Gaussian process-based Optimization."
   ]
  },
  {
   "cell_type": "code",
   "execution_count": 42,
   "id": "a22e7027",
   "metadata": {
    "id": "a22e7027",
    "scrolled": true
   },
   "outputs": [],
   "source": [
    "# gp_minimize performs by default GP Optimization \n",
    "# using a Marten Kernel\n",
    "\n",
    "gp_ = gp_minimize(\n",
    "    objective, # the objective function to minimize\n",
    "    param_grid, # the hyperparameter space\n",
    "    n_initial_points=10, # the number of points to evaluate f(x) to start of\n",
    "    acq_func='EI', # the acquisition function\n",
    "    n_calls=200, # the number of subsequent evaluations of f(x)\n",
    "    random_state=0\n",
    ")"
   ]
  },
  {
   "cell_type": "code",
   "execution_count": 43,
   "id": "9701188e",
   "metadata": {
    "colab": {
     "base_uri": "https://localhost:8080/",
     "height": 35
    },
    "id": "9701188e",
    "outputId": "4fc91035-2fc1-438e-99da-00b4de33337e"
   },
   "outputs": [
    {
     "data": {
      "application/vnd.google.colaboratory.intrinsic+json": {
       "type": "string"
      },
      "text/plain": [
       "'Best score=-0.8526'"
      ]
     },
     "execution_count": 43,
     "metadata": {},
     "output_type": "execute_result"
    }
   ],
   "source": [
    "\"Best score=%.4f\" % gp_.fun"
   ]
  },
  {
   "cell_type": "code",
   "execution_count": 45,
   "id": "7bcfe5af",
   "metadata": {
    "colab": {
     "base_uri": "https://localhost:8080/"
    },
    "id": "7bcfe5af",
    "outputId": "f9ca6574-8a6c-4306-ffad-09845a501339"
   },
   "outputs": [
    {
     "name": "stdout",
     "output_type": "stream",
     "text": [
      "Best parameters:\n",
      "=========================\n",
      "- n_estimators = 871\n",
      "- max_depth = 7\n",
      "- learning_rate = 0.019910\n",
      "- booster = dart\n",
      "- gamma = 2.240964\n",
      "- subsample = 0.723084\n",
      "- reg_lambda = 1\n",
      "\n"
     ]
    }
   ],
   "source": [
    "print(\"\"\"Best parameters:\n",
    "=========================\n",
    "- n_estimators = %d\n",
    "- max_depth = %d\n",
    "- learning_rate = %.6f\n",
    "- booster = %s\n",
    "- gamma = %.6f\n",
    "- subsample = %.6f\n",
    "- reg_lambda = %d\n",
    "\"\"\" % (gp_.x[0],\n",
    "       gp_.x[1],\n",
    "       gp_.x[2],\n",
    "       gp_.x[3],\n",
    "       gp_.x[4],\n",
    "       gp_.x[5],\n",
    "       gp_.x[6]\n",
    "      ))"
   ]
  },
  {
   "cell_type": "code",
   "execution_count": 24,
   "id": "f5b7baef",
   "metadata": {},
   "outputs": [
    {
     "name": "stdout",
     "output_type": "stream",
     "text": [
      "[11:01:01] WARNING: ../src/learner.cc:576: \n",
      "Parameters: { \"learn_rate\", \"n_estimator\" } might not be used.\n",
      "\n",
      "  This could be a false alarm, with some parameters getting used by language bindings but\n",
      "  then being mistakenly passed down to XGBoost core, or some parameter actually being used\n",
      "  but getting flagged wrongly here. Please open an issue if you find any such cases.\n",
      "\n",
      "\n",
      "[0]\tvalidation_0-aucpr:0.70833\n",
      "[1]\tvalidation_0-aucpr:0.70833\n",
      "[2]\tvalidation_0-aucpr:0.70833\n",
      "[3]\tvalidation_0-aucpr:0.87720\n",
      "[4]\tvalidation_0-aucpr:0.87720\n",
      "[5]\tvalidation_0-aucpr:0.87720\n",
      "[6]\tvalidation_0-aucpr:0.87720\n",
      "[7]\tvalidation_0-aucpr:0.87720\n",
      "[8]\tvalidation_0-aucpr:0.87720\n",
      "[9]\tvalidation_0-aucpr:0.87720\n",
      "[10]\tvalidation_0-aucpr:0.87720\n",
      "[11]\tvalidation_0-aucpr:0.87720\n",
      "[12]\tvalidation_0-aucpr:0.87720\n",
      "[13]\tvalidation_0-aucpr:0.87720\n",
      "0.05 0.333\n",
      "[11:01:01] WARNING: ../src/learner.cc:576: \n",
      "Parameters: { \"learn_rate\", \"n_estimator\" } might not be used.\n",
      "\n",
      "  This could be a false alarm, with some parameters getting used by language bindings but\n",
      "  then being mistakenly passed down to XGBoost core, or some parameter actually being used\n",
      "  but getting flagged wrongly here. Please open an issue if you find any such cases.\n",
      "\n",
      "\n",
      "[0]\tvalidation_0-aucpr:0.84207\n",
      "[1]\tvalidation_0-aucpr:0.87720\n",
      "[2]\tvalidation_0-aucpr:0.89707\n",
      "[3]\tvalidation_0-aucpr:0.90177\n",
      "[4]\tvalidation_0-aucpr:0.90997\n",
      "[5]\tvalidation_0-aucpr:0.90997\n",
      "[6]\tvalidation_0-aucpr:0.91192\n",
      "[7]\tvalidation_0-aucpr:0.91101\n",
      "[8]\tvalidation_0-aucpr:0.91101\n",
      "[9]\tvalidation_0-aucpr:0.91101\n",
      "[10]\tvalidation_0-aucpr:0.91101\n",
      "[11]\tvalidation_0-aucpr:0.91101\n",
      "[12]\tvalidation_0-aucpr:0.91101\n",
      "[13]\tvalidation_0-aucpr:0.91101\n",
      "[14]\tvalidation_0-aucpr:0.91101\n",
      "[15]\tvalidation_0-aucpr:0.91101\n",
      "0.10 0.690\n",
      "[11:01:01] WARNING: ../src/learner.cc:576: \n",
      "Parameters: { \"learn_rate\", \"n_estimator\" } might not be used.\n",
      "\n",
      "  This could be a false alarm, with some parameters getting used by language bindings but\n",
      "  then being mistakenly passed down to XGBoost core, or some parameter actually being used\n",
      "  but getting flagged wrongly here. Please open an issue if you find any such cases.\n",
      "\n",
      "\n",
      "[0]\tvalidation_0-aucpr:0.84207\n",
      "[1]\tvalidation_0-aucpr:0.87720\n",
      "[2]\tvalidation_0-aucpr:0.89707\n",
      "[3]\tvalidation_0-aucpr:0.89707\n",
      "[4]\tvalidation_0-aucpr:0.90016\n",
      "[5]\tvalidation_0-aucpr:0.90524\n",
      "[6]\tvalidation_0-aucpr:0.90798\n",
      "[7]\tvalidation_0-aucpr:0.90652\n",
      "[8]\tvalidation_0-aucpr:0.90652\n",
      "[9]\tvalidation_0-aucpr:0.90652\n",
      "[10]\tvalidation_0-aucpr:0.90652\n",
      "[11]\tvalidation_0-aucpr:0.91358\n",
      "[12]\tvalidation_0-aucpr:0.91358\n",
      "[13]\tvalidation_0-aucpr:0.91358\n",
      "[14]\tvalidation_0-aucpr:0.91358\n",
      "[15]\tvalidation_0-aucpr:0.91358\n",
      "[16]\tvalidation_0-aucpr:0.91358\n",
      "[17]\tvalidation_0-aucpr:0.91205\n",
      "[18]\tvalidation_0-aucpr:0.91205\n",
      "[19]\tvalidation_0-aucpr:0.91205\n",
      "[20]\tvalidation_0-aucpr:0.91205\n",
      "0.15 0.762\n",
      "[11:01:01] WARNING: ../src/learner.cc:576: \n",
      "Parameters: { \"learn_rate\", \"n_estimator\" } might not be used.\n",
      "\n",
      "  This could be a false alarm, with some parameters getting used by language bindings but\n",
      "  then being mistakenly passed down to XGBoost core, or some parameter actually being used\n",
      "  but getting flagged wrongly here. Please open an issue if you find any such cases.\n",
      "\n",
      "\n",
      "[0]\tvalidation_0-aucpr:0.85180\n",
      "[1]\tvalidation_0-aucpr:0.89375\n",
      "[2]\tvalidation_0-aucpr:0.91542\n",
      "[3]\tvalidation_0-aucpr:0.90451\n",
      "[4]\tvalidation_0-aucpr:0.90310\n",
      "[5]\tvalidation_0-aucpr:0.91216\n",
      "[6]\tvalidation_0-aucpr:0.91184\n",
      "[7]\tvalidation_0-aucpr:0.91226\n",
      "[8]\tvalidation_0-aucpr:0.91226\n",
      "[9]\tvalidation_0-aucpr:0.91226\n",
      "[10]\tvalidation_0-aucpr:0.91226\n",
      "[11]\tvalidation_0-aucpr:0.91226\n",
      "0.20 0.786\n",
      "[11:01:01] WARNING: ../src/learner.cc:576: \n",
      "Parameters: { \"learn_rate\", \"n_estimator\" } might not be used.\n",
      "\n",
      "  This could be a false alarm, with some parameters getting used by language bindings but\n",
      "  then being mistakenly passed down to XGBoost core, or some parameter actually being used\n",
      "  but getting flagged wrongly here. Please open an issue if you find any such cases.\n",
      "\n",
      "\n",
      "[0]\tvalidation_0-aucpr:0.85180\n",
      "[1]\tvalidation_0-aucpr:0.90427\n",
      "[2]\tvalidation_0-aucpr:0.91103\n",
      "[3]\tvalidation_0-aucpr:0.90531\n",
      "[4]\tvalidation_0-aucpr:0.90310\n",
      "[5]\tvalidation_0-aucpr:0.91093\n",
      "[6]\tvalidation_0-aucpr:0.91263\n",
      "[7]\tvalidation_0-aucpr:0.91380\n",
      "[8]\tvalidation_0-aucpr:0.91380\n",
      "[9]\tvalidation_0-aucpr:0.91380\n",
      "[10]\tvalidation_0-aucpr:0.91380\n",
      "[11]\tvalidation_0-aucpr:0.91380\n",
      "[12]\tvalidation_0-aucpr:0.91380\n",
      "[13]\tvalidation_0-aucpr:0.91380\n",
      "[14]\tvalidation_0-aucpr:0.91380\n",
      "[15]\tvalidation_0-aucpr:0.91380\n",
      "[16]\tvalidation_0-aucpr:0.91105\n",
      "[17]\tvalidation_0-aucpr:0.91258\n",
      "0.25 0.762\n",
      "[11:01:01] WARNING: ../src/learner.cc:576: \n",
      "Parameters: { \"learn_rate\", \"n_estimator\" } might not be used.\n",
      "\n",
      "  This could be a false alarm, with some parameters getting used by language bindings but\n",
      "  then being mistakenly passed down to XGBoost core, or some parameter actually being used\n",
      "  but getting flagged wrongly here. Please open an issue if you find any such cases.\n",
      "\n",
      "\n",
      "[0]\tvalidation_0-aucpr:0.86142\n",
      "[1]\tvalidation_0-aucpr:0.90505\n",
      "[2]\tvalidation_0-aucpr:0.91458\n",
      "[3]\tvalidation_0-aucpr:0.90982\n",
      "[4]\tvalidation_0-aucpr:0.90512\n",
      "[5]\tvalidation_0-aucpr:0.91310\n",
      "[6]\tvalidation_0-aucpr:0.91479\n"
     ]
    },
    {
     "name": "stderr",
     "output_type": "stream",
     "text": [
      "/Users/mehrdad/opt/anaconda3/lib/python3.9/site-packages/xgboost/sklearn.py:1224: UserWarning: The use of label encoder in XGBClassifier is deprecated and will be removed in a future release. To remove this warning, do the following: 1) Pass option use_label_encoder=False when constructing XGBClassifier object; and 2) Encode your labels (y) as integers starting with 0, i.e. 0, 1, 2, ..., [num_class - 1].\n",
      "  warnings.warn(label_encoder_deprecation_msg, UserWarning)\n",
      "/Users/mehrdad/opt/anaconda3/lib/python3.9/site-packages/xgboost/sklearn.py:1224: UserWarning: The use of label encoder in XGBClassifier is deprecated and will be removed in a future release. To remove this warning, do the following: 1) Pass option use_label_encoder=False when constructing XGBClassifier object; and 2) Encode your labels (y) as integers starting with 0, i.e. 0, 1, 2, ..., [num_class - 1].\n",
      "  warnings.warn(label_encoder_deprecation_msg, UserWarning)\n",
      "/Users/mehrdad/opt/anaconda3/lib/python3.9/site-packages/xgboost/sklearn.py:1224: UserWarning: The use of label encoder in XGBClassifier is deprecated and will be removed in a future release. To remove this warning, do the following: 1) Pass option use_label_encoder=False when constructing XGBClassifier object; and 2) Encode your labels (y) as integers starting with 0, i.e. 0, 1, 2, ..., [num_class - 1].\n",
      "  warnings.warn(label_encoder_deprecation_msg, UserWarning)\n",
      "/Users/mehrdad/opt/anaconda3/lib/python3.9/site-packages/xgboost/sklearn.py:1224: UserWarning: The use of label encoder in XGBClassifier is deprecated and will be removed in a future release. To remove this warning, do the following: 1) Pass option use_label_encoder=False when constructing XGBClassifier object; and 2) Encode your labels (y) as integers starting with 0, i.e. 0, 1, 2, ..., [num_class - 1].\n",
      "  warnings.warn(label_encoder_deprecation_msg, UserWarning)\n",
      "/Users/mehrdad/opt/anaconda3/lib/python3.9/site-packages/xgboost/sklearn.py:1224: UserWarning: The use of label encoder in XGBClassifier is deprecated and will be removed in a future release. To remove this warning, do the following: 1) Pass option use_label_encoder=False when constructing XGBClassifier object; and 2) Encode your labels (y) as integers starting with 0, i.e. 0, 1, 2, ..., [num_class - 1].\n",
      "  warnings.warn(label_encoder_deprecation_msg, UserWarning)\n"
     ]
    },
    {
     "name": "stdout",
     "output_type": "stream",
     "text": [
      "[7]\tvalidation_0-aucpr:0.91597\n",
      "[8]\tvalidation_0-aucpr:0.91597\n",
      "[9]\tvalidation_0-aucpr:0.91211\n",
      "[10]\tvalidation_0-aucpr:0.91211\n",
      "[11]\tvalidation_0-aucpr:0.91211\n",
      "[12]\tvalidation_0-aucpr:0.91211\n",
      "[13]\tvalidation_0-aucpr:0.91211\n",
      "[14]\tvalidation_0-aucpr:0.91211\n",
      "[15]\tvalidation_0-aucpr:0.91211\n",
      "[16]\tvalidation_0-aucpr:0.91105\n",
      "[17]\tvalidation_0-aucpr:0.91156\n",
      "0.30 0.833\n",
      "[11:01:02] WARNING: ../src/learner.cc:576: \n",
      "Parameters: { \"learn_rate\", \"n_estimator\" } might not be used.\n",
      "\n",
      "  This could be a false alarm, with some parameters getting used by language bindings but\n",
      "  then being mistakenly passed down to XGBoost core, or some parameter actually being used\n",
      "  but getting flagged wrongly here. Please open an issue if you find any such cases.\n",
      "\n",
      "\n",
      "[0]\tvalidation_0-aucpr:0.86142\n",
      "[1]\tvalidation_0-aucpr:0.90505\n",
      "[2]\tvalidation_0-aucpr:0.91458\n",
      "[3]\tvalidation_0-aucpr:0.90512\n",
      "[4]\tvalidation_0-aucpr:0.90512\n",
      "[5]\tvalidation_0-aucpr:0.91204\n",
      "[6]\tvalidation_0-aucpr:0.91412\n",
      "[7]\tvalidation_0-aucpr:0.91337\n",
      "[8]\tvalidation_0-aucpr:0.91337\n",
      "[9]\tvalidation_0-aucpr:0.90912\n",
      "[10]\tvalidation_0-aucpr:0.90912\n",
      "[11]\tvalidation_0-aucpr:0.90912\n",
      "[12]\tvalidation_0-aucpr:0.90912\n",
      "0.35 0.786\n",
      "[11:01:02] WARNING: ../src/learner.cc:576: \n",
      "Parameters: { \"learn_rate\", \"n_estimator\" } might not be used.\n",
      "\n",
      "  This could be a false alarm, with some parameters getting used by language bindings but\n",
      "  then being mistakenly passed down to XGBoost core, or some parameter actually being used\n",
      "  but getting flagged wrongly here. Please open an issue if you find any such cases.\n",
      "\n",
      "\n",
      "[0]\tvalidation_0-aucpr:0.86142\n",
      "[1]\tvalidation_0-aucpr:0.90505\n",
      "[2]\tvalidation_0-aucpr:0.91458\n",
      "[3]\tvalidation_0-aucpr:0.90512\n",
      "[4]\tvalidation_0-aucpr:0.90512\n",
      "[5]\tvalidation_0-aucpr:0.91204\n",
      "[6]\tvalidation_0-aucpr:0.91204\n",
      "[7]\tvalidation_0-aucpr:0.91129\n",
      "[8]\tvalidation_0-aucpr:0.91129\n",
      "[9]\tvalidation_0-aucpr:0.90912\n",
      "[10]\tvalidation_0-aucpr:0.90912\n",
      "[11]\tvalidation_0-aucpr:0.90912\n",
      "[12]\tvalidation_0-aucpr:0.90912\n",
      "0.40 0.786\n",
      "[11:01:02] WARNING: ../src/learner.cc:576: \n",
      "Parameters: { \"learn_rate\", \"n_estimator\" } might not be used.\n",
      "\n",
      "  This could be a false alarm, with some parameters getting used by language bindings but\n",
      "  then being mistakenly passed down to XGBoost core, or some parameter actually being used\n",
      "  but getting flagged wrongly here. Please open an issue if you find any such cases.\n",
      "\n",
      "\n",
      "[0]\tvalidation_0-aucpr:0.86142\n",
      "[1]\tvalidation_0-aucpr:0.88693\n",
      "[2]\tvalidation_0-aucpr:0.89495\n",
      "[3]\tvalidation_0-aucpr:0.90131\n",
      "[4]\tvalidation_0-aucpr:0.90239\n",
      "[5]\tvalidation_0-aucpr:0.91088\n",
      "[6]\tvalidation_0-aucpr:0.91310\n",
      "[7]\tvalidation_0-aucpr:0.91479\n",
      "[8]\tvalidation_0-aucpr:0.91479\n",
      "[9]\tvalidation_0-aucpr:0.91093\n",
      "[10]\tvalidation_0-aucpr:0.91093\n",
      "[11]\tvalidation_0-aucpr:0.91093\n",
      "[12]\tvalidation_0-aucpr:0.91093\n",
      "[13]\tvalidation_0-aucpr:0.91093\n",
      "[14]\tvalidation_0-aucpr:0.91093\n",
      "[15]\tvalidation_0-aucpr:0.91093\n",
      "[16]\tvalidation_0-aucpr:0.90629\n",
      "0.45 0.786\n",
      "[11:01:02] WARNING: ../src/learner.cc:576: \n",
      "Parameters: { \"learn_rate\", \"n_estimator\" } might not be used.\n",
      "\n",
      "  This could be a false alarm, with some parameters getting used by language bindings but\n",
      "  then being mistakenly passed down to XGBoost core, or some parameter actually being used\n",
      "  but getting flagged wrongly here. Please open an issue if you find any such cases.\n",
      "\n",
      "\n",
      "[0]\tvalidation_0-aucpr:0.86142\n",
      "[1]\tvalidation_0-aucpr:0.88693\n",
      "[2]\tvalidation_0-aucpr:0.89495\n",
      "[3]\tvalidation_0-aucpr:0.90131\n",
      "[4]\tvalidation_0-aucpr:0.90239\n",
      "[5]\tvalidation_0-aucpr:0.91088\n",
      "[6]\tvalidation_0-aucpr:0.91310\n",
      "[7]\tvalidation_0-aucpr:0.91479\n",
      "[8]\tvalidation_0-aucpr:0.91479\n",
      "[9]\tvalidation_0-aucpr:0.91093\n",
      "[10]\tvalidation_0-aucpr:0.94503\n",
      "[11]\tvalidation_0-aucpr:0.94503\n",
      "[12]\tvalidation_0-aucpr:0.94503\n",
      "[13]\tvalidation_0-aucpr:0.94503\n",
      "[14]\tvalidation_0-aucpr:0.94503\n",
      "[15]\tvalidation_0-aucpr:0.94503\n",
      "[16]\tvalidation_0-aucpr:0.94023\n",
      "[17]\tvalidation_0-aucpr:0.94340\n",
      "[18]\tvalidation_0-aucpr:0.94340\n",
      "[19]\tvalidation_0-aucpr:0.94340\n",
      "0.50 0.786\n",
      "[11:01:02] WARNING: ../src/learner.cc:576: \n",
      "Parameters: { \"learn_rate\", \"n_estimator\" } might not be used.\n",
      "\n",
      "  This could be a false alarm, with some parameters getting used by language bindings but\n",
      "  then being mistakenly passed down to XGBoost core, or some parameter actually being used\n",
      "  but getting flagged wrongly here. Please open an issue if you find any such cases.\n",
      "\n",
      "\n",
      "[0]\tvalidation_0-aucpr:0.86142\n",
      "[1]\tvalidation_0-aucpr:0.88693\n",
      "[2]\tvalidation_0-aucpr:0.89153\n",
      "[3]\tvalidation_0-aucpr:0.89789\n",
      "[4]\tvalidation_0-aucpr:0.90758\n",
      "[5]\tvalidation_0-aucpr:0.91160\n",
      "[6]\tvalidation_0-aucpr:0.91262\n",
      "[7]\tvalidation_0-aucpr:0.91227\n",
      "[8]\tvalidation_0-aucpr:0.91227\n",
      "[9]\tvalidation_0-aucpr:0.91029\n",
      "[10]\tvalidation_0-aucpr:0.91029\n",
      "[11]\tvalidation_0-aucpr:0.91029\n",
      "[12]\tvalidation_0-aucpr:0.91029\n"
     ]
    },
    {
     "name": "stderr",
     "output_type": "stream",
     "text": [
      "/Users/mehrdad/opt/anaconda3/lib/python3.9/site-packages/xgboost/sklearn.py:1224: UserWarning: The use of label encoder in XGBClassifier is deprecated and will be removed in a future release. To remove this warning, do the following: 1) Pass option use_label_encoder=False when constructing XGBClassifier object; and 2) Encode your labels (y) as integers starting with 0, i.e. 0, 1, 2, ..., [num_class - 1].\n",
      "  warnings.warn(label_encoder_deprecation_msg, UserWarning)\n",
      "/Users/mehrdad/opt/anaconda3/lib/python3.9/site-packages/xgboost/sklearn.py:1224: UserWarning: The use of label encoder in XGBClassifier is deprecated and will be removed in a future release. To remove this warning, do the following: 1) Pass option use_label_encoder=False when constructing XGBClassifier object; and 2) Encode your labels (y) as integers starting with 0, i.e. 0, 1, 2, ..., [num_class - 1].\n",
      "  warnings.warn(label_encoder_deprecation_msg, UserWarning)\n",
      "/Users/mehrdad/opt/anaconda3/lib/python3.9/site-packages/xgboost/sklearn.py:1224: UserWarning: The use of label encoder in XGBClassifier is deprecated and will be removed in a future release. To remove this warning, do the following: 1) Pass option use_label_encoder=False when constructing XGBClassifier object; and 2) Encode your labels (y) as integers starting with 0, i.e. 0, 1, 2, ..., [num_class - 1].\n",
      "  warnings.warn(label_encoder_deprecation_msg, UserWarning)\n",
      "/Users/mehrdad/opt/anaconda3/lib/python3.9/site-packages/xgboost/sklearn.py:1224: UserWarning: The use of label encoder in XGBClassifier is deprecated and will be removed in a future release. To remove this warning, do the following: 1) Pass option use_label_encoder=False when constructing XGBClassifier object; and 2) Encode your labels (y) as integers starting with 0, i.e. 0, 1, 2, ..., [num_class - 1].\n",
      "  warnings.warn(label_encoder_deprecation_msg, UserWarning)\n",
      "/Users/mehrdad/opt/anaconda3/lib/python3.9/site-packages/xgboost/sklearn.py:1224: UserWarning: The use of label encoder in XGBClassifier is deprecated and will be removed in a future release. To remove this warning, do the following: 1) Pass option use_label_encoder=False when constructing XGBClassifier object; and 2) Encode your labels (y) as integers starting with 0, i.e. 0, 1, 2, ..., [num_class - 1].\n",
      "  warnings.warn(label_encoder_deprecation_msg, UserWarning)\n"
     ]
    },
    {
     "name": "stdout",
     "output_type": "stream",
     "text": [
      "[13]\tvalidation_0-aucpr:0.91029\n",
      "[14]\tvalidation_0-aucpr:0.91029\n",
      "[15]\tvalidation_0-aucpr:0.91029\n",
      "0.55 0.786\n",
      "[11:01:02] WARNING: ../src/learner.cc:576: \n",
      "Parameters: { \"learn_rate\", \"n_estimator\" } might not be used.\n",
      "\n",
      "  This could be a false alarm, with some parameters getting used by language bindings but\n",
      "  then being mistakenly passed down to XGBoost core, or some parameter actually being used\n",
      "  but getting flagged wrongly here. Please open an issue if you find any such cases.\n",
      "\n",
      "\n",
      "[0]\tvalidation_0-aucpr:0.86142\n",
      "[1]\tvalidation_0-aucpr:0.88752\n",
      "[2]\tvalidation_0-aucpr:0.92458\n",
      "[3]\tvalidation_0-aucpr:0.91268\n",
      "[4]\tvalidation_0-aucpr:0.91207\n",
      "[5]\tvalidation_0-aucpr:0.91531\n",
      "[6]\tvalidation_0-aucpr:0.91443\n",
      "[7]\tvalidation_0-aucpr:0.91740\n",
      "[8]\tvalidation_0-aucpr:0.91740\n",
      "[9]\tvalidation_0-aucpr:0.91354\n",
      "[10]\tvalidation_0-aucpr:0.94902\n",
      "[11]\tvalidation_0-aucpr:0.94902\n",
      "[12]\tvalidation_0-aucpr:0.94902\n",
      "[13]\tvalidation_0-aucpr:0.94902\n",
      "[14]\tvalidation_0-aucpr:0.94902\n",
      "[15]\tvalidation_0-aucpr:0.94902\n",
      "[16]\tvalidation_0-aucpr:0.94644\n",
      "[17]\tvalidation_0-aucpr:0.94605\n",
      "[18]\tvalidation_0-aucpr:0.94605\n",
      "[19]\tvalidation_0-aucpr:0.94605\n",
      "[20]\tvalidation_0-aucpr:0.94605\n",
      "0.60 0.786\n",
      "[11:01:02] WARNING: ../src/learner.cc:576: \n",
      "Parameters: { \"learn_rate\", \"n_estimator\" } might not be used.\n",
      "\n",
      "  This could be a false alarm, with some parameters getting used by language bindings but\n",
      "  then being mistakenly passed down to XGBoost core, or some parameter actually being used\n",
      "  but getting flagged wrongly here. Please open an issue if you find any such cases.\n",
      "\n",
      "\n",
      "[0]\tvalidation_0-aucpr:0.86142\n",
      "[1]\tvalidation_0-aucpr:0.88752\n",
      "[2]\tvalidation_0-aucpr:0.92529\n",
      "[3]\tvalidation_0-aucpr:0.91268\n",
      "[4]\tvalidation_0-aucpr:0.91762\n",
      "[5]\tvalidation_0-aucpr:0.91732\n",
      "[6]\tvalidation_0-aucpr:0.91644\n",
      "[7]\tvalidation_0-aucpr:0.94822\n",
      "[8]\tvalidation_0-aucpr:0.94822\n",
      "[9]\tvalidation_0-aucpr:0.94807\n",
      "[10]\tvalidation_0-aucpr:0.94807\n",
      "[11]\tvalidation_0-aucpr:0.94807\n",
      "[12]\tvalidation_0-aucpr:0.94807\n",
      "[13]\tvalidation_0-aucpr:0.94355\n",
      "[14]\tvalidation_0-aucpr:0.94355\n",
      "[15]\tvalidation_0-aucpr:0.94355\n",
      "[16]\tvalidation_0-aucpr:0.94355\n",
      "0.65 0.833\n",
      "[11:01:02] WARNING: ../src/learner.cc:576: \n",
      "Parameters: { \"learn_rate\", \"n_estimator\" } might not be used.\n",
      "\n",
      "  This could be a false alarm, with some parameters getting used by language bindings but\n",
      "  then being mistakenly passed down to XGBoost core, or some parameter actually being used\n",
      "  but getting flagged wrongly here. Please open an issue if you find any such cases.\n",
      "\n",
      "\n",
      "[0]\tvalidation_0-aucpr:0.86142\n",
      "[1]\tvalidation_0-aucpr:0.88752\n",
      "[2]\tvalidation_0-aucpr:0.92532\n",
      "[3]\tvalidation_0-aucpr:0.92939\n",
      "[4]\tvalidation_0-aucpr:0.92825\n",
      "[5]\tvalidation_0-aucpr:0.93230\n",
      "[6]\tvalidation_0-aucpr:0.92968\n",
      "[7]\tvalidation_0-aucpr:0.92848\n",
      "[8]\tvalidation_0-aucpr:0.92848\n",
      "[9]\tvalidation_0-aucpr:0.92848\n",
      "[10]\tvalidation_0-aucpr:0.95353\n",
      "[11]\tvalidation_0-aucpr:0.95353\n",
      "[12]\tvalidation_0-aucpr:0.95353\n",
      "[13]\tvalidation_0-aucpr:0.95353\n",
      "[14]\tvalidation_0-aucpr:0.95353\n",
      "[15]\tvalidation_0-aucpr:0.95353\n",
      "[16]\tvalidation_0-aucpr:0.95263\n",
      "[17]\tvalidation_0-aucpr:0.95201\n",
      "[18]\tvalidation_0-aucpr:0.95257\n",
      "[19]\tvalidation_0-aucpr:0.95257\n",
      "[20]\tvalidation_0-aucpr:0.95257\n",
      "0.70 0.833\n",
      "[11:01:02] WARNING: ../src/learner.cc:576: \n",
      "Parameters: { \"learn_rate\", \"n_estimator\" } might not be used.\n",
      "\n",
      "  This could be a false alarm, with some parameters getting used by language bindings but\n",
      "  then being mistakenly passed down to XGBoost core, or some parameter actually being used\n",
      "  but getting flagged wrongly here. Please open an issue if you find any such cases.\n",
      "\n",
      "\n",
      "[0]\tvalidation_0-aucpr:0.86142\n",
      "[1]\tvalidation_0-aucpr:0.88752\n",
      "[2]\tvalidation_0-aucpr:0.92085\n",
      "[3]\tvalidation_0-aucpr:0.92339\n",
      "[4]\tvalidation_0-aucpr:0.92420\n",
      "[5]\tvalidation_0-aucpr:0.92887\n",
      "[6]\tvalidation_0-aucpr:0.92588\n",
      "[7]\tvalidation_0-aucpr:0.92452\n",
      "[8]\tvalidation_0-aucpr:0.92574\n",
      "[9]\tvalidation_0-aucpr:0.92743\n",
      "[10]\tvalidation_0-aucpr:0.94993\n",
      "[11]\tvalidation_0-aucpr:0.94993\n",
      "[12]\tvalidation_0-aucpr:0.94993\n",
      "[13]\tvalidation_0-aucpr:0.94993\n",
      "[14]\tvalidation_0-aucpr:0.94993\n",
      "[15]\tvalidation_0-aucpr:0.94993\n",
      "[16]\tvalidation_0-aucpr:0.95034\n"
     ]
    },
    {
     "name": "stderr",
     "output_type": "stream",
     "text": [
      "/Users/mehrdad/opt/anaconda3/lib/python3.9/site-packages/xgboost/sklearn.py:1224: UserWarning: The use of label encoder in XGBClassifier is deprecated and will be removed in a future release. To remove this warning, do the following: 1) Pass option use_label_encoder=False when constructing XGBClassifier object; and 2) Encode your labels (y) as integers starting with 0, i.e. 0, 1, 2, ..., [num_class - 1].\n",
      "  warnings.warn(label_encoder_deprecation_msg, UserWarning)\n",
      "/Users/mehrdad/opt/anaconda3/lib/python3.9/site-packages/xgboost/sklearn.py:1224: UserWarning: The use of label encoder in XGBClassifier is deprecated and will be removed in a future release. To remove this warning, do the following: 1) Pass option use_label_encoder=False when constructing XGBClassifier object; and 2) Encode your labels (y) as integers starting with 0, i.e. 0, 1, 2, ..., [num_class - 1].\n",
      "  warnings.warn(label_encoder_deprecation_msg, UserWarning)\n",
      "/Users/mehrdad/opt/anaconda3/lib/python3.9/site-packages/xgboost/sklearn.py:1224: UserWarning: The use of label encoder in XGBClassifier is deprecated and will be removed in a future release. To remove this warning, do the following: 1) Pass option use_label_encoder=False when constructing XGBClassifier object; and 2) Encode your labels (y) as integers starting with 0, i.e. 0, 1, 2, ..., [num_class - 1].\n",
      "  warnings.warn(label_encoder_deprecation_msg, UserWarning)\n",
      "/Users/mehrdad/opt/anaconda3/lib/python3.9/site-packages/xgboost/sklearn.py:1224: UserWarning: The use of label encoder in XGBClassifier is deprecated and will be removed in a future release. To remove this warning, do the following: 1) Pass option use_label_encoder=False when constructing XGBClassifier object; and 2) Encode your labels (y) as integers starting with 0, i.e. 0, 1, 2, ..., [num_class - 1].\n",
      "  warnings.warn(label_encoder_deprecation_msg, UserWarning)\n"
     ]
    },
    {
     "name": "stdout",
     "output_type": "stream",
     "text": [
      "[17]\tvalidation_0-aucpr:0.95034\n",
      "[18]\tvalidation_0-aucpr:0.95129\n",
      "[19]\tvalidation_0-aucpr:0.95129\n",
      "[20]\tvalidation_0-aucpr:0.95129\n",
      "[21]\tvalidation_0-aucpr:0.95129\n",
      "[22]\tvalidation_0-aucpr:0.95129\n",
      "[23]\tvalidation_0-aucpr:0.94949\n",
      "[24]\tvalidation_0-aucpr:0.94949\n",
      "[25]\tvalidation_0-aucpr:0.94949\n",
      "[26]\tvalidation_0-aucpr:0.94949\n",
      "[27]\tvalidation_0-aucpr:0.94949\n",
      "[28]\tvalidation_0-aucpr:0.95091\n",
      "0.75 0.833\n",
      "[11:01:02] WARNING: ../src/learner.cc:576: \n",
      "Parameters: { \"learn_rate\", \"n_estimator\" } might not be used.\n",
      "\n",
      "  This could be a false alarm, with some parameters getting used by language bindings but\n",
      "  then being mistakenly passed down to XGBoost core, or some parameter actually being used\n",
      "  but getting flagged wrongly here. Please open an issue if you find any such cases.\n",
      "\n",
      "\n",
      "[0]\tvalidation_0-aucpr:0.86142\n",
      "[1]\tvalidation_0-aucpr:0.88752\n",
      "[2]\tvalidation_0-aucpr:0.92085\n",
      "[3]\tvalidation_0-aucpr:0.92339\n",
      "[4]\tvalidation_0-aucpr:0.92420\n",
      "[5]\tvalidation_0-aucpr:0.92887\n",
      "[6]\tvalidation_0-aucpr:0.92451\n",
      "[7]\tvalidation_0-aucpr:0.92452\n",
      "[8]\tvalidation_0-aucpr:0.92452\n",
      "[9]\tvalidation_0-aucpr:0.92440\n",
      "[10]\tvalidation_0-aucpr:0.94800\n",
      "[11]\tvalidation_0-aucpr:0.94800\n",
      "[12]\tvalidation_0-aucpr:0.94800\n",
      "[13]\tvalidation_0-aucpr:0.94800\n",
      "[14]\tvalidation_0-aucpr:0.94800\n",
      "[15]\tvalidation_0-aucpr:0.94800\n",
      "[16]\tvalidation_0-aucpr:0.94788\n",
      "[17]\tvalidation_0-aucpr:0.94788\n",
      "[18]\tvalidation_0-aucpr:0.94776\n",
      "[19]\tvalidation_0-aucpr:0.94776\n",
      "[20]\tvalidation_0-aucpr:0.94776\n",
      "0.80 0.833\n",
      "[11:01:02] WARNING: ../src/learner.cc:576: \n",
      "Parameters: { \"learn_rate\", \"n_estimator\" } might not be used.\n",
      "\n",
      "  This could be a false alarm, with some parameters getting used by language bindings but\n",
      "  then being mistakenly passed down to XGBoost core, or some parameter actually being used\n",
      "  but getting flagged wrongly here. Please open an issue if you find any such cases.\n",
      "\n",
      "\n",
      "[0]\tvalidation_0-aucpr:0.86142\n",
      "[1]\tvalidation_0-aucpr:0.88752\n",
      "[2]\tvalidation_0-aucpr:0.92085\n",
      "[3]\tvalidation_0-aucpr:0.92339\n",
      "[4]\tvalidation_0-aucpr:0.92420\n",
      "[5]\tvalidation_0-aucpr:0.92887\n",
      "[6]\tvalidation_0-aucpr:0.92516\n",
      "[7]\tvalidation_0-aucpr:0.94620\n",
      "[8]\tvalidation_0-aucpr:0.94608\n",
      "[9]\tvalidation_0-aucpr:0.95012\n",
      "[10]\tvalidation_0-aucpr:0.94684\n",
      "[11]\tvalidation_0-aucpr:0.94684\n",
      "[12]\tvalidation_0-aucpr:0.94684\n",
      "[13]\tvalidation_0-aucpr:0.94684\n",
      "[14]\tvalidation_0-aucpr:0.94684\n",
      "[15]\tvalidation_0-aucpr:0.94755\n",
      "[16]\tvalidation_0-aucpr:0.94839\n",
      "[17]\tvalidation_0-aucpr:0.94871\n",
      "[18]\tvalidation_0-aucpr:0.94975\n",
      "0.85 0.833\n",
      "[11:01:02] WARNING: ../src/learner.cc:576: \n",
      "Parameters: { \"learn_rate\", \"n_estimator\" } might not be used.\n",
      "\n",
      "  This could be a false alarm, with some parameters getting used by language bindings but\n",
      "  then being mistakenly passed down to XGBoost core, or some parameter actually being used\n",
      "  but getting flagged wrongly here. Please open an issue if you find any such cases.\n",
      "\n",
      "\n",
      "[0]\tvalidation_0-aucpr:0.86142\n",
      "[1]\tvalidation_0-aucpr:0.88752\n",
      "[2]\tvalidation_0-aucpr:0.92662\n",
      "[3]\tvalidation_0-aucpr:0.92745\n",
      "[4]\tvalidation_0-aucpr:0.92825\n",
      "[5]\tvalidation_0-aucpr:0.93136\n",
      "[6]\tvalidation_0-aucpr:0.92892\n",
      "[7]\tvalidation_0-aucpr:0.92682\n",
      "[8]\tvalidation_0-aucpr:0.92880\n",
      "[9]\tvalidation_0-aucpr:0.93115\n",
      "[10]\tvalidation_0-aucpr:0.95401\n",
      "[11]\tvalidation_0-aucpr:0.95401\n",
      "[12]\tvalidation_0-aucpr:0.95401\n",
      "[13]\tvalidation_0-aucpr:0.95233\n",
      "[14]\tvalidation_0-aucpr:0.95233\n",
      "[15]\tvalidation_0-aucpr:0.95105\n",
      "[16]\tvalidation_0-aucpr:0.95300\n",
      "[17]\tvalidation_0-aucpr:0.95300\n",
      "[18]\tvalidation_0-aucpr:0.95427\n",
      "[19]\tvalidation_0-aucpr:0.95427\n",
      "[20]\tvalidation_0-aucpr:0.95427\n",
      "[21]\tvalidation_0-aucpr:0.95427\n",
      "[22]\tvalidation_0-aucpr:0.95427\n",
      "[23]\tvalidation_0-aucpr:0.95187\n",
      "[24]\tvalidation_0-aucpr:0.95187\n",
      "[25]\tvalidation_0-aucpr:0.95187\n",
      "[26]\tvalidation_0-aucpr:0.95187\n",
      "[27]\tvalidation_0-aucpr:0.95187\n",
      "[28]\tvalidation_0-aucpr:0.95373\n"
     ]
    },
    {
     "name": "stderr",
     "output_type": "stream",
     "text": [
      "/Users/mehrdad/opt/anaconda3/lib/python3.9/site-packages/xgboost/sklearn.py:1224: UserWarning: The use of label encoder in XGBClassifier is deprecated and will be removed in a future release. To remove this warning, do the following: 1) Pass option use_label_encoder=False when constructing XGBClassifier object; and 2) Encode your labels (y) as integers starting with 0, i.e. 0, 1, 2, ..., [num_class - 1].\n",
      "  warnings.warn(label_encoder_deprecation_msg, UserWarning)\n",
      "/Users/mehrdad/opt/anaconda3/lib/python3.9/site-packages/xgboost/sklearn.py:1224: UserWarning: The use of label encoder in XGBClassifier is deprecated and will be removed in a future release. To remove this warning, do the following: 1) Pass option use_label_encoder=False when constructing XGBClassifier object; and 2) Encode your labels (y) as integers starting with 0, i.e. 0, 1, 2, ..., [num_class - 1].\n",
      "  warnings.warn(label_encoder_deprecation_msg, UserWarning)\n",
      "/Users/mehrdad/opt/anaconda3/lib/python3.9/site-packages/xgboost/sklearn.py:1224: UserWarning: The use of label encoder in XGBClassifier is deprecated and will be removed in a future release. To remove this warning, do the following: 1) Pass option use_label_encoder=False when constructing XGBClassifier object; and 2) Encode your labels (y) as integers starting with 0, i.e. 0, 1, 2, ..., [num_class - 1].\n",
      "  warnings.warn(label_encoder_deprecation_msg, UserWarning)\n"
     ]
    },
    {
     "name": "stdout",
     "output_type": "stream",
     "text": [
      "0.90 0.833\n",
      "[11:01:02] WARNING: ../src/learner.cc:576: \n",
      "Parameters: { \"learn_rate\", \"n_estimator\" } might not be used.\n",
      "\n",
      "  This could be a false alarm, with some parameters getting used by language bindings but\n",
      "  then being mistakenly passed down to XGBoost core, or some parameter actually being used\n",
      "  but getting flagged wrongly here. Please open an issue if you find any such cases.\n",
      "\n",
      "\n",
      "[0]\tvalidation_0-aucpr:0.86142\n",
      "[1]\tvalidation_0-aucpr:0.88752\n",
      "[2]\tvalidation_0-aucpr:0.92662\n",
      "[3]\tvalidation_0-aucpr:0.92745\n",
      "[4]\tvalidation_0-aucpr:0.92825\n",
      "[5]\tvalidation_0-aucpr:0.93136\n",
      "[6]\tvalidation_0-aucpr:0.92892\n",
      "[7]\tvalidation_0-aucpr:0.92682\n",
      "[8]\tvalidation_0-aucpr:0.92880\n",
      "[9]\tvalidation_0-aucpr:0.93115\n",
      "[10]\tvalidation_0-aucpr:0.95401\n",
      "[11]\tvalidation_0-aucpr:0.95401\n",
      "[12]\tvalidation_0-aucpr:0.95401\n",
      "[13]\tvalidation_0-aucpr:0.95233\n",
      "[14]\tvalidation_0-aucpr:0.95233\n",
      "[15]\tvalidation_0-aucpr:0.95105\n",
      "[16]\tvalidation_0-aucpr:0.95300\n",
      "[17]\tvalidation_0-aucpr:0.95300\n",
      "[18]\tvalidation_0-aucpr:0.95427\n",
      "[19]\tvalidation_0-aucpr:0.95427\n",
      "[20]\tvalidation_0-aucpr:0.95427\n",
      "[21]\tvalidation_0-aucpr:0.95427\n",
      "[22]\tvalidation_0-aucpr:0.95427\n",
      "[23]\tvalidation_0-aucpr:0.95187\n",
      "[24]\tvalidation_0-aucpr:0.95187\n",
      "[25]\tvalidation_0-aucpr:0.95187\n",
      "[26]\tvalidation_0-aucpr:0.95187\n",
      "[27]\tvalidation_0-aucpr:0.95187\n",
      "0.95 0.833\n",
      "[11:01:02] WARNING: ../src/learner.cc:576: \n",
      "Parameters: { \"learn_rate\", \"n_estimator\" } might not be used.\n",
      "\n",
      "  This could be a false alarm, with some parameters getting used by language bindings but\n",
      "  then being mistakenly passed down to XGBoost core, or some parameter actually being used\n",
      "  but getting flagged wrongly here. Please open an issue if you find any such cases.\n",
      "\n",
      "\n",
      "[0]\tvalidation_0-aucpr:0.86142\n",
      "[1]\tvalidation_0-aucpr:0.88752\n",
      "[2]\tvalidation_0-aucpr:0.92662\n",
      "[3]\tvalidation_0-aucpr:0.92745\n",
      "[4]\tvalidation_0-aucpr:0.92825\n",
      "[5]\tvalidation_0-aucpr:0.93136\n",
      "[6]\tvalidation_0-aucpr:0.92892\n",
      "[7]\tvalidation_0-aucpr:0.94802\n",
      "[8]\tvalidation_0-aucpr:0.95185\n",
      "[9]\tvalidation_0-aucpr:0.95492\n",
      "[10]\tvalidation_0-aucpr:0.95422\n",
      "[11]\tvalidation_0-aucpr:0.95422\n",
      "[12]\tvalidation_0-aucpr:0.95422\n",
      "[13]\tvalidation_0-aucpr:0.95196\n",
      "[14]\tvalidation_0-aucpr:0.95122\n",
      "[15]\tvalidation_0-aucpr:0.95122\n",
      "[16]\tvalidation_0-aucpr:0.95178\n",
      "[17]\tvalidation_0-aucpr:0.95178\n",
      "[18]\tvalidation_0-aucpr:0.95241\n",
      "1.00 0.833\n",
      "[11:01:02] WARNING: ../src/learner.cc:576: \n",
      "Parameters: { \"learn_rate\", \"n_estimator\" } might not be used.\n",
      "\n",
      "  This could be a false alarm, with some parameters getting used by language bindings but\n",
      "  then being mistakenly passed down to XGBoost core, or some parameter actually being used\n",
      "  but getting flagged wrongly here. Please open an issue if you find any such cases.\n",
      "\n",
      "\n",
      "[0]\tvalidation_0-aucpr:0.86142\n",
      "[1]\tvalidation_0-aucpr:0.88752\n",
      "[2]\tvalidation_0-aucpr:0.92390\n",
      "[3]\tvalidation_0-aucpr:0.92644\n",
      "[4]\tvalidation_0-aucpr:0.92854\n",
      "[5]\tvalidation_0-aucpr:0.93012\n",
      "[6]\tvalidation_0-aucpr:0.92688\n",
      "[7]\tvalidation_0-aucpr:0.92634\n",
      "[8]\tvalidation_0-aucpr:0.92678\n",
      "[9]\tvalidation_0-aucpr:0.92803\n",
      "[10]\tvalidation_0-aucpr:0.95097\n",
      "[11]\tvalidation_0-aucpr:0.95097\n",
      "[12]\tvalidation_0-aucpr:0.95097\n",
      "[13]\tvalidation_0-aucpr:0.94839\n",
      "[14]\tvalidation_0-aucpr:0.94761\n",
      "[15]\tvalidation_0-aucpr:0.94761\n",
      "[16]\tvalidation_0-aucpr:0.94761\n",
      "[17]\tvalidation_0-aucpr:0.94761\n",
      "[18]\tvalidation_0-aucpr:0.94737\n",
      "[19]\tvalidation_0-aucpr:0.94737\n",
      "1.05 0.810\n",
      "[11:01:02] WARNING: ../src/learner.cc:576: \n",
      "Parameters: { \"learn_rate\", \"n_estimator\" } might not be used.\n",
      "\n",
      "  This could be a false alarm, with some parameters getting used by language bindings but\n",
      "  then being mistakenly passed down to XGBoost core, or some parameter actually being used\n",
      "  but getting flagged wrongly here. Please open an issue if you find any such cases.\n",
      "\n",
      "\n",
      "[0]\tvalidation_0-aucpr:0.86142\n",
      "[1]\tvalidation_0-aucpr:0.88752\n",
      "[2]\tvalidation_0-aucpr:0.92390\n"
     ]
    },
    {
     "name": "stderr",
     "output_type": "stream",
     "text": [
      "/Users/mehrdad/opt/anaconda3/lib/python3.9/site-packages/xgboost/sklearn.py:1224: UserWarning: The use of label encoder in XGBClassifier is deprecated and will be removed in a future release. To remove this warning, do the following: 1) Pass option use_label_encoder=False when constructing XGBClassifier object; and 2) Encode your labels (y) as integers starting with 0, i.e. 0, 1, 2, ..., [num_class - 1].\n",
      "  warnings.warn(label_encoder_deprecation_msg, UserWarning)\n",
      "/Users/mehrdad/opt/anaconda3/lib/python3.9/site-packages/xgboost/sklearn.py:1224: UserWarning: The use of label encoder in XGBClassifier is deprecated and will be removed in a future release. To remove this warning, do the following: 1) Pass option use_label_encoder=False when constructing XGBClassifier object; and 2) Encode your labels (y) as integers starting with 0, i.e. 0, 1, 2, ..., [num_class - 1].\n",
      "  warnings.warn(label_encoder_deprecation_msg, UserWarning)\n",
      "/Users/mehrdad/opt/anaconda3/lib/python3.9/site-packages/xgboost/sklearn.py:1224: UserWarning: The use of label encoder in XGBClassifier is deprecated and will be removed in a future release. To remove this warning, do the following: 1) Pass option use_label_encoder=False when constructing XGBClassifier object; and 2) Encode your labels (y) as integers starting with 0, i.e. 0, 1, 2, ..., [num_class - 1].\n",
      "  warnings.warn(label_encoder_deprecation_msg, UserWarning)\n",
      "/Users/mehrdad/opt/anaconda3/lib/python3.9/site-packages/xgboost/sklearn.py:1224: UserWarning: The use of label encoder in XGBClassifier is deprecated and will be removed in a future release. To remove this warning, do the following: 1) Pass option use_label_encoder=False when constructing XGBClassifier object; and 2) Encode your labels (y) as integers starting with 0, i.e. 0, 1, 2, ..., [num_class - 1].\n",
      "  warnings.warn(label_encoder_deprecation_msg, UserWarning)\n"
     ]
    },
    {
     "name": "stdout",
     "output_type": "stream",
     "text": [
      "[3]\tvalidation_0-aucpr:0.92644\n",
      "[4]\tvalidation_0-aucpr:0.92854\n",
      "[5]\tvalidation_0-aucpr:0.93012\n",
      "[6]\tvalidation_0-aucpr:0.92688\n",
      "[7]\tvalidation_0-aucpr:0.92634\n",
      "[8]\tvalidation_0-aucpr:0.92678\n",
      "[9]\tvalidation_0-aucpr:0.92803\n",
      "[10]\tvalidation_0-aucpr:0.95097\n",
      "[11]\tvalidation_0-aucpr:0.95097\n",
      "[12]\tvalidation_0-aucpr:0.95097\n",
      "[13]\tvalidation_0-aucpr:0.94839\n",
      "[14]\tvalidation_0-aucpr:0.94902\n",
      "[15]\tvalidation_0-aucpr:0.94902\n",
      "[16]\tvalidation_0-aucpr:0.94902\n",
      "[17]\tvalidation_0-aucpr:0.94902\n",
      "[18]\tvalidation_0-aucpr:0.94814\n",
      "[19]\tvalidation_0-aucpr:0.94814\n",
      "1.10 0.810\n",
      "[11:01:02] WARNING: ../src/learner.cc:576: \n",
      "Parameters: { \"learn_rate\", \"n_estimator\" } might not be used.\n",
      "\n",
      "  This could be a false alarm, with some parameters getting used by language bindings but\n",
      "  then being mistakenly passed down to XGBoost core, or some parameter actually being used\n",
      "  but getting flagged wrongly here. Please open an issue if you find any such cases.\n",
      "\n",
      "\n",
      "[0]\tvalidation_0-aucpr:0.86142\n",
      "[1]\tvalidation_0-aucpr:0.88752\n",
      "[2]\tvalidation_0-aucpr:0.92390\n",
      "[3]\tvalidation_0-aucpr:0.92644\n",
      "[4]\tvalidation_0-aucpr:0.92854\n",
      "[5]\tvalidation_0-aucpr:0.93012\n",
      "[6]\tvalidation_0-aucpr:0.92688\n",
      "[7]\tvalidation_0-aucpr:0.92707\n",
      "[8]\tvalidation_0-aucpr:0.92750\n",
      "[9]\tvalidation_0-aucpr:0.92875\n",
      "[10]\tvalidation_0-aucpr:0.95097\n",
      "[11]\tvalidation_0-aucpr:0.95097\n",
      "[12]\tvalidation_0-aucpr:0.95133\n",
      "[13]\tvalidation_0-aucpr:0.94773\n",
      "[14]\tvalidation_0-aucpr:0.94846\n",
      "[15]\tvalidation_0-aucpr:0.94846\n",
      "[16]\tvalidation_0-aucpr:0.94846\n",
      "[17]\tvalidation_0-aucpr:0.94846\n",
      "[18]\tvalidation_0-aucpr:0.94846\n",
      "[19]\tvalidation_0-aucpr:0.94846\n",
      "[20]\tvalidation_0-aucpr:0.94846\n",
      "[21]\tvalidation_0-aucpr:0.94846\n",
      "1.15 0.833\n",
      "[11:01:03] WARNING: ../src/learner.cc:576: \n",
      "Parameters: { \"learn_rate\", \"n_estimator\" } might not be used.\n",
      "\n",
      "  This could be a false alarm, with some parameters getting used by language bindings but\n",
      "  then being mistakenly passed down to XGBoost core, or some parameter actually being used\n",
      "  but getting flagged wrongly here. Please open an issue if you find any such cases.\n",
      "\n",
      "\n",
      "[0]\tvalidation_0-aucpr:0.86626\n",
      "[1]\tvalidation_0-aucpr:0.88989\n",
      "[2]\tvalidation_0-aucpr:0.92578\n",
      "[3]\tvalidation_0-aucpr:0.92832\n",
      "[4]\tvalidation_0-aucpr:0.92990\n",
      "[5]\tvalidation_0-aucpr:0.93292\n",
      "[6]\tvalidation_0-aucpr:0.93050\n",
      "[7]\tvalidation_0-aucpr:0.92855\n",
      "[8]\tvalidation_0-aucpr:0.92766\n",
      "[9]\tvalidation_0-aucpr:0.92968\n",
      "[10]\tvalidation_0-aucpr:0.95186\n",
      "[11]\tvalidation_0-aucpr:0.95186\n",
      "[12]\tvalidation_0-aucpr:0.95186\n",
      "[13]\tvalidation_0-aucpr:0.95024\n",
      "[14]\tvalidation_0-aucpr:0.95017\n",
      "[15]\tvalidation_0-aucpr:0.94925\n",
      "[16]\tvalidation_0-aucpr:0.94829\n",
      "[17]\tvalidation_0-aucpr:0.94829\n",
      "[18]\tvalidation_0-aucpr:0.94829\n",
      "[19]\tvalidation_0-aucpr:0.94829\n",
      "1.20 0.833\n",
      "[11:01:03] WARNING: ../src/learner.cc:576: \n",
      "Parameters: { \"learn_rate\", \"n_estimator\" } might not be used.\n",
      "\n",
      "  This could be a false alarm, with some parameters getting used by language bindings but\n",
      "  then being mistakenly passed down to XGBoost core, or some parameter actually being used\n",
      "  but getting flagged wrongly here. Please open an issue if you find any such cases.\n",
      "\n",
      "\n",
      "[0]\tvalidation_0-aucpr:0.86626\n",
      "[1]\tvalidation_0-aucpr:0.88989\n",
      "[2]\tvalidation_0-aucpr:0.90980\n",
      "[3]\tvalidation_0-aucpr:0.91227\n",
      "[4]\tvalidation_0-aucpr:0.92598\n",
      "[5]\tvalidation_0-aucpr:0.92988\n",
      "[6]\tvalidation_0-aucpr:0.92617\n",
      "[7]\tvalidation_0-aucpr:0.92694\n",
      "[8]\tvalidation_0-aucpr:0.92535\n",
      "[9]\tvalidation_0-aucpr:0.93166\n",
      "[10]\tvalidation_0-aucpr:0.93166\n",
      "[11]\tvalidation_0-aucpr:0.93166\n",
      "[12]\tvalidation_0-aucpr:0.93166\n",
      "[13]\tvalidation_0-aucpr:0.95425\n",
      "[14]\tvalidation_0-aucpr:0.95507\n",
      "[15]\tvalidation_0-aucpr:0.95308\n",
      "[16]\tvalidation_0-aucpr:0.95308\n",
      "[17]\tvalidation_0-aucpr:0.95308\n",
      "[18]\tvalidation_0-aucpr:0.95252\n",
      "[19]\tvalidation_0-aucpr:0.95252\n",
      "[20]\tvalidation_0-aucpr:0.95252\n",
      "[21]\tvalidation_0-aucpr:0.95252\n",
      "[22]\tvalidation_0-aucpr:0.95252\n",
      "[23]\tvalidation_0-aucpr:0.95310\n",
      "1.25 0.833\n",
      "[11:01:03] WARNING: ../src/learner.cc:576: \n",
      "Parameters: { \"learn_rate\", \"n_estimator\" } might not be used.\n",
      "\n",
      "  This could be a false alarm, with some parameters getting used by language bindings but\n",
      "  then being mistakenly passed down to XGBoost core, or some parameter actually being used\n",
      "  but getting flagged wrongly here. Please open an issue if you find any such cases.\n",
      "\n",
      "\n",
      "[0]\tvalidation_0-aucpr:0.86626\n",
      "[1]\tvalidation_0-aucpr:0.88989\n",
      "[2]\tvalidation_0-aucpr:0.90980\n",
      "[3]\tvalidation_0-aucpr:0.91227\n",
      "[4]\tvalidation_0-aucpr:0.92598\n"
     ]
    },
    {
     "name": "stderr",
     "output_type": "stream",
     "text": [
      "/Users/mehrdad/opt/anaconda3/lib/python3.9/site-packages/xgboost/sklearn.py:1224: UserWarning: The use of label encoder in XGBClassifier is deprecated and will be removed in a future release. To remove this warning, do the following: 1) Pass option use_label_encoder=False when constructing XGBClassifier object; and 2) Encode your labels (y) as integers starting with 0, i.e. 0, 1, 2, ..., [num_class - 1].\n",
      "  warnings.warn(label_encoder_deprecation_msg, UserWarning)\n",
      "/Users/mehrdad/opt/anaconda3/lib/python3.9/site-packages/xgboost/sklearn.py:1224: UserWarning: The use of label encoder in XGBClassifier is deprecated and will be removed in a future release. To remove this warning, do the following: 1) Pass option use_label_encoder=False when constructing XGBClassifier object; and 2) Encode your labels (y) as integers starting with 0, i.e. 0, 1, 2, ..., [num_class - 1].\n",
      "  warnings.warn(label_encoder_deprecation_msg, UserWarning)\n",
      "/Users/mehrdad/opt/anaconda3/lib/python3.9/site-packages/xgboost/sklearn.py:1224: UserWarning: The use of label encoder in XGBClassifier is deprecated and will be removed in a future release. To remove this warning, do the following: 1) Pass option use_label_encoder=False when constructing XGBClassifier object; and 2) Encode your labels (y) as integers starting with 0, i.e. 0, 1, 2, ..., [num_class - 1].\n",
      "  warnings.warn(label_encoder_deprecation_msg, UserWarning)\n",
      "/Users/mehrdad/opt/anaconda3/lib/python3.9/site-packages/xgboost/sklearn.py:1224: UserWarning: The use of label encoder in XGBClassifier is deprecated and will be removed in a future release. To remove this warning, do the following: 1) Pass option use_label_encoder=False when constructing XGBClassifier object; and 2) Encode your labels (y) as integers starting with 0, i.e. 0, 1, 2, ..., [num_class - 1].\n",
      "  warnings.warn(label_encoder_deprecation_msg, UserWarning)\n"
     ]
    },
    {
     "name": "stdout",
     "output_type": "stream",
     "text": [
      "[5]\tvalidation_0-aucpr:0.92988\n",
      "[6]\tvalidation_0-aucpr:0.92617\n",
      "[7]\tvalidation_0-aucpr:0.92694\n",
      "[8]\tvalidation_0-aucpr:0.92715\n",
      "[9]\tvalidation_0-aucpr:0.93033\n",
      "[10]\tvalidation_0-aucpr:0.95323\n",
      "[11]\tvalidation_0-aucpr:0.95323\n",
      "[12]\tvalidation_0-aucpr:0.95236\n",
      "[13]\tvalidation_0-aucpr:0.95236\n",
      "[14]\tvalidation_0-aucpr:0.95242\n",
      "[15]\tvalidation_0-aucpr:0.95242\n",
      "[16]\tvalidation_0-aucpr:0.95242\n",
      "[17]\tvalidation_0-aucpr:0.95242\n",
      "[18]\tvalidation_0-aucpr:0.95242\n",
      "[19]\tvalidation_0-aucpr:0.95242\n",
      "1.30 0.833\n",
      "[11:01:03] WARNING: ../src/learner.cc:576: \n",
      "Parameters: { \"learn_rate\", \"n_estimator\" } might not be used.\n",
      "\n",
      "  This could be a false alarm, with some parameters getting used by language bindings but\n",
      "  then being mistakenly passed down to XGBoost core, or some parameter actually being used\n",
      "  but getting flagged wrongly here. Please open an issue if you find any such cases.\n",
      "\n",
      "\n",
      "[0]\tvalidation_0-aucpr:0.86626\n",
      "[1]\tvalidation_0-aucpr:0.88989\n",
      "[2]\tvalidation_0-aucpr:0.90980\n",
      "[3]\tvalidation_0-aucpr:0.91227\n",
      "[4]\tvalidation_0-aucpr:0.92598\n",
      "[5]\tvalidation_0-aucpr:0.92988\n",
      "[6]\tvalidation_0-aucpr:0.92617\n",
      "[7]\tvalidation_0-aucpr:0.92694\n",
      "[8]\tvalidation_0-aucpr:0.92715\n",
      "[9]\tvalidation_0-aucpr:0.93033\n",
      "[10]\tvalidation_0-aucpr:0.95323\n",
      "[11]\tvalidation_0-aucpr:0.95323\n",
      "[12]\tvalidation_0-aucpr:0.95236\n",
      "[13]\tvalidation_0-aucpr:0.95236\n",
      "[14]\tvalidation_0-aucpr:0.95242\n",
      "[15]\tvalidation_0-aucpr:0.95242\n",
      "[16]\tvalidation_0-aucpr:0.95242\n",
      "[17]\tvalidation_0-aucpr:0.95242\n",
      "[18]\tvalidation_0-aucpr:0.95242\n",
      "[19]\tvalidation_0-aucpr:0.95242\n",
      "1.35 0.833\n",
      "[11:01:03] WARNING: ../src/learner.cc:576: \n",
      "Parameters: { \"learn_rate\", \"n_estimator\" } might not be used.\n",
      "\n",
      "  This could be a false alarm, with some parameters getting used by language bindings but\n",
      "  then being mistakenly passed down to XGBoost core, or some parameter actually being used\n",
      "  but getting flagged wrongly here. Please open an issue if you find any such cases.\n",
      "\n",
      "\n",
      "[0]\tvalidation_0-aucpr:0.86626\n",
      "[1]\tvalidation_0-aucpr:0.88989\n",
      "[2]\tvalidation_0-aucpr:0.91201\n",
      "[3]\tvalidation_0-aucpr:0.91360\n",
      "[4]\tvalidation_0-aucpr:0.92959\n",
      "[5]\tvalidation_0-aucpr:0.93322\n",
      "[6]\tvalidation_0-aucpr:0.92756\n",
      "[7]\tvalidation_0-aucpr:0.95133\n",
      "[8]\tvalidation_0-aucpr:0.95328\n",
      "[9]\tvalidation_0-aucpr:0.95377\n",
      "[10]\tvalidation_0-aucpr:0.95424\n",
      "[11]\tvalidation_0-aucpr:0.95424\n",
      "[12]\tvalidation_0-aucpr:0.95365\n",
      "[13]\tvalidation_0-aucpr:0.94983\n",
      "[14]\tvalidation_0-aucpr:0.95107\n",
      "[15]\tvalidation_0-aucpr:0.95107\n",
      "[16]\tvalidation_0-aucpr:0.95107\n",
      "[17]\tvalidation_0-aucpr:0.95107\n",
      "[18]\tvalidation_0-aucpr:0.95163\n",
      "[19]\tvalidation_0-aucpr:0.95163\n",
      "[20]\tvalidation_0-aucpr:0.95163\n",
      "1.40 0.833\n",
      "[11:01:03] WARNING: ../src/learner.cc:576: \n",
      "Parameters: { \"learn_rate\", \"n_estimator\" } might not be used.\n",
      "\n",
      "  This could be a false alarm, with some parameters getting used by language bindings but\n",
      "  then being mistakenly passed down to XGBoost core, or some parameter actually being used\n",
      "  but getting flagged wrongly here. Please open an issue if you find any such cases.\n",
      "\n",
      "\n",
      "[0]\tvalidation_0-aucpr:0.86626\n",
      "[1]\tvalidation_0-aucpr:0.88989\n",
      "[2]\tvalidation_0-aucpr:0.91201\n",
      "[3]\tvalidation_0-aucpr:0.91360\n",
      "[4]\tvalidation_0-aucpr:0.91190\n",
      "[5]\tvalidation_0-aucpr:0.91454\n",
      "[6]\tvalidation_0-aucpr:0.90941\n",
      "[7]\tvalidation_0-aucpr:0.91034\n",
      "[8]\tvalidation_0-aucpr:0.92909\n",
      "[9]\tvalidation_0-aucpr:0.92742\n",
      "[10]\tvalidation_0-aucpr:0.92742\n",
      "[11]\tvalidation_0-aucpr:0.92742\n",
      "[12]\tvalidation_0-aucpr:0.92742\n",
      "[13]\tvalidation_0-aucpr:0.95162\n",
      "[14]\tvalidation_0-aucpr:0.95252\n",
      "[15]\tvalidation_0-aucpr:0.95396\n",
      "[16]\tvalidation_0-aucpr:0.95159\n",
      "[17]\tvalidation_0-aucpr:0.95159\n",
      "[18]\tvalidation_0-aucpr:0.95266\n",
      "[19]\tvalidation_0-aucpr:0.95266\n",
      "[20]\tvalidation_0-aucpr:0.95266\n",
      "[21]\tvalidation_0-aucpr:0.95266\n",
      "[22]\tvalidation_0-aucpr:0.95266\n",
      "[23]\tvalidation_0-aucpr:0.95359\n",
      "[24]\tvalidation_0-aucpr:0.95118\n",
      "[25]\tvalidation_0-aucpr:0.95118\n",
      "1.45 0.833\n",
      "[11:01:03] WARNING: ../src/learner.cc:576: \n",
      "Parameters: { \"learn_rate\", \"n_estimator\" } might not be used.\n",
      "\n",
      "  This could be a false alarm, with some parameters getting used by language bindings but\n",
      "  then being mistakenly passed down to XGBoost core, or some parameter actually being used\n",
      "  but getting flagged wrongly here. Please open an issue if you find any such cases.\n",
      "\n",
      "\n",
      "[0]\tvalidation_0-aucpr:0.86626\n",
      "[1]\tvalidation_0-aucpr:0.89075\n",
      "[2]\tvalidation_0-aucpr:0.91299\n"
     ]
    },
    {
     "name": "stderr",
     "output_type": "stream",
     "text": [
      "/Users/mehrdad/opt/anaconda3/lib/python3.9/site-packages/xgboost/sklearn.py:1224: UserWarning: The use of label encoder in XGBClassifier is deprecated and will be removed in a future release. To remove this warning, do the following: 1) Pass option use_label_encoder=False when constructing XGBClassifier object; and 2) Encode your labels (y) as integers starting with 0, i.e. 0, 1, 2, ..., [num_class - 1].\n",
      "  warnings.warn(label_encoder_deprecation_msg, UserWarning)\n",
      "/Users/mehrdad/opt/anaconda3/lib/python3.9/site-packages/xgboost/sklearn.py:1224: UserWarning: The use of label encoder in XGBClassifier is deprecated and will be removed in a future release. To remove this warning, do the following: 1) Pass option use_label_encoder=False when constructing XGBClassifier object; and 2) Encode your labels (y) as integers starting with 0, i.e. 0, 1, 2, ..., [num_class - 1].\n",
      "  warnings.warn(label_encoder_deprecation_msg, UserWarning)\n",
      "/Users/mehrdad/opt/anaconda3/lib/python3.9/site-packages/xgboost/sklearn.py:1224: UserWarning: The use of label encoder in XGBClassifier is deprecated and will be removed in a future release. To remove this warning, do the following: 1) Pass option use_label_encoder=False when constructing XGBClassifier object; and 2) Encode your labels (y) as integers starting with 0, i.e. 0, 1, 2, ..., [num_class - 1].\n",
      "  warnings.warn(label_encoder_deprecation_msg, UserWarning)\n",
      "/Users/mehrdad/opt/anaconda3/lib/python3.9/site-packages/xgboost/sklearn.py:1224: UserWarning: The use of label encoder in XGBClassifier is deprecated and will be removed in a future release. To remove this warning, do the following: 1) Pass option use_label_encoder=False when constructing XGBClassifier object; and 2) Encode your labels (y) as integers starting with 0, i.e. 0, 1, 2, ..., [num_class - 1].\n",
      "  warnings.warn(label_encoder_deprecation_msg, UserWarning)\n"
     ]
    },
    {
     "name": "stdout",
     "output_type": "stream",
     "text": [
      "[3]\tvalidation_0-aucpr:0.91360\n",
      "[4]\tvalidation_0-aucpr:0.92891\n",
      "[5]\tvalidation_0-aucpr:0.93250\n",
      "[6]\tvalidation_0-aucpr:0.92756\n",
      "[7]\tvalidation_0-aucpr:0.92702\n",
      "[8]\tvalidation_0-aucpr:0.92702\n",
      "[9]\tvalidation_0-aucpr:0.92804\n",
      "[10]\tvalidation_0-aucpr:0.95446\n",
      "[11]\tvalidation_0-aucpr:0.95298\n",
      "[12]\tvalidation_0-aucpr:0.95298\n",
      "[13]\tvalidation_0-aucpr:0.95298\n",
      "[14]\tvalidation_0-aucpr:0.95426\n",
      "[15]\tvalidation_0-aucpr:0.95150\n",
      "[16]\tvalidation_0-aucpr:0.95267\n",
      "[17]\tvalidation_0-aucpr:0.95267\n",
      "[18]\tvalidation_0-aucpr:0.95469\n",
      "[19]\tvalidation_0-aucpr:0.95469\n",
      "[20]\tvalidation_0-aucpr:0.95469\n",
      "[21]\tvalidation_0-aucpr:0.95469\n",
      "[22]\tvalidation_0-aucpr:0.95469\n",
      "[23]\tvalidation_0-aucpr:0.95230\n",
      "[24]\tvalidation_0-aucpr:0.95230\n",
      "[25]\tvalidation_0-aucpr:0.95230\n",
      "[26]\tvalidation_0-aucpr:0.95230\n",
      "[27]\tvalidation_0-aucpr:0.95230\n",
      "[28]\tvalidation_0-aucpr:0.95392\n",
      "1.50 0.833\n",
      "[11:01:03] WARNING: ../src/learner.cc:576: \n",
      "Parameters: { \"learn_rate\", \"n_estimator\" } might not be used.\n",
      "\n",
      "  This could be a false alarm, with some parameters getting used by language bindings but\n",
      "  then being mistakenly passed down to XGBoost core, or some parameter actually being used\n",
      "  but getting flagged wrongly here. Please open an issue if you find any such cases.\n",
      "\n",
      "\n",
      "[0]\tvalidation_0-aucpr:0.86626\n",
      "[1]\tvalidation_0-aucpr:0.89075\n",
      "[2]\tvalidation_0-aucpr:0.91299\n",
      "[3]\tvalidation_0-aucpr:0.91360\n",
      "[4]\tvalidation_0-aucpr:0.92891\n",
      "[5]\tvalidation_0-aucpr:0.93250\n",
      "[6]\tvalidation_0-aucpr:0.92756\n",
      "[7]\tvalidation_0-aucpr:0.92702\n",
      "[8]\tvalidation_0-aucpr:0.92702\n",
      "[9]\tvalidation_0-aucpr:0.92804\n",
      "[10]\tvalidation_0-aucpr:0.95446\n",
      "[11]\tvalidation_0-aucpr:0.95298\n",
      "[12]\tvalidation_0-aucpr:0.95298\n",
      "[13]\tvalidation_0-aucpr:0.95298\n",
      "[14]\tvalidation_0-aucpr:0.95426\n",
      "[15]\tvalidation_0-aucpr:0.95150\n",
      "[16]\tvalidation_0-aucpr:0.95267\n",
      "[17]\tvalidation_0-aucpr:0.95267\n",
      "[18]\tvalidation_0-aucpr:0.95469\n",
      "[19]\tvalidation_0-aucpr:0.95469\n",
      "[20]\tvalidation_0-aucpr:0.95469\n",
      "[21]\tvalidation_0-aucpr:0.95469\n",
      "[22]\tvalidation_0-aucpr:0.95469\n",
      "[23]\tvalidation_0-aucpr:0.95230\n",
      "[24]\tvalidation_0-aucpr:0.95230\n",
      "[25]\tvalidation_0-aucpr:0.95230\n",
      "[26]\tvalidation_0-aucpr:0.95230\n",
      "[27]\tvalidation_0-aucpr:0.95230\n",
      "[28]\tvalidation_0-aucpr:0.95392\n",
      "1.55 0.810\n",
      "[11:01:03] WARNING: ../src/learner.cc:576: \n",
      "Parameters: { \"learn_rate\", \"n_estimator\" } might not be used.\n",
      "\n",
      "  This could be a false alarm, with some parameters getting used by language bindings but\n",
      "  then being mistakenly passed down to XGBoost core, or some parameter actually being used\n",
      "  but getting flagged wrongly here. Please open an issue if you find any such cases.\n",
      "\n",
      "\n",
      "[0]\tvalidation_0-aucpr:0.86626\n",
      "[1]\tvalidation_0-aucpr:0.89075\n",
      "[2]\tvalidation_0-aucpr:0.91299\n",
      "[3]\tvalidation_0-aucpr:0.91360\n",
      "[4]\tvalidation_0-aucpr:0.92891\n",
      "[5]\tvalidation_0-aucpr:0.93250\n",
      "[6]\tvalidation_0-aucpr:0.92756\n",
      "[7]\tvalidation_0-aucpr:0.92702\n",
      "[8]\tvalidation_0-aucpr:0.92702\n",
      "[9]\tvalidation_0-aucpr:0.92804\n",
      "[10]\tvalidation_0-aucpr:0.95446\n",
      "[11]\tvalidation_0-aucpr:0.95446\n",
      "[12]\tvalidation_0-aucpr:0.95387\n",
      "[13]\tvalidation_0-aucpr:0.95143\n",
      "[14]\tvalidation_0-aucpr:0.95267\n",
      "[15]\tvalidation_0-aucpr:0.95267\n",
      "[16]\tvalidation_0-aucpr:0.95082\n",
      "[17]\tvalidation_0-aucpr:0.95082\n",
      "[18]\tvalidation_0-aucpr:0.95216\n",
      "[19]\tvalidation_0-aucpr:0.95216\n",
      "1.60 0.833\n",
      "[11:01:03] WARNING: ../src/learner.cc:576: \n",
      "Parameters: { \"learn_rate\", \"n_estimator\" } might not be used.\n",
      "\n",
      "  This could be a false alarm, with some parameters getting used by language bindings but\n",
      "  then being mistakenly passed down to XGBoost core, or some parameter actually being used\n",
      "  but getting flagged wrongly here. Please open an issue if you find any such cases.\n",
      "\n",
      "\n",
      "[0]\tvalidation_0-aucpr:0.86626\n",
      "[1]\tvalidation_0-aucpr:0.89075\n",
      "[2]\tvalidation_0-aucpr:0.91299\n",
      "[3]\tvalidation_0-aucpr:0.91360\n",
      "[4]\tvalidation_0-aucpr:0.91435\n",
      "[5]\tvalidation_0-aucpr:0.91580\n",
      "[6]\tvalidation_0-aucpr:0.91179\n",
      "[7]\tvalidation_0-aucpr:0.91272\n",
      "[8]\tvalidation_0-aucpr:0.93068\n",
      "[9]\tvalidation_0-aucpr:0.92909\n",
      "[10]\tvalidation_0-aucpr:0.95200\n",
      "[11]\tvalidation_0-aucpr:0.95200\n",
      "[12]\tvalidation_0-aucpr:0.95246\n",
      "[13]\tvalidation_0-aucpr:0.94918\n",
      "[14]\tvalidation_0-aucpr:0.95046\n",
      "[15]\tvalidation_0-aucpr:0.94843\n",
      "[16]\tvalidation_0-aucpr:0.94884\n",
      "[17]\tvalidation_0-aucpr:0.94884\n",
      "[18]\tvalidation_0-aucpr:0.94950\n",
      "[19]\tvalidation_0-aucpr:0.94950\n"
     ]
    },
    {
     "name": "stderr",
     "output_type": "stream",
     "text": [
      "/Users/mehrdad/opt/anaconda3/lib/python3.9/site-packages/xgboost/sklearn.py:1224: UserWarning: The use of label encoder in XGBClassifier is deprecated and will be removed in a future release. To remove this warning, do the following: 1) Pass option use_label_encoder=False when constructing XGBClassifier object; and 2) Encode your labels (y) as integers starting with 0, i.e. 0, 1, 2, ..., [num_class - 1].\n",
      "  warnings.warn(label_encoder_deprecation_msg, UserWarning)\n",
      "/Users/mehrdad/opt/anaconda3/lib/python3.9/site-packages/xgboost/sklearn.py:1224: UserWarning: The use of label encoder in XGBClassifier is deprecated and will be removed in a future release. To remove this warning, do the following: 1) Pass option use_label_encoder=False when constructing XGBClassifier object; and 2) Encode your labels (y) as integers starting with 0, i.e. 0, 1, 2, ..., [num_class - 1].\n",
      "  warnings.warn(label_encoder_deprecation_msg, UserWarning)\n",
      "/Users/mehrdad/opt/anaconda3/lib/python3.9/site-packages/xgboost/sklearn.py:1224: UserWarning: The use of label encoder in XGBClassifier is deprecated and will be removed in a future release. To remove this warning, do the following: 1) Pass option use_label_encoder=False when constructing XGBClassifier object; and 2) Encode your labels (y) as integers starting with 0, i.e. 0, 1, 2, ..., [num_class - 1].\n",
      "  warnings.warn(label_encoder_deprecation_msg, UserWarning)\n"
     ]
    },
    {
     "name": "stdout",
     "output_type": "stream",
     "text": [
      "[20]\tvalidation_0-aucpr:0.94950\n",
      "[21]\tvalidation_0-aucpr:0.94950\n",
      "1.65 0.810\n",
      "[11:01:03] WARNING: ../src/learner.cc:576: \n",
      "Parameters: { \"learn_rate\", \"n_estimator\" } might not be used.\n",
      "\n",
      "  This could be a false alarm, with some parameters getting used by language bindings but\n",
      "  then being mistakenly passed down to XGBoost core, or some parameter actually being used\n",
      "  but getting flagged wrongly here. Please open an issue if you find any such cases.\n",
      "\n",
      "\n",
      "[0]\tvalidation_0-aucpr:0.86626\n",
      "[1]\tvalidation_0-aucpr:0.89075\n",
      "[2]\tvalidation_0-aucpr:0.91299\n",
      "[3]\tvalidation_0-aucpr:0.91360\n",
      "[4]\tvalidation_0-aucpr:0.91435\n",
      "[5]\tvalidation_0-aucpr:0.91580\n",
      "[6]\tvalidation_0-aucpr:0.91179\n",
      "[7]\tvalidation_0-aucpr:0.91272\n",
      "[8]\tvalidation_0-aucpr:0.93068\n",
      "[9]\tvalidation_0-aucpr:0.92909\n",
      "[10]\tvalidation_0-aucpr:0.95200\n",
      "[11]\tvalidation_0-aucpr:0.95200\n",
      "[12]\tvalidation_0-aucpr:0.95246\n",
      "[13]\tvalidation_0-aucpr:0.94918\n",
      "[14]\tvalidation_0-aucpr:0.95046\n",
      "[15]\tvalidation_0-aucpr:0.94843\n",
      "[16]\tvalidation_0-aucpr:0.94884\n",
      "[17]\tvalidation_0-aucpr:0.94884\n",
      "[18]\tvalidation_0-aucpr:0.94950\n",
      "[19]\tvalidation_0-aucpr:0.94950\n",
      "[20]\tvalidation_0-aucpr:0.94950\n",
      "[21]\tvalidation_0-aucpr:0.94950\n",
      "[22]\tvalidation_0-aucpr:0.94950\n",
      "1.70 0.810\n",
      "[11:01:03] WARNING: ../src/learner.cc:576: \n",
      "Parameters: { \"learn_rate\", \"n_estimator\" } might not be used.\n",
      "\n",
      "  This could be a false alarm, with some parameters getting used by language bindings but\n",
      "  then being mistakenly passed down to XGBoost core, or some parameter actually being used\n",
      "  but getting flagged wrongly here. Please open an issue if you find any such cases.\n",
      "\n",
      "\n",
      "[0]\tvalidation_0-aucpr:0.86626\n",
      "[1]\tvalidation_0-aucpr:0.89075\n",
      "[2]\tvalidation_0-aucpr:0.91299\n",
      "[3]\tvalidation_0-aucpr:0.91360\n",
      "[4]\tvalidation_0-aucpr:0.91435\n",
      "[5]\tvalidation_0-aucpr:0.91580\n",
      "[6]\tvalidation_0-aucpr:0.91179\n",
      "[7]\tvalidation_0-aucpr:0.91272\n",
      "[8]\tvalidation_0-aucpr:0.93068\n",
      "[9]\tvalidation_0-aucpr:0.93039\n",
      "[10]\tvalidation_0-aucpr:0.87970\n",
      "[11]\tvalidation_0-aucpr:0.87796\n",
      "[12]\tvalidation_0-aucpr:0.87717\n",
      "[13]\tvalidation_0-aucpr:0.87732\n",
      "[14]\tvalidation_0-aucpr:0.87856\n",
      "[15]\tvalidation_0-aucpr:0.87856\n",
      "[16]\tvalidation_0-aucpr:0.87856\n",
      "[17]\tvalidation_0-aucpr:0.87856\n",
      "1.75 0.833\n",
      "[11:01:03] WARNING: ../src/learner.cc:576: \n",
      "Parameters: { \"learn_rate\", \"n_estimator\" } might not be used.\n",
      "\n",
      "  This could be a false alarm, with some parameters getting used by language bindings but\n",
      "  then being mistakenly passed down to XGBoost core, or some parameter actually being used\n",
      "  but getting flagged wrongly here. Please open an issue if you find any such cases.\n",
      "\n",
      "\n",
      "[0]\tvalidation_0-aucpr:0.86626\n",
      "[1]\tvalidation_0-aucpr:0.89238\n",
      "[2]\tvalidation_0-aucpr:0.91299\n",
      "[3]\tvalidation_0-aucpr:0.91360\n",
      "[4]\tvalidation_0-aucpr:0.91435\n",
      "[5]\tvalidation_0-aucpr:0.91580\n",
      "[6]\tvalidation_0-aucpr:0.91179\n",
      "[7]\tvalidation_0-aucpr:0.91272\n",
      "[8]\tvalidation_0-aucpr:0.93068\n",
      "[9]\tvalidation_0-aucpr:0.93039\n",
      "[10]\tvalidation_0-aucpr:0.87970\n",
      "[11]\tvalidation_0-aucpr:0.87796\n",
      "[12]\tvalidation_0-aucpr:0.87717\n",
      "[13]\tvalidation_0-aucpr:0.87732\n",
      "[14]\tvalidation_0-aucpr:0.87795\n",
      "[15]\tvalidation_0-aucpr:0.87795\n",
      "[16]\tvalidation_0-aucpr:0.87795\n",
      "[17]\tvalidation_0-aucpr:0.87795\n",
      "[18]\tvalidation_0-aucpr:0.87783\n",
      "1.80 0.833\n",
      "[11:01:03] WARNING: ../src/learner.cc:576: \n",
      "Parameters: { \"learn_rate\", \"n_estimator\" } might not be used.\n",
      "\n",
      "  This could be a false alarm, with some parameters getting used by language bindings but\n",
      "  then being mistakenly passed down to XGBoost core, or some parameter actually being used\n",
      "  but getting flagged wrongly here. Please open an issue if you find any such cases.\n",
      "\n",
      "\n",
      "[0]\tvalidation_0-aucpr:0.86626\n",
      "[1]\tvalidation_0-aucpr:0.89238\n",
      "[2]\tvalidation_0-aucpr:0.91299\n",
      "[3]\tvalidation_0-aucpr:0.91360\n",
      "[4]\tvalidation_0-aucpr:0.91435\n",
      "[5]\tvalidation_0-aucpr:0.91580\n",
      "[6]\tvalidation_0-aucpr:0.91179\n",
      "[7]\tvalidation_0-aucpr:0.92716\n",
      "[8]\tvalidation_0-aucpr:0.95367\n",
      "[9]\tvalidation_0-aucpr:0.95676\n"
     ]
    },
    {
     "name": "stderr",
     "output_type": "stream",
     "text": [
      "/Users/mehrdad/opt/anaconda3/lib/python3.9/site-packages/xgboost/sklearn.py:1224: UserWarning: The use of label encoder in XGBClassifier is deprecated and will be removed in a future release. To remove this warning, do the following: 1) Pass option use_label_encoder=False when constructing XGBClassifier object; and 2) Encode your labels (y) as integers starting with 0, i.e. 0, 1, 2, ..., [num_class - 1].\n",
      "  warnings.warn(label_encoder_deprecation_msg, UserWarning)\n",
      "/Users/mehrdad/opt/anaconda3/lib/python3.9/site-packages/xgboost/sklearn.py:1224: UserWarning: The use of label encoder in XGBClassifier is deprecated and will be removed in a future release. To remove this warning, do the following: 1) Pass option use_label_encoder=False when constructing XGBClassifier object; and 2) Encode your labels (y) as integers starting with 0, i.e. 0, 1, 2, ..., [num_class - 1].\n",
      "  warnings.warn(label_encoder_deprecation_msg, UserWarning)\n",
      "/Users/mehrdad/opt/anaconda3/lib/python3.9/site-packages/xgboost/sklearn.py:1224: UserWarning: The use of label encoder in XGBClassifier is deprecated and will be removed in a future release. To remove this warning, do the following: 1) Pass option use_label_encoder=False when constructing XGBClassifier object; and 2) Encode your labels (y) as integers starting with 0, i.e. 0, 1, 2, ..., [num_class - 1].\n",
      "  warnings.warn(label_encoder_deprecation_msg, UserWarning)\n",
      "/Users/mehrdad/opt/anaconda3/lib/python3.9/site-packages/xgboost/sklearn.py:1224: UserWarning: The use of label encoder in XGBClassifier is deprecated and will be removed in a future release. To remove this warning, do the following: 1) Pass option use_label_encoder=False when constructing XGBClassifier object; and 2) Encode your labels (y) as integers starting with 0, i.e. 0, 1, 2, ..., [num_class - 1].\n",
      "  warnings.warn(label_encoder_deprecation_msg, UserWarning)\n"
     ]
    },
    {
     "name": "stdout",
     "output_type": "stream",
     "text": [
      "[10]\tvalidation_0-aucpr:0.88148\n",
      "[11]\tvalidation_0-aucpr:0.88046\n",
      "[12]\tvalidation_0-aucpr:0.87963\n",
      "[13]\tvalidation_0-aucpr:0.87900\n",
      "[14]\tvalidation_0-aucpr:0.88056\n",
      "[15]\tvalidation_0-aucpr:0.88056\n",
      "[16]\tvalidation_0-aucpr:0.87963\n",
      "[17]\tvalidation_0-aucpr:0.87963\n",
      "[18]\tvalidation_0-aucpr:0.87952\n",
      "1.85 0.810\n",
      "[11:01:03] WARNING: ../src/learner.cc:576: \n",
      "Parameters: { \"learn_rate\", \"n_estimator\" } might not be used.\n",
      "\n",
      "  This could be a false alarm, with some parameters getting used by language bindings but\n",
      "  then being mistakenly passed down to XGBoost core, or some parameter actually being used\n",
      "  but getting flagged wrongly here. Please open an issue if you find any such cases.\n",
      "\n",
      "\n",
      "[0]\tvalidation_0-aucpr:0.86626\n",
      "[1]\tvalidation_0-aucpr:0.89238\n",
      "[2]\tvalidation_0-aucpr:0.91299\n",
      "[3]\tvalidation_0-aucpr:0.91360\n",
      "[4]\tvalidation_0-aucpr:0.91435\n",
      "[5]\tvalidation_0-aucpr:0.91580\n",
      "[6]\tvalidation_0-aucpr:0.90865\n",
      "[7]\tvalidation_0-aucpr:0.90964\n",
      "[8]\tvalidation_0-aucpr:0.92961\n",
      "[9]\tvalidation_0-aucpr:0.93052\n",
      "[10]\tvalidation_0-aucpr:0.87979\n",
      "[11]\tvalidation_0-aucpr:0.88044\n",
      "[12]\tvalidation_0-aucpr:0.87871\n",
      "[13]\tvalidation_0-aucpr:0.87825\n",
      "[14]\tvalidation_0-aucpr:0.87871\n",
      "[15]\tvalidation_0-aucpr:0.87871\n",
      "[16]\tvalidation_0-aucpr:0.87949\n",
      "[17]\tvalidation_0-aucpr:0.87949\n",
      "[18]\tvalidation_0-aucpr:0.87946\n",
      "[19]\tvalidation_0-aucpr:0.87946\n",
      "1.90 0.810\n",
      "[11:01:03] WARNING: ../src/learner.cc:576: \n",
      "Parameters: { \"learn_rate\", \"n_estimator\" } might not be used.\n",
      "\n",
      "  This could be a false alarm, with some parameters getting used by language bindings but\n",
      "  then being mistakenly passed down to XGBoost core, or some parameter actually being used\n",
      "  but getting flagged wrongly here. Please open an issue if you find any such cases.\n",
      "\n",
      "\n",
      "[0]\tvalidation_0-aucpr:0.86626\n",
      "[1]\tvalidation_0-aucpr:0.89238\n",
      "[2]\tvalidation_0-aucpr:0.91299\n",
      "[3]\tvalidation_0-aucpr:0.91360\n",
      "[4]\tvalidation_0-aucpr:0.91435\n",
      "[5]\tvalidation_0-aucpr:0.91580\n",
      "[6]\tvalidation_0-aucpr:0.90865\n",
      "[7]\tvalidation_0-aucpr:0.90964\n",
      "[8]\tvalidation_0-aucpr:0.92724\n",
      "[9]\tvalidation_0-aucpr:0.92826\n",
      "[10]\tvalidation_0-aucpr:0.87443\n",
      "[11]\tvalidation_0-aucpr:0.87443\n",
      "[12]\tvalidation_0-aucpr:0.87377\n",
      "[13]\tvalidation_0-aucpr:0.87446\n",
      "[14]\tvalidation_0-aucpr:0.87650\n",
      "[15]\tvalidation_0-aucpr:0.87650\n",
      "[16]\tvalidation_0-aucpr:0.87877\n",
      "[17]\tvalidation_0-aucpr:0.87877\n",
      "[18]\tvalidation_0-aucpr:0.87877\n",
      "1.95 0.786\n",
      "[11:01:04] WARNING: ../src/learner.cc:576: \n",
      "Parameters: { \"learn_rate\", \"n_estimator\" } might not be used.\n",
      "\n",
      "  This could be a false alarm, with some parameters getting used by language bindings but\n",
      "  then being mistakenly passed down to XGBoost core, or some parameter actually being used\n",
      "  but getting flagged wrongly here. Please open an issue if you find any such cases.\n",
      "\n",
      "\n",
      "[0]\tvalidation_0-aucpr:0.86626\n",
      "[1]\tvalidation_0-aucpr:0.89319\n",
      "[2]\tvalidation_0-aucpr:0.91275\n",
      "[3]\tvalidation_0-aucpr:0.91336\n",
      "[4]\tvalidation_0-aucpr:0.93108\n",
      "[5]\tvalidation_0-aucpr:0.93359\n",
      "[6]\tvalidation_0-aucpr:0.92894\n",
      "[7]\tvalidation_0-aucpr:0.92834\n",
      "[8]\tvalidation_0-aucpr:0.94773\n",
      "[9]\tvalidation_0-aucpr:0.94860\n",
      "[10]\tvalidation_0-aucpr:0.94858\n",
      "[11]\tvalidation_0-aucpr:0.93278\n",
      "[12]\tvalidation_0-aucpr:0.93278\n",
      "[13]\tvalidation_0-aucpr:0.93091\n",
      "[14]\tvalidation_0-aucpr:0.93160\n",
      "[15]\tvalidation_0-aucpr:0.93008\n",
      "[16]\tvalidation_0-aucpr:0.93008\n",
      "[17]\tvalidation_0-aucpr:0.93008\n",
      "[18]\tvalidation_0-aucpr:0.93008\n",
      "[19]\tvalidation_0-aucpr:0.93008\n",
      "2.00 0.833\n",
      "[11:01:04] WARNING: ../src/learner.cc:576: \n",
      "Parameters: { \"learn_rate\", \"n_estimator\" } might not be used.\n",
      "\n",
      "  This could be a false alarm, with some parameters getting used by language bindings but\n",
      "  then being mistakenly passed down to XGBoost core, or some parameter actually being used\n",
      "  but getting flagged wrongly here. Please open an issue if you find any such cases.\n",
      "\n",
      "\n",
      "[0]\tvalidation_0-aucpr:0.86626\n",
      "[1]\tvalidation_0-aucpr:0.89319\n",
      "[2]\tvalidation_0-aucpr:0.91275\n",
      "[3]\tvalidation_0-aucpr:0.91336\n",
      "[4]\tvalidation_0-aucpr:0.93038\n",
      "[5]\tvalidation_0-aucpr:0.93285\n",
      "[6]\tvalidation_0-aucpr:0.92894\n",
      "[7]\tvalidation_0-aucpr:0.92834\n",
      "[8]\tvalidation_0-aucpr:0.94773\n",
      "[9]\tvalidation_0-aucpr:0.94730\n",
      "[10]\tvalidation_0-aucpr:0.94858\n",
      "[11]\tvalidation_0-aucpr:0.93278\n",
      "[12]\tvalidation_0-aucpr:0.93243\n",
      "[13]\tvalidation_0-aucpr:0.93112\n",
      "[14]\tvalidation_0-aucpr:0.93063\n"
     ]
    },
    {
     "name": "stderr",
     "output_type": "stream",
     "text": [
      "/Users/mehrdad/opt/anaconda3/lib/python3.9/site-packages/xgboost/sklearn.py:1224: UserWarning: The use of label encoder in XGBClassifier is deprecated and will be removed in a future release. To remove this warning, do the following: 1) Pass option use_label_encoder=False when constructing XGBClassifier object; and 2) Encode your labels (y) as integers starting with 0, i.e. 0, 1, 2, ..., [num_class - 1].\n",
      "  warnings.warn(label_encoder_deprecation_msg, UserWarning)\n",
      "/Users/mehrdad/opt/anaconda3/lib/python3.9/site-packages/xgboost/sklearn.py:1224: UserWarning: The use of label encoder in XGBClassifier is deprecated and will be removed in a future release. To remove this warning, do the following: 1) Pass option use_label_encoder=False when constructing XGBClassifier object; and 2) Encode your labels (y) as integers starting with 0, i.e. 0, 1, 2, ..., [num_class - 1].\n",
      "  warnings.warn(label_encoder_deprecation_msg, UserWarning)\n",
      "/Users/mehrdad/opt/anaconda3/lib/python3.9/site-packages/xgboost/sklearn.py:1224: UserWarning: The use of label encoder in XGBClassifier is deprecated and will be removed in a future release. To remove this warning, do the following: 1) Pass option use_label_encoder=False when constructing XGBClassifier object; and 2) Encode your labels (y) as integers starting with 0, i.e. 0, 1, 2, ..., [num_class - 1].\n",
      "  warnings.warn(label_encoder_deprecation_msg, UserWarning)\n",
      "/Users/mehrdad/opt/anaconda3/lib/python3.9/site-packages/xgboost/sklearn.py:1224: UserWarning: The use of label encoder in XGBClassifier is deprecated and will be removed in a future release. To remove this warning, do the following: 1) Pass option use_label_encoder=False when constructing XGBClassifier object; and 2) Encode your labels (y) as integers starting with 0, i.e. 0, 1, 2, ..., [num_class - 1].\n",
      "  warnings.warn(label_encoder_deprecation_msg, UserWarning)\n"
     ]
    },
    {
     "name": "stdout",
     "output_type": "stream",
     "text": [
      "[15]\tvalidation_0-aucpr:0.92946\n",
      "[16]\tvalidation_0-aucpr:0.92946\n",
      "[17]\tvalidation_0-aucpr:0.92946\n",
      "[18]\tvalidation_0-aucpr:0.92946\n",
      "[19]\tvalidation_0-aucpr:0.92946\n",
      "2.05 0.833\n",
      "[11:01:04] WARNING: ../src/learner.cc:576: \n",
      "Parameters: { \"learn_rate\", \"n_estimator\" } might not be used.\n",
      "\n",
      "  This could be a false alarm, with some parameters getting used by language bindings but\n",
      "  then being mistakenly passed down to XGBoost core, or some parameter actually being used\n",
      "  but getting flagged wrongly here. Please open an issue if you find any such cases.\n",
      "\n",
      "\n",
      "[0]\tvalidation_0-aucpr:0.86626\n",
      "[1]\tvalidation_0-aucpr:0.89319\n",
      "[2]\tvalidation_0-aucpr:0.91275\n",
      "[3]\tvalidation_0-aucpr:0.91336\n",
      "[4]\tvalidation_0-aucpr:0.93038\n",
      "[5]\tvalidation_0-aucpr:0.93285\n",
      "[6]\tvalidation_0-aucpr:0.92894\n",
      "[7]\tvalidation_0-aucpr:0.92903\n",
      "[8]\tvalidation_0-aucpr:0.92639\n",
      "[9]\tvalidation_0-aucpr:0.91989\n",
      "[10]\tvalidation_0-aucpr:0.87130\n",
      "[11]\tvalidation_0-aucpr:0.87264\n",
      "[12]\tvalidation_0-aucpr:0.87124\n",
      "[13]\tvalidation_0-aucpr:0.87202\n",
      "[14]\tvalidation_0-aucpr:0.87254\n",
      "[15]\tvalidation_0-aucpr:0.87254\n",
      "2.10 0.786\n",
      "[11:01:04] WARNING: ../src/learner.cc:576: \n",
      "Parameters: { \"learn_rate\", \"n_estimator\" } might not be used.\n",
      "\n",
      "  This could be a false alarm, with some parameters getting used by language bindings but\n",
      "  then being mistakenly passed down to XGBoost core, or some parameter actually being used\n",
      "  but getting flagged wrongly here. Please open an issue if you find any such cases.\n",
      "\n",
      "\n",
      "[0]\tvalidation_0-aucpr:0.87955\n",
      "[1]\tvalidation_0-aucpr:0.91618\n",
      "[2]\tvalidation_0-aucpr:0.91095\n",
      "[3]\tvalidation_0-aucpr:0.91486\n",
      "[4]\tvalidation_0-aucpr:0.92737\n",
      "[5]\tvalidation_0-aucpr:0.92720\n",
      "[6]\tvalidation_0-aucpr:0.92375\n",
      "[7]\tvalidation_0-aucpr:0.92605\n",
      "[8]\tvalidation_0-aucpr:0.92427\n",
      "[9]\tvalidation_0-aucpr:0.92216\n",
      "[10]\tvalidation_0-aucpr:0.87064\n",
      "[11]\tvalidation_0-aucpr:0.86903\n",
      "[12]\tvalidation_0-aucpr:0.86903\n",
      "[13]\tvalidation_0-aucpr:0.86722\n",
      "[14]\tvalidation_0-aucpr:0.86752\n",
      "2.15 0.786\n",
      "[11:01:04] WARNING: ../src/learner.cc:576: \n",
      "Parameters: { \"learn_rate\", \"n_estimator\" } might not be used.\n",
      "\n",
      "  This could be a false alarm, with some parameters getting used by language bindings but\n",
      "  then being mistakenly passed down to XGBoost core, or some parameter actually being used\n",
      "  but getting flagged wrongly here. Please open an issue if you find any such cases.\n",
      "\n",
      "\n",
      "[0]\tvalidation_0-aucpr:0.87955\n",
      "[1]\tvalidation_0-aucpr:0.91618\n",
      "[2]\tvalidation_0-aucpr:0.91095\n",
      "[3]\tvalidation_0-aucpr:0.91486\n",
      "[4]\tvalidation_0-aucpr:0.92737\n",
      "[5]\tvalidation_0-aucpr:0.92720\n",
      "[6]\tvalidation_0-aucpr:0.92375\n",
      "[7]\tvalidation_0-aucpr:0.92605\n",
      "[8]\tvalidation_0-aucpr:0.92427\n",
      "[9]\tvalidation_0-aucpr:0.92138\n",
      "[10]\tvalidation_0-aucpr:0.87064\n",
      "[11]\tvalidation_0-aucpr:0.86903\n",
      "[12]\tvalidation_0-aucpr:0.86903\n",
      "[13]\tvalidation_0-aucpr:0.86722\n",
      "[14]\tvalidation_0-aucpr:0.86752\n",
      "2.20 0.762\n",
      "[11:01:04] WARNING: ../src/learner.cc:576: \n",
      "Parameters: { \"learn_rate\", \"n_estimator\" } might not be used.\n",
      "\n",
      "  This could be a false alarm, with some parameters getting used by language bindings but\n",
      "  then being mistakenly passed down to XGBoost core, or some parameter actually being used\n",
      "  but getting flagged wrongly here. Please open an issue if you find any such cases.\n",
      "\n",
      "\n",
      "[0]\tvalidation_0-aucpr:0.87955\n",
      "[1]\tvalidation_0-aucpr:0.91618\n",
      "[2]\tvalidation_0-aucpr:0.91095\n",
      "[3]\tvalidation_0-aucpr:0.91486\n",
      "[4]\tvalidation_0-aucpr:0.92737\n",
      "[5]\tvalidation_0-aucpr:0.92720\n",
      "[6]\tvalidation_0-aucpr:0.92375\n",
      "[7]\tvalidation_0-aucpr:0.92523\n",
      "[8]\tvalidation_0-aucpr:0.92427\n",
      "[9]\tvalidation_0-aucpr:0.92138\n",
      "[10]\tvalidation_0-aucpr:0.87064\n",
      "[11]\tvalidation_0-aucpr:0.86903\n",
      "[12]\tvalidation_0-aucpr:0.86903\n",
      "[13]\tvalidation_0-aucpr:0.86471\n",
      "[14]\tvalidation_0-aucpr:0.86471\n",
      "2.25 0.762\n",
      "[11:01:04] WARNING: ../src/learner.cc:576: \n",
      "Parameters: { \"learn_rate\", \"n_estimator\" } might not be used.\n",
      "\n",
      "  This could be a false alarm, with some parameters getting used by language bindings but\n",
      "  then being mistakenly passed down to XGBoost core, or some parameter actually being used\n",
      "  but getting flagged wrongly here. Please open an issue if you find any such cases.\n",
      "\n",
      "\n",
      "[0]\tvalidation_0-aucpr:0.87435\n",
      "[1]\tvalidation_0-aucpr:0.91482\n",
      "[2]\tvalidation_0-aucpr:0.91072\n",
      "[3]\tvalidation_0-aucpr:0.92416\n",
      "[4]\tvalidation_0-aucpr:0.92411\n",
      "[5]\tvalidation_0-aucpr:0.92532\n",
      "[6]\tvalidation_0-aucpr:0.92180\n",
      "[7]\tvalidation_0-aucpr:0.94497\n",
      "[8]\tvalidation_0-aucpr:0.94493\n",
      "[9]\tvalidation_0-aucpr:0.94673\n",
      "[10]\tvalidation_0-aucpr:0.94131\n",
      "[11]\tvalidation_0-aucpr:0.94063\n",
      "[12]\tvalidation_0-aucpr:0.94063\n",
      "[13]\tvalidation_0-aucpr:0.93873\n",
      "[14]\tvalidation_0-aucpr:0.93779\n"
     ]
    },
    {
     "name": "stderr",
     "output_type": "stream",
     "text": [
      "/Users/mehrdad/opt/anaconda3/lib/python3.9/site-packages/xgboost/sklearn.py:1224: UserWarning: The use of label encoder in XGBClassifier is deprecated and will be removed in a future release. To remove this warning, do the following: 1) Pass option use_label_encoder=False when constructing XGBClassifier object; and 2) Encode your labels (y) as integers starting with 0, i.e. 0, 1, 2, ..., [num_class - 1].\n",
      "  warnings.warn(label_encoder_deprecation_msg, UserWarning)\n",
      "/Users/mehrdad/opt/anaconda3/lib/python3.9/site-packages/xgboost/sklearn.py:1224: UserWarning: The use of label encoder in XGBClassifier is deprecated and will be removed in a future release. To remove this warning, do the following: 1) Pass option use_label_encoder=False when constructing XGBClassifier object; and 2) Encode your labels (y) as integers starting with 0, i.e. 0, 1, 2, ..., [num_class - 1].\n",
      "  warnings.warn(label_encoder_deprecation_msg, UserWarning)\n",
      "/Users/mehrdad/opt/anaconda3/lib/python3.9/site-packages/xgboost/sklearn.py:1224: UserWarning: The use of label encoder in XGBClassifier is deprecated and will be removed in a future release. To remove this warning, do the following: 1) Pass option use_label_encoder=False when constructing XGBClassifier object; and 2) Encode your labels (y) as integers starting with 0, i.e. 0, 1, 2, ..., [num_class - 1].\n",
      "  warnings.warn(label_encoder_deprecation_msg, UserWarning)\n",
      "/Users/mehrdad/opt/anaconda3/lib/python3.9/site-packages/xgboost/sklearn.py:1224: UserWarning: The use of label encoder in XGBClassifier is deprecated and will be removed in a future release. To remove this warning, do the following: 1) Pass option use_label_encoder=False when constructing XGBClassifier object; and 2) Encode your labels (y) as integers starting with 0, i.e. 0, 1, 2, ..., [num_class - 1].\n",
      "  warnings.warn(label_encoder_deprecation_msg, UserWarning)\n",
      "/Users/mehrdad/opt/anaconda3/lib/python3.9/site-packages/xgboost/sklearn.py:1224: UserWarning: The use of label encoder in XGBClassifier is deprecated and will be removed in a future release. To remove this warning, do the following: 1) Pass option use_label_encoder=False when constructing XGBClassifier object; and 2) Encode your labels (y) as integers starting with 0, i.e. 0, 1, 2, ..., [num_class - 1].\n",
      "  warnings.warn(label_encoder_deprecation_msg, UserWarning)\n"
     ]
    },
    {
     "name": "stdout",
     "output_type": "stream",
     "text": [
      "[15]\tvalidation_0-aucpr:0.93779\n",
      "[16]\tvalidation_0-aucpr:0.94048\n",
      "[17]\tvalidation_0-aucpr:0.94048\n",
      "[18]\tvalidation_0-aucpr:0.93907\n",
      "2.30 0.762\n",
      "[11:01:04] WARNING: ../src/learner.cc:576: \n",
      "Parameters: { \"learn_rate\", \"n_estimator\" } might not be used.\n",
      "\n",
      "  This could be a false alarm, with some parameters getting used by language bindings but\n",
      "  then being mistakenly passed down to XGBoost core, or some parameter actually being used\n",
      "  but getting flagged wrongly here. Please open an issue if you find any such cases.\n",
      "\n",
      "\n",
      "[0]\tvalidation_0-aucpr:0.87435\n",
      "[1]\tvalidation_0-aucpr:0.90610\n",
      "[2]\tvalidation_0-aucpr:0.90676\n",
      "[3]\tvalidation_0-aucpr:0.92038\n",
      "[4]\tvalidation_0-aucpr:0.92184\n",
      "[5]\tvalidation_0-aucpr:0.92599\n",
      "[6]\tvalidation_0-aucpr:0.92122\n",
      "[7]\tvalidation_0-aucpr:0.94684\n",
      "[8]\tvalidation_0-aucpr:0.94497\n",
      "[9]\tvalidation_0-aucpr:0.94408\n",
      "[10]\tvalidation_0-aucpr:0.94002\n",
      "[11]\tvalidation_0-aucpr:0.94120\n",
      "[12]\tvalidation_0-aucpr:0.93917\n",
      "[13]\tvalidation_0-aucpr:0.93773\n",
      "[14]\tvalidation_0-aucpr:0.93689\n",
      "[15]\tvalidation_0-aucpr:0.93689\n",
      "[16]\tvalidation_0-aucpr:0.94032\n",
      "2.35 0.762\n",
      "[11:01:04] WARNING: ../src/learner.cc:576: \n",
      "Parameters: { \"learn_rate\", \"n_estimator\" } might not be used.\n",
      "\n",
      "  This could be a false alarm, with some parameters getting used by language bindings but\n",
      "  then being mistakenly passed down to XGBoost core, or some parameter actually being used\n",
      "  but getting flagged wrongly here. Please open an issue if you find any such cases.\n",
      "\n",
      "\n",
      "[0]\tvalidation_0-aucpr:0.87435\n",
      "[1]\tvalidation_0-aucpr:0.90610\n",
      "[2]\tvalidation_0-aucpr:0.90676\n",
      "[3]\tvalidation_0-aucpr:0.91975\n",
      "[4]\tvalidation_0-aucpr:0.92184\n",
      "[5]\tvalidation_0-aucpr:0.92599\n",
      "[6]\tvalidation_0-aucpr:0.92122\n",
      "[7]\tvalidation_0-aucpr:0.94658\n",
      "[8]\tvalidation_0-aucpr:0.94594\n",
      "[9]\tvalidation_0-aucpr:0.95201\n",
      "[10]\tvalidation_0-aucpr:0.94698\n",
      "[11]\tvalidation_0-aucpr:0.94627\n",
      "[12]\tvalidation_0-aucpr:0.94627\n",
      "[13]\tvalidation_0-aucpr:0.94441\n",
      "[14]\tvalidation_0-aucpr:0.94474\n",
      "[15]\tvalidation_0-aucpr:0.94474\n",
      "[16]\tvalidation_0-aucpr:0.94443\n",
      "[17]\tvalidation_0-aucpr:0.94443\n",
      "[18]\tvalidation_0-aucpr:0.94469\n",
      "2.40 0.762\n",
      "[11:01:04] WARNING: ../src/learner.cc:576: \n",
      "Parameters: { \"learn_rate\", \"n_estimator\" } might not be used.\n",
      "\n",
      "  This could be a false alarm, with some parameters getting used by language bindings but\n",
      "  then being mistakenly passed down to XGBoost core, or some parameter actually being used\n",
      "  but getting flagged wrongly here. Please open an issue if you find any such cases.\n",
      "\n",
      "\n",
      "[0]\tvalidation_0-aucpr:0.87435\n",
      "[1]\tvalidation_0-aucpr:0.90610\n",
      "[2]\tvalidation_0-aucpr:0.90676\n",
      "[3]\tvalidation_0-aucpr:0.91975\n",
      "[4]\tvalidation_0-aucpr:0.92184\n",
      "[5]\tvalidation_0-aucpr:0.92599\n",
      "[6]\tvalidation_0-aucpr:0.91974\n",
      "[7]\tvalidation_0-aucpr:0.94658\n",
      "[8]\tvalidation_0-aucpr:0.94473\n",
      "[9]\tvalidation_0-aucpr:0.94925\n",
      "[10]\tvalidation_0-aucpr:0.94639\n",
      "[11]\tvalidation_0-aucpr:0.94698\n",
      "[12]\tvalidation_0-aucpr:0.94495\n",
      "[13]\tvalidation_0-aucpr:0.94378\n",
      "[14]\tvalidation_0-aucpr:0.94203\n",
      "[15]\tvalidation_0-aucpr:0.94203\n",
      "[16]\tvalidation_0-aucpr:0.94452\n",
      "[17]\tvalidation_0-aucpr:0.94452\n",
      "[18]\tvalidation_0-aucpr:0.94452\n",
      "2.45 0.762\n",
      "[11:01:04] WARNING: ../src/learner.cc:576: \n",
      "Parameters: { \"learn_rate\", \"n_estimator\" } might not be used.\n",
      "\n",
      "  This could be a false alarm, with some parameters getting used by language bindings but\n",
      "  then being mistakenly passed down to XGBoost core, or some parameter actually being used\n",
      "  but getting flagged wrongly here. Please open an issue if you find any such cases.\n",
      "\n",
      "\n",
      "[0]\tvalidation_0-aucpr:0.87435\n",
      "[1]\tvalidation_0-aucpr:0.90610\n",
      "[2]\tvalidation_0-aucpr:0.90676\n",
      "[3]\tvalidation_0-aucpr:0.91975\n",
      "[4]\tvalidation_0-aucpr:0.92184\n",
      "[5]\tvalidation_0-aucpr:0.92599\n",
      "[6]\tvalidation_0-aucpr:0.91974\n",
      "[7]\tvalidation_0-aucpr:0.94658\n",
      "[8]\tvalidation_0-aucpr:0.94473\n",
      "[9]\tvalidation_0-aucpr:0.94925\n",
      "[10]\tvalidation_0-aucpr:0.94639\n",
      "[11]\tvalidation_0-aucpr:0.94698\n",
      "[12]\tvalidation_0-aucpr:0.94495\n",
      "[13]\tvalidation_0-aucpr:0.94378\n"
     ]
    },
    {
     "name": "stderr",
     "output_type": "stream",
     "text": [
      "/Users/mehrdad/opt/anaconda3/lib/python3.9/site-packages/xgboost/sklearn.py:1224: UserWarning: The use of label encoder in XGBClassifier is deprecated and will be removed in a future release. To remove this warning, do the following: 1) Pass option use_label_encoder=False when constructing XGBClassifier object; and 2) Encode your labels (y) as integers starting with 0, i.e. 0, 1, 2, ..., [num_class - 1].\n",
      "  warnings.warn(label_encoder_deprecation_msg, UserWarning)\n",
      "/Users/mehrdad/opt/anaconda3/lib/python3.9/site-packages/xgboost/sklearn.py:1224: UserWarning: The use of label encoder in XGBClassifier is deprecated and will be removed in a future release. To remove this warning, do the following: 1) Pass option use_label_encoder=False when constructing XGBClassifier object; and 2) Encode your labels (y) as integers starting with 0, i.e. 0, 1, 2, ..., [num_class - 1].\n",
      "  warnings.warn(label_encoder_deprecation_msg, UserWarning)\n",
      "/Users/mehrdad/opt/anaconda3/lib/python3.9/site-packages/xgboost/sklearn.py:1224: UserWarning: The use of label encoder in XGBClassifier is deprecated and will be removed in a future release. To remove this warning, do the following: 1) Pass option use_label_encoder=False when constructing XGBClassifier object; and 2) Encode your labels (y) as integers starting with 0, i.e. 0, 1, 2, ..., [num_class - 1].\n",
      "  warnings.warn(label_encoder_deprecation_msg, UserWarning)\n",
      "/Users/mehrdad/opt/anaconda3/lib/python3.9/site-packages/xgboost/sklearn.py:1224: UserWarning: The use of label encoder in XGBClassifier is deprecated and will be removed in a future release. To remove this warning, do the following: 1) Pass option use_label_encoder=False when constructing XGBClassifier object; and 2) Encode your labels (y) as integers starting with 0, i.e. 0, 1, 2, ..., [num_class - 1].\n",
      "  warnings.warn(label_encoder_deprecation_msg, UserWarning)\n"
     ]
    },
    {
     "name": "stdout",
     "output_type": "stream",
     "text": [
      "[14]\tvalidation_0-aucpr:0.94203\n",
      "[15]\tvalidation_0-aucpr:0.94203\n",
      "[16]\tvalidation_0-aucpr:0.94452\n",
      "[17]\tvalidation_0-aucpr:0.94452\n",
      "[18]\tvalidation_0-aucpr:0.94452\n",
      "2.50 0.762\n"
     ]
    }
   ],
   "source": [
    "for i in range(0, 50):\n",
    "    a=0.05\n",
    "    a+=i*0.05\n",
    "    final_xgb=xgb.XGBClassifier(objective='binary:logistic',\n",
    "                           n_estimator=871,\n",
    "                           max_depth=7,\n",
    "                           learn_rate=0.02,\n",
    "                           booster='dart',\n",
    "                           gamma=2.24,\n",
    "                           subsample=0.72,\n",
    "                           reg_lambda=1,\n",
    "                           scale_pos_weight=a)\n",
    "    final_xgb.fit(X_train, y_train,\n",
    "            verbose=True,\n",
    "            early_stopping_rounds=10,\n",
    "            eval_metric='aucpr',\n",
    "            eval_set=[(X_test, y_test)])\n",
    "    print('%.2f' % a,\n",
    "         '%.3f' % final_xgb.score(X_final_test[[7916984, 8008885, 8087881]], y_binary_final_test))"
   ]
  },
  {
   "cell_type": "code",
   "execution_count": 36,
   "id": "UBP8uzfleT1q",
   "metadata": {
    "colab": {
     "base_uri": "https://localhost:8080/"
    },
    "id": "UBP8uzfleT1q",
    "outputId": "c15c092a-a028-4564-c155-967b57f90aec"
   },
   "outputs": [
    {
     "name": "stdout",
     "output_type": "stream",
     "text": [
      "[11:08:52] WARNING: ../src/learner.cc:576: \n",
      "Parameters: { \"learn_rate\", \"n_estimator\" } might not be used.\n",
      "\n",
      "  This could be a false alarm, with some parameters getting used by language bindings but\n",
      "  then being mistakenly passed down to XGBoost core, or some parameter actually being used\n",
      "  but getting flagged wrongly here. Please open an issue if you find any such cases.\n",
      "\n",
      "\n",
      "[0]\tvalidation_0-aucpr:0.86626\n",
      "[1]\tvalidation_0-aucpr:0.89075\n",
      "[2]\tvalidation_0-aucpr:0.91299\n",
      "[3]\tvalidation_0-aucpr:0.91360\n",
      "[4]\tvalidation_0-aucpr:0.92891\n",
      "[5]\tvalidation_0-aucpr:0.93250\n",
      "[6]\tvalidation_0-aucpr:0.92756\n",
      "[7]\tvalidation_0-aucpr:0.92702\n",
      "[8]\tvalidation_0-aucpr:0.92702\n",
      "[9]\tvalidation_0-aucpr:0.92804\n",
      "[10]\tvalidation_0-aucpr:0.95446\n",
      "[11]\tvalidation_0-aucpr:0.95298\n",
      "[12]\tvalidation_0-aucpr:0.95298\n",
      "[13]\tvalidation_0-aucpr:0.95298\n",
      "[14]\tvalidation_0-aucpr:0.95426\n",
      "[15]\tvalidation_0-aucpr:0.95150\n",
      "[16]\tvalidation_0-aucpr:0.95267\n",
      "[17]\tvalidation_0-aucpr:0.95267\n",
      "[18]\tvalidation_0-aucpr:0.95469\n",
      "[19]\tvalidation_0-aucpr:0.95469\n",
      "[20]\tvalidation_0-aucpr:0.95469\n",
      "[21]\tvalidation_0-aucpr:0.95469\n",
      "[22]\tvalidation_0-aucpr:0.95469\n",
      "[23]\tvalidation_0-aucpr:0.95230\n",
      "[24]\tvalidation_0-aucpr:0.95230\n",
      "[25]\tvalidation_0-aucpr:0.95230\n",
      "[26]\tvalidation_0-aucpr:0.95230\n",
      "[27]\tvalidation_0-aucpr:0.95230\n",
      "[28]\tvalidation_0-aucpr:0.95392\n"
     ]
    },
    {
     "name": "stderr",
     "output_type": "stream",
     "text": [
      "/Users/mehrdad/opt/anaconda3/lib/python3.9/site-packages/xgboost/sklearn.py:1224: UserWarning: The use of label encoder in XGBClassifier is deprecated and will be removed in a future release. To remove this warning, do the following: 1) Pass option use_label_encoder=False when constructing XGBClassifier object; and 2) Encode your labels (y) as integers starting with 0, i.e. 0, 1, 2, ..., [num_class - 1].\n",
      "  warnings.warn(label_encoder_deprecation_msg, UserWarning)\n"
     ]
    },
    {
     "data": {
      "text/plain": [
       "XGBClassifier(base_score=0.5, booster='dart', colsample_bylevel=1,\n",
       "              colsample_bynode=1, colsample_bytree=1, enable_categorical=False,\n",
       "              gamma=2.24, gpu_id=-1, importance_type=None,\n",
       "              interaction_constraints='', learn_rate=0.02,\n",
       "              learning_rate=0.300000012, max_delta_step=0, max_depth=7,\n",
       "              min_child_weight=1, missing=nan, monotone_constraints='()',\n",
       "              n_estimator=871, n_estimators=100, n_jobs=8, num_parallel_tree=1,\n",
       "              predictor='auto', random_state=0, reg_alpha=0, reg_lambda=1,\n",
       "              scale_pos_weight=1.5, subsample=0.72, tree_method='exact',\n",
       "              validate_parameters=1, verbosity=None)"
      ]
     },
     "execution_count": 36,
     "metadata": {},
     "output_type": "execute_result"
    }
   ],
   "source": [
    "final_xgb=xgb.XGBClassifier(objective='binary:logistic',\n",
    "                           n_estimator=871,\n",
    "                           max_depth=7,\n",
    "                           learn_rate=0.02,\n",
    "                           booster='dart',\n",
    "                           gamma=2.24,\n",
    "                           subsample=0.72,\n",
    "                           reg_lambda=1,\n",
    "                           scale_pos_weight=1.5)\n",
    "\n",
    "final_xgb.fit(X_train, y_train,\n",
    "            verbose=True,\n",
    "            early_stopping_rounds=10,\n",
    "            eval_metric='aucpr',\n",
    "            eval_set=[(X_test, y_test)])"
   ]
  },
  {
   "cell_type": "code",
   "execution_count": 37,
   "id": "u8nkoEldfpi1",
   "metadata": {
    "colab": {
     "base_uri": "https://localhost:8080/",
     "height": 353
    },
    "id": "u8nkoEldfpi1",
    "outputId": "90b28cab-6a7b-4d40-9e4f-aa0e2a134204"
   },
   "outputs": [
    {
     "name": "stderr",
     "output_type": "stream",
     "text": [
      "/Users/mehrdad/opt/anaconda3/lib/python3.9/site-packages/sklearn/utils/deprecation.py:87: FutureWarning: Function plot_confusion_matrix is deprecated; Function `plot_confusion_matrix` is deprecated in 1.0 and will be removed in 1.2. Use one of the class methods: ConfusionMatrixDisplay.from_predictions or ConfusionMatrixDisplay.from_estimator.\n",
      "  warnings.warn(msg, category=FutureWarning)\n"
     ]
    },
    {
     "data": {
      "text/plain": [
       "<sklearn.metrics._plot.confusion_matrix.ConfusionMatrixDisplay at 0x7f8d33ef6850>"
      ]
     },
     "execution_count": 37,
     "metadata": {},
     "output_type": "execute_result"
    },
    {
     "data": {
      "image/png": "[encoded data removed]",
      "text/plain": [
       "<Figure size 432x288 with 2 Axes>"
      ]
     },
     "metadata": {
      "needs_background": "light"
     },
     "output_type": "display_data"
    }
   ],
   "source": [
    "from sklearn.metrics import plot_confusion_matrix\n",
    "\n",
    "plot_confusion_matrix(final_xgb, X_test, y_test, values_format='d', display_labels=[\"CAD\", 'MI'])"
   ]
  },
  {
   "cell_type": "code",
   "execution_count": 38,
   "id": "Jf9bn4w7hWXi",
   "metadata": {
    "colab": {
     "base_uri": "https://localhost:8080/"
    },
    "id": "Jf9bn4w7hWXi",
    "outputId": "b5c9bc84-fcd7-4117-dc30-e124ba9f4fe1"
   },
   "outputs": [
    {
     "name": "stdout",
     "output_type": "stream",
     "text": [
      "              precision    recall  f1-score   support\n",
      "\n",
      "           0       0.79      0.79      0.79        14\n",
      "           1       0.91      0.91      0.91        34\n",
      "\n",
      "    accuracy                           0.88        48\n",
      "   macro avg       0.85      0.85      0.85        48\n",
      "weighted avg       0.88      0.88      0.88        48\n",
      "\n"
     ]
    }
   ],
   "source": [
    "pred=final_xgb.predict(X_test)\n",
    "print(classification_report(y_test, pred))"
   ]
  },
  {
   "cell_type": "code",
   "execution_count": null,
   "id": "d810fca2",
   "metadata": {},
   "outputs": [],
   "source": [
    "# Extracting Model File\n",
    "\n",
    "pickle_out=open('svm_8008885_7971661.pkl', \"wb\")\n",
    "pickle.dump(svm_7971661, pickle_out)\n",
    "pickle_out.close()"
   ]
  },
  {
   "cell_type": "markdown",
   "id": "a4d7BUsRf5Jz",
   "metadata": {
    "id": "a4d7BUsRf5Jz"
   },
   "source": [
    "#### Testing on test data"
   ]
  },
  {
   "cell_type": "code",
   "execution_count": 39,
   "id": "t0Xc6zxXiE1A",
   "metadata": {
    "colab": {
     "base_uri": "https://localhost:8080/"
    },
    "id": "t0Xc6zxXiE1A",
    "outputId": "fe06683d-8c14-41a0-908e-fc38836000a8"
   },
   "outputs": [
    {
     "data": {
      "text/plain": [
       "array([0, 0, 0, 0, 0, 0, 0, 0, 0, 0, 0, 0, 0, 0, 1, 1, 1, 1, 1, 1, 1, 1,\n",
       "       1, 1, 1, 1, 1, 1, 1, 1, 1, 1, 1, 1, 1, 1, 1, 1, 1, 1, 1, 1])"
      ]
     },
     "execution_count": 39,
     "metadata": {},
     "output_type": "execute_result"
    }
   ],
   "source": [
    "label_encoder=LabelEncoder()\n",
    "label_encoder = label_encoder.fit(y_final_test)\n",
    "y_binary_final_test = label_encoder.transform(y_final_test)\n",
    "\n",
    "y_binary_final_test"
   ]
  },
  {
   "cell_type": "code",
   "execution_count": 40,
   "id": "_SLPTtTXf4Dn",
   "metadata": {
    "colab": {
     "base_uri": "https://localhost:8080/",
     "height": 353
    },
    "id": "_SLPTtTXf4Dn",
    "outputId": "81de24cd-15b2-43a1-dca6-5935ccd08871"
   },
   "outputs": [
    {
     "name": "stderr",
     "output_type": "stream",
     "text": [
      "/Users/mehrdad/opt/anaconda3/lib/python3.9/site-packages/sklearn/utils/deprecation.py:87: FutureWarning: Function plot_confusion_matrix is deprecated; Function `plot_confusion_matrix` is deprecated in 1.0 and will be removed in 1.2. Use one of the class methods: ConfusionMatrixDisplay.from_predictions or ConfusionMatrixDisplay.from_estimator.\n",
      "  warnings.warn(msg, category=FutureWarning)\n"
     ]
    },
    {
     "data": {
      "text/plain": [
       "<sklearn.metrics._plot.confusion_matrix.ConfusionMatrixDisplay at 0x7f8d33e5cf70>"
      ]
     },
     "execution_count": 40,
     "metadata": {},
     "output_type": "execute_result"
    },
    {
     "data": {
      "image/png": "[encoded data removed]",
      "text/plain": [
       "<Figure size 432x288 with 2 Axes>"
      ]
     },
     "metadata": {
      "needs_background": "light"
     },
     "output_type": "display_data"
    }
   ],
   "source": [
    "from sklearn.metrics import plot_confusion_matrix\n",
    "\n",
    "plot_confusion_matrix(final_xgb, X_final_test[[7916984, 8008885, 8087881]], y_binary_final_test, values_format='d', display_labels=[\"CAD\", 'MI'])"
   ]
  },
  {
   "cell_type": "code",
   "execution_count": 41,
   "id": "aeVR634aiv0H",
   "metadata": {
    "colab": {
     "base_uri": "https://localhost:8080/"
    },
    "id": "aeVR634aiv0H",
    "outputId": "f2704966-03d8-44ff-e34b-e51adaab2a2f"
   },
   "outputs": [
    {
     "name": "stdout",
     "output_type": "stream",
     "text": [
      "              precision    recall  f1-score   support\n",
      "\n",
      "           0       1.00      0.50      0.67        14\n",
      "           1       0.80      1.00      0.89        28\n",
      "\n",
      "    accuracy                           0.83        42\n",
      "   macro avg       0.90      0.75      0.78        42\n",
      "weighted avg       0.87      0.83      0.81        42\n",
      "\n"
     ]
    }
   ],
   "source": [
    "pred=final_xgb.predict(X_final_test[[7916984, 8008885, 8087881]])\n",
    "print(classification_report(y_binary_final_test, pred))"
   ]
  },
  {
   "cell_type": "markdown",
   "id": "5beb83a5",
   "metadata": {},
   "source": [
    "# SVM"
   ]
  },
  {
   "cell_type": "raw",
   "id": "56f31a4f",
   "metadata": {},
   "source": [
    "X_train, X_test, y_train, y_test = train_test_split(X, y, test_size=0.3, random_state=1, stratify=y)\n",
    "\n",
    "X_train.shape, X_test.shape"
   ]
  },
  {
   "cell_type": "code",
   "execution_count": 48,
   "id": "ec65cb65",
   "metadata": {},
   "outputs": [
    {
     "data": {
      "text/plain": [
       "(0.8990825688073395, 0.8125)"
      ]
     },
     "execution_count": 48,
     "metadata": {},
     "output_type": "execute_result"
    }
   ],
   "source": [
    "svm=SVC(kernel=\"linear\", random_state=1)\n",
    "svm.fit(X_train, y_train)\n",
    "svm.score(X_train, y_train), svm.score(X_test, y_test)"
   ]
  },
  {
   "cell_type": "code",
   "execution_count": 56,
   "id": "7bd5ce23",
   "metadata": {},
   "outputs": [
    {
     "data": {
      "text/html": [
       "<div>\n",
       "<style scoped>\n",
       "    .dataframe tbody tr th:only-of-type {\n",
       "        vertical-align: middle;\n",
       "    }\n",
       "\n",
       "    .dataframe tbody tr th {\n",
       "        vertical-align: top;\n",
       "    }\n",
       "\n",
       "    .dataframe thead th {\n",
       "        text-align: right;\n",
       "    }\n",
       "</style>\n",
       "<table border=\"1\" class=\"dataframe\">\n",
       "  <thead>\n",
       "    <tr style=\"text-align: right;\">\n",
       "      <th>Unnamed: 0</th>\n",
       "      <th>7900488</th>\n",
       "      <th>7916984</th>\n",
       "      <th>7923976</th>\n",
       "      <th>7969574</th>\n",
       "      <th>7971661</th>\n",
       "      <th>8008885</th>\n",
       "      <th>8084755</th>\n",
       "      <th>8087881</th>\n",
       "      <th>8163107</th>\n",
       "    </tr>\n",
       "  </thead>\n",
       "  <tbody>\n",
       "    <tr>\n",
       "      <th>Feature Importance</th>\n",
       "      <td>0.392989</td>\n",
       "      <td>-0.676756</td>\n",
       "      <td>-0.328409</td>\n",
       "      <td>0.634798</td>\n",
       "      <td>-1.074674</td>\n",
       "      <td>1.646753</td>\n",
       "      <td>-0.975243</td>\n",
       "      <td>-1.680179</td>\n",
       "      <td>1.003489</td>\n",
       "    </tr>\n",
       "  </tbody>\n",
       "</table>\n",
       "</div>"
      ],
      "text/plain": [
       "Unnamed: 0           7900488   7916984   7923976   7969574   7971661  \\\n",
       "Feature Importance  0.392989 -0.676756 -0.328409  0.634798 -1.074674   \n",
       "\n",
       "Unnamed: 0           8008885   8084755   8087881   8163107  \n",
       "Feature Importance  1.646753 -0.975243 -1.680179  1.003489  "
      ]
     },
     "execution_count": 56,
     "metadata": {},
     "output_type": "execute_result"
    }
   ],
   "source": [
    "pd.DataFrame(svm.coef_, columns=X_train.columns, index=['Feature Importance'])"
   ]
  },
  {
   "cell_type": "code",
   "execution_count": 134,
   "id": "c3cc69f6",
   "metadata": {},
   "outputs": [
    {
     "data": {
      "text/plain": [
       "((109, 3), (48, 3))"
      ]
     },
     "execution_count": 134,
     "metadata": {},
     "output_type": "execute_result"
    }
   ],
   "source": [
    "X_temp=X[[8087881, 8008885, 7971661]]\n",
    "\n",
    "X_train, X_test, y_train, y_test = train_test_split(X_temp, y, test_size=0.3, random_state=2, stratify=y)\n",
    "\n",
    "X_train.shape, X_test.shape"
   ]
  },
  {
   "cell_type": "code",
   "execution_count": 135,
   "id": "c1517a20",
   "metadata": {},
   "outputs": [
    {
     "data": {
      "text/plain": [
       "(0.8532110091743119, 0.7916666666666666)"
      ]
     },
     "execution_count": 135,
     "metadata": {},
     "output_type": "execute_result"
    }
   ],
   "source": [
    "svm=SVC(kernel=\"rbf\", random_state=1)\n",
    "svm.fit(X_train, y_train)\n",
    "svm.score(X_train, y_train), svm.score(X_test, y_test)"
   ]
  },
  {
   "cell_type": "markdown",
   "id": "38189579",
   "metadata": {},
   "source": [
    "## Optimization"
   ]
  },
  {
   "cell_type": "code",
   "execution_count": 136,
   "id": "25006667",
   "metadata": {
    "id": "39c9cfd0"
   },
   "outputs": [],
   "source": [
    "# determine the hyperparameter space\n",
    "\n",
    "param_grid = [\n",
    "    Real(0.1, 100, name='C'),\n",
    "    Categorical(['rbf', 'linear', 'sigmoid'], name='kernel'),\n",
    "    Real(0.001, 1, name='gamma')\n",
    "]"
   ]
  },
  {
   "cell_type": "code",
   "execution_count": 137,
   "id": "520c28c0",
   "metadata": {
    "id": "ec7dff3f"
   },
   "outputs": [],
   "source": [
    "# set up SVM\n",
    "\n",
    "svm=SVC(random_state=1)"
   ]
  },
  {
   "cell_type": "code",
   "execution_count": 138,
   "id": "a464dc9f",
   "metadata": {
    "id": "c6bae6ca"
   },
   "outputs": [],
   "source": [
    "# We design a function to maximize the accuracy, of a GBM,\n",
    "# with cross-validation\n",
    "\n",
    "# the decorator allows our objective function to receive the parameters as\n",
    "# keyword arguments. This is a requirement of Scikit-Optimize.\n",
    "@use_named_args(param_grid)\n",
    "def objective(**params):\n",
    "    \n",
    "    # model with new parameters\n",
    "    svm.set_params(**params)\n",
    "\n",
    "    # optimization function (hyperparam response function)\n",
    "    value = np.mean(\n",
    "        cross_val_score(\n",
    "            svm, \n",
    "            X_train,\n",
    "            y_train,\n",
    "            cv=10,\n",
    "            n_jobs=-1,\n",
    "            scoring='accuracy')\n",
    "    )\n",
    "\n",
    "    # negate because we need to minimize\n",
    "    return -value"
   ]
  },
  {
   "cell_type": "markdown",
   "id": "f08bd8bc",
   "metadata": {
    "id": "0cf395bf"
   },
   "source": [
    "### Bayesian Optimization\n",
    "\n",
    "We are now ready for sequential model-based optimization. Here we use Gaussian process-based Optimization."
   ]
  },
  {
   "cell_type": "code",
   "execution_count": 139,
   "id": "a22e7027",
   "metadata": {
    "id": "a22e7027",
    "scrolled": true
   },
   "outputs": [],
   "source": [
    "# gp_minimize performs by default GP Optimization \n",
    "# using a Marten Kernel\n",
    "\n",
    "gp_ = gp_minimize(\n",
    "    objective, # the objective function to minimize\n",
    "    param_grid, # the hyperparameter space\n",
    "    n_initial_points=10, # the number of points to evaluate f(x) to start of\n",
    "    acq_func='EI', # the acquisition function\n",
    "    n_calls=200, # the number of subsequent evaluations of f(x)\n",
    "    random_state=0\n",
    ")"
   ]
  },
  {
   "cell_type": "code",
   "execution_count": 140,
   "id": "9701188e",
   "metadata": {
    "colab": {
     "base_uri": "https://localhost:8080/",
     "height": 35
    },
    "id": "9701188e",
    "outputId": "4fc91035-2fc1-438e-99da-00b4de33337e"
   },
   "outputs": [
    {
     "data": {
      "text/plain": [
       "'Best score=-0.8809'"
      ]
     },
     "execution_count": 140,
     "metadata": {},
     "output_type": "execute_result"
    }
   ],
   "source": [
    "\"Best score=%.4f\" % gp_.fun"
   ]
  },
  {
   "cell_type": "code",
   "execution_count": 141,
   "id": "7bcfe5af",
   "metadata": {
    "colab": {
     "base_uri": "https://localhost:8080/"
    },
    "id": "7bcfe5af",
    "outputId": "f9ca6574-8a6c-4306-ffad-09845a501339"
   },
   "outputs": [
    {
     "name": "stdout",
     "output_type": "stream",
     "text": [
      "Best parameters:\n",
      "=========================\n",
      "- C = 86.5769\n",
      "- kernel = rbf\n",
      "- gamma = 1.000000\n",
      "\n"
     ]
    }
   ],
   "source": [
    "print(\"\"\"Best parameters:\n",
    "=========================\n",
    "- C = %.4f\n",
    "- kernel = %s\n",
    "- gamma = %.6f\n",
    "\"\"\" % (gp_.x[0],\n",
    "       gp_.x[1],\n",
    "       gp_.x[2]\n",
    "      ))"
   ]
  },
  {
   "cell_type": "code",
   "execution_count": 143,
   "id": "84bde16c",
   "metadata": {},
   "outputs": [
    {
     "name": "stdout",
     "output_type": "stream",
     "text": [
      "0.05 0.844 0.771 0.810\n",
      "0.10 0.881 0.771 0.810\n",
      "0.15 0.917 0.708 0.810\n",
      "0.20 0.927 0.667 0.810\n",
      "0.25 0.936 0.688 0.833\n",
      "0.30 0.936 0.729 0.857\n",
      "0.35 0.927 0.729 0.833\n",
      "0.40 0.927 0.729 0.833\n",
      "0.45 0.927 0.729 0.810\n",
      "0.50 0.917 0.729 0.786\n",
      "0.55 0.927 0.708 0.810\n",
      "0.60 0.936 0.708 0.810\n",
      "0.65 0.945 0.708 0.810\n",
      "0.70 0.945 0.708 0.810\n",
      "0.75 0.954 0.729 0.833\n",
      "0.80 0.954 0.729 0.833\n",
      "0.85 0.954 0.729 0.833\n",
      "0.90 0.945 0.729 0.833\n",
      "0.95 0.945 0.750 0.833\n",
      "1.00 0.936 0.750 0.833\n",
      "1.05 0.927 0.771 0.833\n",
      "1.10 0.927 0.750 0.833\n",
      "1.15 0.927 0.750 0.833\n",
      "1.20 0.936 0.729 0.833\n",
      "1.25 0.936 0.729 0.833\n",
      "1.30 0.945 0.729 0.833\n",
      "1.35 0.945 0.750 0.833\n",
      "1.40 0.945 0.771 0.833\n",
      "1.45 0.945 0.771 0.833\n",
      "1.50 0.945 0.792 0.833\n",
      "1.55 0.945 0.792 0.833\n",
      "1.60 0.945 0.792 0.833\n",
      "1.65 0.945 0.792 0.833\n",
      "1.70 0.945 0.792 0.833\n",
      "1.75 0.945 0.792 0.833\n",
      "1.80 0.945 0.792 0.833\n",
      "1.85 0.945 0.792 0.833\n",
      "1.90 0.945 0.792 0.833\n",
      "1.95 0.945 0.792 0.833\n",
      "2.00 0.945 0.792 0.833\n",
      "2.05 0.945 0.792 0.833\n",
      "2.10 0.945 0.792 0.833\n",
      "2.15 0.945 0.792 0.833\n",
      "2.20 0.945 0.792 0.833\n",
      "2.25 0.945 0.792 0.833\n",
      "2.30 0.945 0.792 0.833\n",
      "2.35 0.954 0.812 0.857\n",
      "2.40 0.954 0.812 0.857\n",
      "2.45 0.954 0.812 0.857\n",
      "2.50 0.954 0.812 0.857\n",
      "2.55 0.954 0.833 0.857\n",
      "2.60 0.954 0.833 0.857\n",
      "2.65 0.954 0.833 0.857\n",
      "2.70 0.954 0.833 0.857\n",
      "2.75 0.954 0.833 0.857\n",
      "2.80 0.954 0.833 0.857\n",
      "2.85 0.954 0.833 0.857\n",
      "2.90 0.954 0.833 0.857\n",
      "2.95 0.954 0.833 0.857\n",
      "3.00 0.954 0.833 0.857\n",
      "3.05 0.954 0.833 0.857\n",
      "3.10 0.954 0.833 0.857\n",
      "3.15 0.954 0.833 0.857\n",
      "3.20 0.954 0.833 0.857\n",
      "3.25 0.954 0.833 0.857\n",
      "3.30 0.945 0.833 0.857\n",
      "3.35 0.945 0.833 0.857\n",
      "3.40 0.945 0.812 0.857\n",
      "3.45 0.945 0.792 0.857\n",
      "3.50 0.945 0.792 0.857\n",
      "3.55 0.936 0.792 0.857\n",
      "3.60 0.936 0.771 0.857\n",
      "3.65 0.936 0.771 0.857\n",
      "3.70 0.936 0.771 0.857\n",
      "3.75 0.936 0.771 0.857\n",
      "3.80 0.936 0.771 0.857\n",
      "3.85 0.936 0.771 0.857\n",
      "3.90 0.936 0.771 0.857\n",
      "3.95 0.936 0.771 0.857\n",
      "4.00 0.936 0.771 0.857\n",
      "4.05 0.936 0.750 0.833\n",
      "4.10 0.936 0.750 0.833\n",
      "4.15 0.936 0.750 0.833\n",
      "4.20 0.936 0.750 0.833\n",
      "4.25 0.936 0.750 0.833\n",
      "4.30 0.936 0.750 0.833\n",
      "4.35 0.936 0.750 0.833\n",
      "4.40 0.936 0.750 0.833\n",
      "4.45 0.936 0.750 0.833\n",
      "4.50 0.936 0.750 0.833\n",
      "4.55 0.936 0.750 0.833\n",
      "4.60 0.936 0.750 0.833\n",
      "4.65 0.936 0.750 0.833\n",
      "4.70 0.936 0.750 0.833\n",
      "4.75 0.936 0.750 0.833\n",
      "4.80 0.936 0.750 0.833\n",
      "4.85 0.936 0.750 0.833\n",
      "4.90 0.936 0.750 0.833\n",
      "4.95 0.936 0.750 0.833\n",
      "5.00 0.936 0.750 0.833\n"
     ]
    }
   ],
   "source": [
    "sample_weight=np.zeros(len(y_train))\n",
    "for i in range(0, 100):\n",
    "    a=0.05\n",
    "    a+=i*0.05\n",
    "    sample_weight[y_train == 'M'] = a\n",
    "    sample_weight[y_train == 'C'] = 1\n",
    "    svm=SVC(kernel=\"rbf\",\n",
    "            C=86.58,\n",
    "            gamma=1,\n",
    "            random_state=1,\n",
    "           # class_weight=weights\n",
    "           )\n",
    "    svm.fit(X_train, y_train, sample_weight=sample_weight)\n",
    "    print('%.2f' % a, '%.3f' % svm.score(X_train, y_train), '%.3f' % svm.score(X_test, y_test),\n",
    "         '%.3f' % svm.score(X_final_test[[8087881, 8008885, 7971661]], y_final_test))"
   ]
  },
  {
   "cell_type": "code",
   "execution_count": 144,
   "id": "b10be5e9",
   "metadata": {},
   "outputs": [],
   "source": [
    "sample_weight=np.zeros(len(y_train))\n",
    "sample_weight[y_train == 'M'] = 3\n",
    "sample_weight[y_train == 'C'] = 1"
   ]
  },
  {
   "cell_type": "code",
   "execution_count": 146,
   "id": "0abfd5f9",
   "metadata": {},
   "outputs": [
    {
     "name": "stdout",
     "output_type": "stream",
     "text": [
      "Mean ROC AUC: 0.867\n"
     ]
    }
   ],
   "source": [
    "svm=SVC(kernel=\"rbf\",\n",
    "            C=87,\n",
    "            gamma=1.0,\n",
    "            random_state=1,\n",
    "            class_weight={'C':1, 'M':3})\n",
    "cv = StratifiedKFold(n_splits=10)\n",
    "scores = cross_val_score(svm, X_train, y_train, scoring='roc_auc', cv=cv, n_jobs=-1)\n",
    "print('Mean ROC AUC: %.3f' % np.mean(scores))"
   ]
  },
  {
   "cell_type": "code",
   "execution_count": 147,
   "id": "83a3edaf",
   "metadata": {},
   "outputs": [
    {
     "data": {
      "text/plain": [
       "(0.9541284403669725, 0.8333333333333334, 0.8571428571428571)"
      ]
     },
     "execution_count": 147,
     "metadata": {},
     "output_type": "execute_result"
    }
   ],
   "source": [
    "svm=SVC(kernel=\"rbf\",\n",
    "            C=87,\n",
    "            gamma=1.0,\n",
    "            random_state=1,\n",
    "            class_weight={'C':1, 'M':3})\n",
    "svm.fit(X_train, y_train)\n",
    "svm.score(X_train, y_train), svm.score(X_test, y_test), svm.score(X_final_test[[8087881, 8008885, 7971661]], y_final_test)"
   ]
  },
  {
   "cell_type": "code",
   "execution_count": 37,
   "id": "u8nkoEldfpi1",
   "metadata": {
    "colab": {
     "base_uri": "https://localhost:8080/",
     "height": 353
    },
    "id": "u8nkoEldfpi1",
    "outputId": "90b28cab-6a7b-4d40-9e4f-aa0e2a134204"
   },
   "outputs": [
    {
     "name": "stderr",
     "output_type": "stream",
     "text": [
      "/Users/mehrdad/opt/anaconda3/lib/python3.9/site-packages/sklearn/utils/deprecation.py:87: FutureWarning: Function plot_confusion_matrix is deprecated; Function `plot_confusion_matrix` is deprecated in 1.0 and will be removed in 1.2. Use one of the class methods: ConfusionMatrixDisplay.from_predictions or ConfusionMatrixDisplay.from_estimator.\n",
      "  warnings.warn(msg, category=FutureWarning)\n"
     ]
    },
    {
     "data": {
      "text/plain": [
       "<sklearn.metrics._plot.confusion_matrix.ConfusionMatrixDisplay at 0x7f8d33ef6850>"
      ]
     },
     "execution_count": 37,
     "metadata": {},
     "output_type": "execute_result"
    },
    {
     "data": {
      "image/png": "[encoded data removed]",
      "text/plain": [
       "<Figure size 432x288 with 2 Axes>"
      ]
     },
     "metadata": {
      "needs_background": "light"
     },
     "output_type": "display_data"
    }
   ],
   "source": [
    "from sklearn.metrics import plot_confusion_matrix\n",
    "\n",
    "plot_confusion_matrix(svm, X_test, y_test, values_format='d', display_labels=[\"CAD\", 'MI'])"
   ]
  },
  {
   "cell_type": "code",
   "execution_count": 112,
   "id": "Jf9bn4w7hWXi",
   "metadata": {
    "colab": {
     "base_uri": "https://localhost:8080/"
    },
    "id": "Jf9bn4w7hWXi",
    "outputId": "b5c9bc84-fcd7-4117-dc30-e124ba9f4fe1"
   },
   "outputs": [
    {
     "name": "stdout",
     "output_type": "stream",
     "text": [
      "              precision    recall  f1-score   support\n",
      "\n",
      "           C       0.67      0.86      0.75        14\n",
      "           M       0.93      0.82      0.87        34\n",
      "\n",
      "    accuracy                           0.83        48\n",
      "   macro avg       0.80      0.84      0.81        48\n",
      "weighted avg       0.86      0.83      0.84        48\n",
      "\n"
     ]
    }
   ],
   "source": [
    "pred=svm.predict(X_test)\n",
    "print(classification_report(y_test, pred))"
   ]
  },
  {
   "cell_type": "markdown",
   "id": "a4d7BUsRf5Jz",
   "metadata": {
    "id": "a4d7BUsRf5Jz"
   },
   "source": [
    "#### Testing on test data"
   ]
  },
  {
   "cell_type": "code",
   "execution_count": 113,
   "id": "_SLPTtTXf4Dn",
   "metadata": {
    "colab": {
     "base_uri": "https://localhost:8080/",
     "height": 353
    },
    "id": "_SLPTtTXf4Dn",
    "outputId": "81de24cd-15b2-43a1-dca6-5935ccd08871"
   },
   "outputs": [
    {
     "name": "stderr",
     "output_type": "stream",
     "text": [
      "/Users/mehrdad/opt/anaconda3/lib/python3.9/site-packages/sklearn/utils/deprecation.py:87: FutureWarning: Function plot_confusion_matrix is deprecated; Function `plot_confusion_matrix` is deprecated in 1.0 and will be removed in 1.2. Use one of the class methods: ConfusionMatrixDisplay.from_predictions or ConfusionMatrixDisplay.from_estimator.\n",
      "  warnings.warn(msg, category=FutureWarning)\n"
     ]
    },
    {
     "data": {
      "text/plain": [
       "<sklearn.metrics._plot.confusion_matrix.ConfusionMatrixDisplay at 0x7f8d61017550>"
      ]
     },
     "execution_count": 113,
     "metadata": {},
     "output_type": "execute_result"
    },
    {
     "data": {
      "image/png": "[encoded data removed]",
      "text/plain": [
       "<Figure size 432x288 with 2 Axes>"
      ]
     },
     "metadata": {
      "needs_background": "light"
     },
     "output_type": "display_data"
    }
   ],
   "source": [
    "from sklearn.metrics import plot_confusion_matrix\n",
    "\n",
    "plot_confusion_matrix(svm, X_final_test[[8087881, 8008885, 7971661]], y_final_test, values_format='d', display_labels=[\"CAD\", 'MI'])"
   ]
  },
  {
   "cell_type": "code",
   "execution_count": 116,
   "id": "aeVR634aiv0H",
   "metadata": {
    "colab": {
     "base_uri": "https://localhost:8080/"
    },
    "id": "aeVR634aiv0H",
    "outputId": "f2704966-03d8-44ff-e34b-e51adaab2a2f"
   },
   "outputs": [
    {
     "name": "stdout",
     "output_type": "stream",
     "text": [
      "              precision    recall  f1-score   support\n",
      "\n",
      "           C       0.90      0.64      0.75        14\n",
      "           M       0.84      0.96      0.90        28\n",
      "\n",
      "    accuracy                           0.86        42\n",
      "   macro avg       0.87      0.80      0.82        42\n",
      "weighted avg       0.86      0.86      0.85        42\n",
      "\n"
     ]
    }
   ],
   "source": [
    "pred=svm.predict(X_final_test[[8087881, 8008885, 7971661]])\n",
    "print(classification_report(y_final_test, pred))"
   ]
  },
  {
   "cell_type": "markdown",
   "id": "16ec3cb2",
   "metadata": {},
   "source": [
    "# ANN"
   ]
  },
  {
   "cell_type": "code",
   "execution_count": null,
   "id": "1d15a4a9",
   "metadata": {},
   "outputs": [],
   "source": []
  }
 ],
 "metadata": {
  "colab": {
   "name": "frma_seperate.ipynb",
   "provenance": []
  },
  "kernelspec": {
   "display_name": "Python 3 (ipykernel)",
   "language": "python",
   "name": "python3"
  },
  "language_info": {
   "codemirror_mode": {
    "name": "ipython",
    "version": 3
   },
   "file_extension": ".py",
   "mimetype": "text/x-python",
   "name": "python",
   "nbconvert_exporter": "python",
   "pygments_lexer": "ipython3",
   "version": "3.9.7"
  }
 },
 "nbformat": 4,
 "nbformat_minor": 5
}
